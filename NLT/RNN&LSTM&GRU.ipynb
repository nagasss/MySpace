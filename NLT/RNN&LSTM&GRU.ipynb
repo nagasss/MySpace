{
 "cells": [
  {
   "cell_type": "markdown",
   "id": "612df648",
   "metadata": {},
   "source": [
    "# 순차 데이터(sequential data)\n",
    "\n",
    "- 텍스트나 시계열 데이터(time series data)와 같이 순서에 의미가 있는 데이터\n",
    "    - 예) \"I am a boy\"는 의미를 이해할 수 있지만 \"boy am I a\"는 의미를 이해할 수 없음\n",
    "    - 일별 온도 데이터에서 날짜 순서가 섞인다면 내일의 온도를 쉽게 예상하기 어려움\n",
    "    \n",
    "- 감성분석에서는 이전에 입력된 데이터를 기억하는 기능이 중요할 수 있음\n",
    "    - 예) \"별로지만 추천해요\"에서 \"추천해요\"를 해석할 때 앞의 \"별로지만\"을 기억하고 있어야 무조건 긍정이라고 판단하지 않는다.\n",
    "    - 퍼셉트론이나 CNN은 이런 기억장치가 없음\n",
    "        - 하나의 배치를 사용하여 정방향 연산을 수행하고 나면 해당 샘플은 다음 샘플을 처리할 때 사용하지 않음\n",
    "        - 이처럼 입력 데이터의 흐름이 앞으로만 전달되는 신경망을 피드포워드 신경망(feedforward neural network:FFNN)이라고 함\n",
    "    - 신경망이 이전에 처리했던 샘플을 다음 샘플을 처리할 때 재사용하기 위해서는 데이터가 신경망 층에서 순환을 해야 함"
   ]
  },
  {
   "cell_type": "markdown",
   "id": "c948efa3",
   "metadata": {},
   "source": [
    "# 순환 신경망(recurrent neural network : RNN)\n",
    "<img src = \"./image/rnn.png\">"
   ]
  },
  {
   "cell_type": "markdown",
   "id": "5baf2d67",
   "metadata": {},
   "source": [
    "## 순환 신경망 구조\n",
    "\n",
    "- 피드포워드 신경망에 이전 데이터의 처리 흐름을 순환하는 고리 하나만 추가된 형태\n",
    "    - 바로 이전에 사용했던 데이터를 재사용하는 구조"
   ]
  },
  {
   "cell_type": "markdown",
   "id": "7554f655",
   "metadata": {},
   "source": [
    "<img src = \"./image/rnn_image1.png\">"
   ]
  },
  {
   "cell_type": "markdown",
   "id": "378defe1",
   "metadata": {},
   "source": [
    "1. 첫 번째 샘플 x0을 처리하고 출력 h0이 다시 뉴런으로 입력됨\n",
    "    - h0에는 x0에 대한 정보가 포함되어 있음\n",
    "    \n",
    "2. x1을 처리할 때 h0을 함께 사용\n",
    "    - h0과 x1을 사용해서 만든 h1에는 x0에 대한 정보가 어느 정도 포함되어 있음\n",
    "    \n",
    "3. x2를 처리할 때 h1을 함께 사용\n",
    "    - 결과물 h2에는 x1과 x0에 대한 정보도 담겨있음\n",
    "    \n",
    "- 위의 과정처럼 샘플을 처리하는 각 단계를 타임스텝(timestep)이라고 말함\n",
    "    - 순환 신경망은 이전 타임스텝의 샘플을 기억한다.\n",
    "\n",
    "- 타입스텝이 오래될수록 순환되는 정보는 희미해짐\n",
    "\n",
    "- 순환신경망에서는 layer를 셀(cell)이라고 부른다.\n",
    "    - 하지만 입력에 가중치를 곱하고 활성화 함수를 통과시켜 다음 층으로 전달하는 기본 구조는 똑같음\n",
    "    - 한 셀에는 여러 개의 뉴런이 있지만 일반적으로 모든 뉴런을 표시하지 않고 하나의 셀로 층을 표현한다.\n",
    "    \n",
    "- 셀의 출력은 은닉 상태(hidden state)라고 부름"
   ]
  },
  {
   "cell_type": "markdown",
   "id": "5d28d858",
   "metadata": {},
   "source": [
    "\n",
    "## 하이퍼볼릭 탄젠트 함수\n",
    "\n",
    "<img src = \"./image/tanh.png\">"
   ]
  },
  {
   "cell_type": "markdown",
   "id": "2af80b00",
   "metadata": {},
   "source": [
    "- 일반적으로 은닉층의 활성화 함수로는 하이퍼볼릭 탄젠트(hyperbolic tangent)함수인 tanh가 많이 활용된다.\n",
    "    - tanh함수는 -1 ~ 1 사이의 범위를 가짐\n",
    "    - RNN은 미분 계산이 많이 들어간다. 시그모이드는 미분의 최대값이 0.2정도 된다고 한다. 미분하고 계산하다보면 기울기 값이 점점 소실되는 문제가 있다. 하이퍼볼릭 탄젠트는 미분 최대값이 1.0으로 되어서 기울기가 소실되는 문제가 생기지 않아서 사용한다."
   ]
  },
  {
   "cell_type": "markdown",
   "id": "5e4bdec3",
   "metadata": {},
   "source": [
    "## 가중치 공유\n",
    "\n",
    "<img src = \"./image/rnn_weight.png\">"
   ]
  },
  {
   "cell_type": "markdown",
   "id": "4c95301c",
   "metadata": {},
   "source": [
    "- 순환 신경망도 피드포워드 신경망과 같이 입력값과 가중치를 곱하지만 이전 타임스텝의 은닉상태에 곱해지는 가중치가 하나 더 있음\n",
    "- 모든 타임스텝에서 사용되는 가중치 w는 하나임\n",
    "    - 가중치 w는 타임스텝에 따라 변화되는 뉴런의 출력을 학습\n",
    "- 맨 처음 타임스텝1에서 사용되는 이전 은닉상태 h0은 이전 타임스텝이 없기 때문에 0으로 초기화"
   ]
  },
  {
   "cell_type": "markdown",
   "id": "2f20daa4",
   "metadata": {},
   "source": [
    "## 파라미터 수\n",
    "\n",
    "<img src = \"./image/rnn_param.png\">"
   ]
  },
  {
   "cell_type": "markdown",
   "id": "42647cdb",
   "metadata": {},
   "source": [
    "- 각 뉴런의 은닉 상태가 다음 스텝에 재사용될 때 모든 뉴런에 값이 전달된다.\n",
    "    - 즉, 이전 타임스텝의 은닉 상태는 다음 타임스텝의 모든 뉴런에 완전연결됨\n",
    "- 순환신경망의 파라미터 수 = (유닛 수 * 유닛 수) + (입력값의 수 * 유닛 수) + 유닛 수\n",
    "\n",
    "- i를 4가지 방법으로 해석하고 am이 들어와 4개의 유닛에 들어올 때 i를 다 갖다 쓴다.\n",
    "\n",
    "    - 첫 번째 방법으로 해석한 유닛이 자기가 해석한 i의 정보도 받고 2번째 유닛이 해석한 정보, 3,4번째 유닛이 해석한 정보도 받아 취합해서       am을 해석한다.\n",
    "\n",
    "- boy가 입력되면 1번째 유닛은 i와 am이라는 정보를 해석한 것이 있고 2번째, 3,4번째도 가지고 있다. 이 정보로 boy를 해석한다.\n",
    "\n",
    "- 파라미터 수 : unit개수 * unit개수 + input개수 * unit개수 + y절편"
   ]
  },
  {
   "cell_type": "markdown",
   "id": "e6813414",
   "metadata": {},
   "source": [
    "## 입력\n",
    "\n",
    "- 합성곱 층의 입력은 하나의 샘플이 3개의 차원을 가진다\n",
    "    - 너비, 높이, 채널\n",
    "    \n",
    "- 순화층은 일반적으로 샘플마다 2개의 차원을 가짐\n",
    "    - 하나의 샘플을 하나의 시퀀스(sequence)라고 말함\n",
    "    - 하나의 시퀀스 안에는 여러 개의 아이템이 들어 있음\n",
    "    - 시퀀스의 길이(단어 수)가 타임 스텝의 길이가 됨\n",
    "        - 예) 샘플 \"I am a boy\"는 4개의 아이템으로 구성된 시퀀스\n",
    "        - 각 아이템을 3개의 숫자로 표현한다면 타임스텝의 크기는 (1, 4, 3), (배치차원, 아이템 수, 몇개의 숫자로 표현하나)\n",
    "        \n",
    "- 입력이 순환층을 통과하면 순환층의 뉴런 개수만큼 출력됨\n",
    "    - 하나의 샘플은 (단어의 개수, 단어 표현)의 2차원 배열 (I am a boy는 (4, 3))\n",
    "    - 순환층을 통과하면 1차원 배열로 바뀜\n",
    "        - 이 1차원 배열의 크기는 순환층의 뉴런의 개수\n",
    "    - 기본적으로 순환층은 마지막 타임스텝의 은닉 상태만 출력으로 내보냄\n",
    "        - 입력된 시퀀스를 모두 읽어서 정보를 마지막 은닉 상태에 압축하여 전달\n",
    "        \n",
    "- 이미지 일때, (50000, 28, 28, 1)\n",
    "    - 1개의 차원을 가진 28x28이미지가 50,000개\n",
    "- 문자일 때 (10000, 10, 3)\n",
    "    - 3개의 숫자로 표현하는 10개의 단어를 가진 문장 10,000개\n",
    "    \n",
    "- 만약 순환층을 여러 개 쌓는다면\n",
    "    - 순환층의 입력은 샘플마다 타임스텝과 단어 표현으로 이루어진 2차원 배열이어야 함\n",
    "        - 첫 번째 셀이 마지막 타임스텝의 은닉 상태만 출력한다면 입력 형식이 맞지 않음\n",
    "        - 이 경우에는 마지막 셀을 제외한 모든 셀은 모든 타임스텝의 은닉 상태를 출력\n",
    "        - 마지막 셀은 마지막 타임스텝의 은닉 상태만 출력"
   ]
  },
  {
   "cell_type": "markdown",
   "id": "748ceda9",
   "metadata": {},
   "source": [
    "## 출력\n",
    "\n",
    "- 순환 신경망도 합성곱 신경망과 마찬가지로 마지막에 밀집층을 두어 클래스를 분류\n",
    "    - 다중 분류 : 출력층에 클래스 개수만큼 뉴런을 두고 소프트맥스 출력층 함수 사용\n",
    "    - 이진 분류 : 하나의 뉴런을 두고 시그모이드 출력층 함수 사용\n",
    "    \n",
    "- 합성곱 신경망과의 차이점은 마지막 셀이ㅡ 출력이 1차원이기 때문에 Flatten이 필요 없음"
   ]
  },
  {
   "cell_type": "markdown",
   "id": "930a8f16",
   "metadata": {},
   "source": [
    "## 데이터 준비"
   ]
  },
  {
   "cell_type": "code",
   "execution_count": 1,
   "id": "06b7da6e",
   "metadata": {},
   "outputs": [],
   "source": [
    "from tensorflow.keras.datasets import imdb\n",
    "from tensorflow.keras.preprocessing.sequence import pad_sequences\n",
    "from tensorflow import keras\n",
    "from tensorflow.keras.models import Sequential\n",
    "from tensorflow.keras.layers import SimpleRNN, LSTM, GRU, Embedding\n",
    "from sklearn.model_selection import train_test_split\n",
    "import numpy as np\n",
    "import matplotlib.pyplot as plt"
   ]
  },
  {
   "cell_type": "code",
   "execution_count": 2,
   "id": "138e3c5f",
   "metadata": {},
   "outputs": [],
   "source": [
    "# 전체 데이터셋에서 가장 자주 등장하는 단어 500개만 사용\n",
    "# num_words : 단어 빈도가 많은 순서로 num_words만큼 보존한다\n",
    "num_words = 500\n",
    "(x_train, y_train), (x_test, y_test) = imdb.load_data(num_words = num_words)"
   ]
  },
  {
   "cell_type": "code",
   "execution_count": 3,
   "id": "9a400168",
   "metadata": {},
   "outputs": [
    {
     "name": "stdout",
     "output_type": "stream",
     "text": [
      "(25000,) (25000,)\n"
     ]
    }
   ],
   "source": [
    "# 훈련 세트, 테스트 세트의 크기 확인\n",
    "print(x_train.shape, x_test.shape)"
   ]
  },
  {
   "cell_type": "code",
   "execution_count": 4,
   "id": "4fb7e2a8",
   "metadata": {},
   "outputs": [
    {
     "data": {
      "text/plain": [
       "(218, 189)"
      ]
     },
     "execution_count": 4,
     "metadata": {},
     "output_type": "execute_result"
    }
   ],
   "source": [
    "# 리뷰의 길이 출력\n",
    "\n",
    "len(x_train[0]), len(x_train[1])"
   ]
  },
  {
   "cell_type": "markdown",
   "id": "702690b6",
   "metadata": {},
   "source": [
    "- 첫번째 문장의 길이는 218, 두번째 문장의 길이는 189로 문장의 길이가 제각각이다"
   ]
  },
  {
   "cell_type": "code",
   "execution_count": 5,
   "id": "658c3edf",
   "metadata": {},
   "outputs": [
    {
     "data": {
      "text/plain": [
       "list"
      ]
     },
     "execution_count": 5,
     "metadata": {},
     "output_type": "execute_result"
    }
   ],
   "source": [
    "# 리스트로 묶여 있다, 다차원 배열이 아님\n",
    "type(x_train[0])"
   ]
  },
  {
   "cell_type": "markdown",
   "id": "0b5e8fd9",
   "metadata": {},
   "source": [
    "- 각각 25000개의 샘플로 이루어져 있음\n",
    "- 텍스트 길이가 제각각임\n",
    "    - 고정 크기의 2차원 배열에 담는 것 보다 리뷰마다 별도의 파이썬 리스트로 담아야 메모리를 효율적으로 사용할 수 있다.\n",
    "    "
   ]
  },
  {
   "cell_type": "code",
   "execution_count": 6,
   "id": "21c50f92",
   "metadata": {},
   "outputs": [
    {
     "name": "stdout",
     "output_type": "stream",
     "text": [
      "[1, 14, 22, 16, 43, 2, 2, 2, 2, 65, 458, 2, 66, 2, 4, 173, 36, 256, 5, 25, 100, 43, 2, 112, 50, 2, 2, 9, 35, 480, 284, 5, 150, 4, 172, 112, 167, 2, 336, 385, 39, 4, 172, 2, 2, 17, 2, 38, 13, 447, 4, 192, 50, 16, 6, 147, 2, 19, 14, 22, 4, 2, 2, 469, 4, 22, 71, 87, 12, 16, 43, 2, 38, 76, 15, 13, 2, 4, 22, 17, 2, 17, 12, 16, 2, 18, 2, 5, 62, 386, 12, 8, 316, 8, 106, 5, 4, 2, 2, 16, 480, 66, 2, 33, 4, 130, 12, 16, 38, 2, 5, 25, 124, 51, 36, 135, 48, 25, 2, 33, 6, 22, 12, 215, 28, 77, 52, 5, 14, 407, 16, 82, 2, 8, 4, 107, 117, 2, 15, 256, 4, 2, 7, 2, 5, 2, 36, 71, 43, 2, 476, 26, 400, 317, 46, 7, 4, 2, 2, 13, 104, 88, 4, 381, 15, 297, 98, 32, 2, 56, 26, 141, 6, 194, 2, 18, 4, 226, 22, 21, 134, 476, 26, 480, 5, 144, 30, 2, 18, 51, 36, 28, 224, 92, 25, 104, 4, 226, 65, 16, 38, 2, 88, 12, 16, 283, 5, 16, 2, 113, 103, 32, 15, 16, 2, 19, 178, 32]\n"
     ]
    }
   ],
   "source": [
    "# 첫번째 리뷰 출력\n",
    "print(x_train[0])"
   ]
  },
  {
   "cell_type": "code",
   "execution_count": 7,
   "id": "abbf3f19",
   "metadata": {},
   "outputs": [
    {
     "name": "stdout",
     "output_type": "stream",
     "text": [
      "[1 0 0 1 0 0 1 0 1 0 1 0 0 0 0 0 1 1 0 1]\n"
     ]
    }
   ],
   "source": [
    "# 타깃 데이터\n",
    "# 0: 부정, 1 : 긍정\n",
    "print(y_train[:20])"
   ]
  },
  {
   "cell_type": "code",
   "execution_count": 8,
   "id": "b9aa780c",
   "metadata": {},
   "outputs": [],
   "source": [
    "x_train, x_val, y_train, y_val = train_test_split(x_train, y_train, test_size = 0.2, random_state = 8)"
   ]
  },
  {
   "cell_type": "markdown",
   "id": "c5f68b17",
   "metadata": {},
   "source": [
    "### 각 리뷰의 길의 확인\n",
    "\n",
    "- 각 리뷰의 길이를 넘파이 배열로 담아 평균 리뷰 길이, 길이 최솟값, 길이 최댓값을 확인하자"
   ]
  },
  {
   "cell_type": "code",
   "execution_count": 9,
   "id": "1e228310",
   "metadata": {},
   "outputs": [],
   "source": [
    "lengths = np.array([len(x) for x in x_train])"
   ]
  },
  {
   "cell_type": "code",
   "execution_count": 10,
   "id": "1cd1aaf4",
   "metadata": {},
   "outputs": [
    {
     "name": "stdout",
     "output_type": "stream",
     "text": [
      "237.84055 178.0 11 2494\n"
     ]
    }
   ],
   "source": [
    "# 길이 평균값과 중간값\n",
    "print(np.mean(lengths), np.median(lengths), np.min(lengths), np.max(lengths))"
   ]
  },
  {
   "cell_type": "code",
   "execution_count": 26,
   "id": "c221acce",
   "metadata": {},
   "outputs": [
    {
     "data": {
      "image/png": "[encoded data removed]",
      "text/plain": [
       "<Figure size 640x480 with 1 Axes>"
      ]
     },
     "metadata": {},
     "output_type": "display_data"
    }
   ],
   "source": [
    "plt.figure()\n",
    "\n",
    "plt.hist(lengths)\n",
    "\n",
    "plt.xlabel(\"length\")\n",
    "plt.ylabel(\"frequency\")\n",
    "plt.grid()"
   ]
  },
  {
   "cell_type": "markdown",
   "id": "d9456031",
   "metadata": {},
   "source": [
    "- 평균이 중간값보다 높은 이유는 아주 큰 데이터가 있기 때문\n",
    "- 대부분의 리뷰는 짧기 때문에 이번 예제에서는 리뷰의 길이를 100에 맞추서 사용\n",
    "    - 100보다 짧으니 리뷰는 길이를 100에 맞추기 위해 패딩이 필요\n",
    "        - 패딩을 나타내는 토큰으로는 0을 사용 (아무것도 없는 빈칸을 사용하기 때문)"
   ]
  },
  {
   "cell_type": "code",
   "execution_count": 27,
   "id": "0b69318d",
   "metadata": {},
   "outputs": [],
   "source": [
    "# x_train의 길이를 100으로 맞추자\n",
    "# 100보다 길면 100으로 짜르고, 100보다 짧으면 0으로 패딩하여 100의 길이로 맞춰준다.\n",
    "max_len = 100\n",
    "train_seq = pad_sequences(x_train, maxlen = max_len)"
   ]
  },
  {
   "cell_type": "code",
   "execution_count": 28,
   "id": "de7f8d8c",
   "metadata": {},
   "outputs": [
    {
     "name": "stdout",
     "output_type": "stream",
     "text": [
      "(20000, 100)\n"
     ]
    }
   ],
   "source": [
    "# train_seq 크기 확인\n",
    "print(train_seq.shape)"
   ]
  },
  {
   "cell_type": "code",
   "execution_count": 29,
   "id": "83d03e3f",
   "metadata": {},
   "outputs": [
    {
     "name": "stdout",
     "output_type": "stream",
     "text": [
      "[ 81  13   2  18   2   2  11   4   2   2   5  33  31 213  16   2   8   2\n",
      "   6   2   2  13 258  14  22  11   4   2   2   2  12  33   4   2   6   2\n",
      "   7  84 188   2   2   5  69   8   2   4   2   2  91   7  98 303 301  13\n",
      " 115   2   6   2   2 100  30  38 394  14  22   5 160   2   2   9 434   2\n",
      "  11  94  91   2   2   2 115   2  12  13  64   2  13 100  28 258   6   2\n",
      "  54  61 476  71   2   2   2  11 312 396]\n",
      "100\n"
     ]
    }
   ],
   "source": [
    "print(train_seq[0])\n",
    "print(len(train_seq[0]))"
   ]
  },
  {
   "cell_type": "code",
   "execution_count": 30,
   "id": "191c3025",
   "metadata": {},
   "outputs": [
    {
     "name": "stdout",
     "output_type": "stream",
     "text": [
      "[1, 13, 219, 14, 22, 11, 94, 2, 11, 4, 2, 2, 422, 12, 9, 2, 5, 100, 30, 4, 2, 7, 4, 2, 7, 341, 201, 2, 11, 4, 2, 2, 2, 4, 2, 7, 38, 446, 2, 2, 134, 2, 14, 31, 144, 30, 2, 2, 18, 316, 2, 8, 2, 8, 2, 54, 25, 67, 2, 341, 11, 32, 94, 2, 189, 25, 434, 48, 25, 28, 101, 2, 33, 32, 79, 6, 2, 2, 23, 4, 2, 2, 8, 2, 2, 51, 31, 2, 7, 2, 42, 2, 33, 4, 2, 70, 81, 13, 2, 18, 2, 2, 11, 4, 2, 2, 5, 33, 31, 213, 16, 2, 8, 2, 6, 2, 2, 13, 258, 14, 22, 11, 4, 2, 2, 2, 12, 33, 4, 2, 6, 2, 7, 84, 188, 2, 2, 5, 69, 8, 2, 4, 2, 2, 91, 7, 98, 303, 301, 13, 115, 2, 6, 2, 2, 100, 30, 38, 394, 14, 22, 5, 160, 2, 2, 9, 434, 2, 11, 94, 91, 2, 2, 2, 115, 2, 12, 13, 64, 2, 13, 100, 28, 258, 6, 2, 54, 61, 476, 71, 2, 2, 2, 11, 312, 396]\n"
     ]
    }
   ],
   "source": [
    "print(x_train[0])"
   ]
  },
  {
   "cell_type": "code",
   "execution_count": 31,
   "id": "30cc98ab",
   "metadata": {},
   "outputs": [
    {
     "name": "stdout",
     "output_type": "stream",
     "text": [
      "[12, 13, 64, 2, 13, 100, 28, 258, 6, 2, 54, 61, 476, 71, 2, 2, 2, 11, 312, 396]\n"
     ]
    }
   ],
   "source": [
    "print(x_train[0][-20:])"
   ]
  },
  {
   "cell_type": "markdown",
   "id": "9dcdf23b",
   "metadata": {},
   "source": [
    "- pad_sequences() 함수는 기본적으로 maxlen보다 긴 시퀀스의 앞부분을 잘라냄\n",
    "    - 일반적으로 시퀀스의 뒷부분의 정보가 더 유용하기 때문에\n",
    "        - 리뷰끝에 결정적인 소감을 말할 가능성이 높기 때문\n",
    "    - 시퀀스의 뒷부분을 잘라내고 싶다면\n",
    "        - truncating 매개변수 값을 \"post\"로 바꿔주면 된다.\n",
    "            - 기본값은 \"pre\" (앞부분을 자른다)"
   ]
  },
  {
   "cell_type": "code",
   "execution_count": 32,
   "id": "68e58eb2",
   "metadata": {
    "scrolled": true
   },
   "outputs": [
    {
     "data": {
      "text/plain": [
       "array([  0,   0,   0,   0,   0,   0,   0,   0,   0,   0,   0,   0,   0,\n",
       "         0,   0,   0,   0,   0,   0,   0,   1,  14,   9,   6, 128,   2,\n",
       "         7,   4, 274,  74,   4,  31,  19,   2, 261,  13, 423,  15,  31,\n",
       "        99,  12, 218,  38,  76,  15,   2,   9, 128,  36,  26, 199,  55,\n",
       "        52,  21,  15,   4,   2,   9, 128,   2,   9,   6,   2,  33,   2,\n",
       "         2,  18,   2,   5,   4, 365,   2, 133,  26,  55,  52,  45,  24,\n",
       "       179,  17,   2,  17,   4, 363,   2,  21,  45, 491,   5,  13, 197,\n",
       "        15,   4,   2,   5,   4,   2, 165,   2, 128])"
      ]
     },
     "execution_count": 32,
     "metadata": {},
     "output_type": "execute_result"
    }
   ],
   "source": [
    "train_seq[2]"
   ]
  },
  {
   "cell_type": "markdown",
   "id": "ebac2fa1",
   "metadata": {},
   "source": [
    "- 뒷부분에 중요한 단서가 있을 가능성이 높다고 생각하기 때문에 앞쪽에 0을 붙여준다."
   ]
  },
  {
   "cell_type": "code",
   "execution_count": 33,
   "id": "6dbf9898",
   "metadata": {},
   "outputs": [
    {
     "name": "stdout",
     "output_type": "stream",
     "text": [
      "[1, 14, 9, 6, 128, 2, 7, 4, 274, 74, 4, 31, 19, 2, 261, 13, 423, 15, 31, 99, 12, 218, 38, 76, 15, 2, 9, 128, 36, 26, 199, 55, 52, 21, 15, 4, 2, 9, 128, 2, 9, 6, 2, 33, 2, 2, 18, 2, 5, 4, 365, 2, 133, 26, 55, 52, 45, 24, 179, 17, 2, 17, 4, 363, 2, 21, 45, 491, 5, 13, 197, 15, 4, 2, 5, 4, 2, 165, 2, 128]\n"
     ]
    }
   ],
   "source": [
    "print(x_train[2])"
   ]
  },
  {
   "cell_type": "markdown",
   "id": "dd4e7d4f",
   "metadata": {},
   "source": [
    "- 패딩 토큰은 시퀀스의 앞부분에 추가됨\n",
    "    - 시퀀스의 마지막에 있는 단어가 셀의 은닉상태에 가장 큰 영향을 미치게 되기 때문에\n",
    "    - 뒷부분에 패딩을 추가하고 싶다면\n",
    "        - padding 매개변수의 값을 \"post\"로 수정\n",
    "            - 기본값은 \"pre\""
   ]
  },
  {
   "cell_type": "markdown",
   "id": "ff93c23b",
   "metadata": {},
   "source": [
    "- x0부터 xn까지 있는 문장으로 rnn을 하면 처음에 h0에는 x0이라는 정보가 담기고 h1에는 x0, x1이라는 정보 ... hn에는 x0 ... xn까지 담겨서 hn이 출력된다면\n",
    "  x0의 기억은 희미해지고 xn이 가장 뚜렷하다 따라서 뒤에를 강조"
   ]
  },
  {
   "cell_type": "code",
   "execution_count": 34,
   "id": "1b55a266",
   "metadata": {},
   "outputs": [],
   "source": [
    "# 검증 세트의 길이를 100으로 맞추기\n",
    "val_seq = pad_sequences(x_val, maxlen = max_len)"
   ]
  },
  {
   "cell_type": "markdown",
   "id": "a6abebe0",
   "metadata": {},
   "source": [
    "### 모델 구성"
   ]
  },
  {
   "cell_type": "code",
   "execution_count": 35,
   "id": "665cf8e9",
   "metadata": {},
   "outputs": [],
   "source": [
    "from tensorflow.keras.layers import Dense"
   ]
  },
  {
   "cell_type": "code",
   "execution_count": 36,
   "id": "f911e017",
   "metadata": {},
   "outputs": [],
   "source": [
    "model = Sequential()\n",
    "\n",
    "model.add(Embedding(num_words,32, input_length = 100))\n",
    "model.add(SimpleRNN(32))\n",
    "model.add(Dense(1, activation = \"sigmoid\"))"
   ]
  },
  {
   "cell_type": "code",
   "execution_count": 37,
   "id": "f7493fa4",
   "metadata": {},
   "outputs": [
    {
     "name": "stdout",
     "output_type": "stream",
     "text": [
      "Model: \"sequential_1\"\n",
      "_________________________________________________________________\n",
      " Layer (type)                Output Shape              Param #   \n",
      "=================================================================\n",
      " embedding_1 (Embedding)     (None, 100, 32)           16000     \n",
      "                                                                 \n",
      " simple_rnn_1 (SimpleRNN)    (None, 32)                2080      \n",
      "                                                                 \n",
      " dense_1 (Dense)             (None, 1)                 33        \n",
      "                                                                 \n",
      "=================================================================\n",
      "Total params: 18,113\n",
      "Trainable params: 18,113\n",
      "Non-trainable params: 0\n",
      "_________________________________________________________________\n"
     ]
    }
   ],
   "source": [
    "model.summary()"
   ]
  },
  {
   "cell_type": "code",
   "execution_count": 38,
   "id": "70bd7ef7",
   "metadata": {},
   "outputs": [],
   "source": [
    "model.compile(optimizer = \"rmsprop\",\n",
    "              loss = \"binary_crossentropy\",\n",
    "              metrics = [\"acc\"])"
   ]
  },
  {
   "cell_type": "code",
   "execution_count": 39,
   "id": "71addca2",
   "metadata": {},
   "outputs": [],
   "source": [
    "es = keras.callbacks.EarlyStopping(patience = 5, restore_best_weights = True)\n",
    "mc = keras.callbacks.ModelCheckpoint(\"./model/rnn-model.h5\", save_best_only = True)"
   ]
  },
  {
   "cell_type": "markdown",
   "id": "2d075f9c",
   "metadata": {},
   "source": [
    "### 모델 학습"
   ]
  },
  {
   "cell_type": "code",
   "execution_count": 40,
   "id": "adba9aa0",
   "metadata": {},
   "outputs": [
    {
     "name": "stdout",
     "output_type": "stream",
     "text": [
      "Epoch 1/100\n",
      "157/157 [==============================] - 3s 14ms/step - loss: 0.6151 - acc: 0.6543 - val_loss: 0.5383 - val_acc: 0.7492\n",
      "Epoch 2/100\n",
      "157/157 [==============================] - 2s 13ms/step - loss: 0.4921 - acc: 0.7680 - val_loss: 0.5294 - val_acc: 0.7402\n",
      "Epoch 3/100\n",
      "157/157 [==============================] - 2s 13ms/step - loss: 0.4674 - acc: 0.7838 - val_loss: 0.4652 - val_acc: 0.7820\n",
      "Epoch 4/100\n",
      "157/157 [==============================] - 2s 13ms/step - loss: 0.4498 - acc: 0.7930 - val_loss: 0.4954 - val_acc: 0.7620\n",
      "Epoch 5/100\n",
      "157/157 [==============================] - 2s 13ms/step - loss: 0.4359 - acc: 0.8048 - val_loss: 0.6271 - val_acc: 0.7220\n",
      "Epoch 6/100\n",
      "157/157 [==============================] - 2s 13ms/step - loss: 0.4201 - acc: 0.8102 - val_loss: 0.4906 - val_acc: 0.7824\n",
      "Epoch 7/100\n",
      "157/157 [==============================] - 2s 13ms/step - loss: 0.4073 - acc: 0.8181 - val_loss: 0.5023 - val_acc: 0.7640\n",
      "Epoch 8/100\n",
      "157/157 [==============================] - 2s 13ms/step - loss: 0.3901 - acc: 0.8298 - val_loss: 0.4764 - val_acc: 0.7846\n"
     ]
    }
   ],
   "source": [
    "history = model.fit(train_seq, y_train,\n",
    "                   epochs = 100, \n",
    "                   batch_size = 128,\n",
    "                   validation_data = (val_seq, y_val), \n",
    "                   callbacks = [es, mc])"
   ]
  },
  {
   "cell_type": "markdown",
   "id": "a5342439",
   "metadata": {},
   "source": [
    "### 시각화"
   ]
  },
  {
   "cell_type": "code",
   "execution_count": 42,
   "id": "1496a6ff",
   "metadata": {},
   "outputs": [
    {
     "data": {
      "image/png": "[encoded data removed]",
      "text/plain": [
       "<Figure size 640x480 with 1 Axes>"
      ]
     },
     "metadata": {},
     "output_type": "display_data"
    },
    {
     "data": {
      "image/png": "[encoded data removed]",
      "text/plain": [
       "<Figure size 640x480 with 1 Axes>"
      ]
     },
     "metadata": {},
     "output_type": "display_data"
    }
   ],
   "source": [
    "plt.plot(history.history[\"loss\"], 'b--', label = \"train_loss\")\n",
    "plt.plot(history.history[\"val_loss\"], 'r:', label = \"val_loss\")\n",
    "plt.legend()\n",
    "plt.grid()\n",
    "\n",
    "plt.figure()\n",
    "plt.plot(history.history[\"acc\"], 'b--', label = \"train_accuracy\")\n",
    "plt.plot(history.history[\"val_acc\"], 'r:', label = \"val_accuracy\")\n",
    "plt.legend()\n",
    "plt.grid()"
   ]
  },
  {
   "cell_type": "code",
   "execution_count": 43,
   "id": "c8c7304d",
   "metadata": {},
   "outputs": [
    {
     "name": "stdout",
     "output_type": "stream",
     "text": [
      "157/157 [==============================] - 0s 3ms/step - loss: 0.4652 - acc: 0.7820\n"
     ]
    },
    {
     "data": {
      "text/plain": [
       "[0.46521449089050293, 0.7820000052452087]"
      ]
     },
     "execution_count": 43,
     "metadata": {},
     "output_type": "execute_result"
    }
   ],
   "source": [
    "model.evaluate(val_seq, y_val)"
   ]
  },
  {
   "cell_type": "markdown",
   "id": "f6f8e14f",
   "metadata": {},
   "source": [
    "- SimpleRNN은 긴 시퀀스를 처리하는데 적합하지 않음\n",
    "\n",
    "- SimpleRNN은 실전에 사용하기엔 너무 단순\n",
    "\n",
    "- SimpleRNN은 이론적으로 시간 $t$ 에서 이전의 모든 타임스텝의 정보를 유지할 수 있지만, 실제로는 긴 시간에 걸친 의존성은 학습할 수 없음\n",
    "\n",
    "- 그래디언트 소실 문제(vanishing gradient problem)\n",
    "  - 이를 방지하기 위해 LSTM, GRU 같은 레이어 등장\n",
    "\n"
   ]
  },
  {
   "cell_type": "markdown",
   "id": "034ae1aa",
   "metadata": {},
   "source": [
    "# LSTM(Long Short-Term Memory)\n",
    "- 장단기 메모리 알고리즘\n",
    "\n",
    "- 나중을 위해 정보를 저장함으로써 오래된 시그널이 점차 소실되는 것을 막아줌\n",
    "\n",
    "  <img src=\"https://colah.github.io/posts/2015-08-Understanding-LSTMs/img/LSTM3-chain.png\">\n",
    "\n",
    "  <sub>출처: https://colah.github.io/posts/2015-08-Understanding-LSTMs/</sub>"
   ]
  },
  {
   "cell_type": "markdown",
   "id": "6bf56c22",
   "metadata": {},
   "source": [
    "<img src = \"./image/lstm.png\" width = 500 height = 500>"
   ]
  },
  {
   "cell_type": "markdown",
   "id": "04dfc224",
   "metadata": {},
   "source": [
    "- 은닉 상태를 만드는 방법\n",
    "    - output gate layer(출력 게이트)\n",
    "        1. 입력과 이전 타임스텝의 은닉 상태를 가중치에 곱한 후 활성화 함수를 통과시켜 다음 은닉 상태를 만듦\n",
    "            - 이 때 기본 순환층과는 달리 시그모이드 활성화 함수를 사용\n",
    "        2. tanh 활성화 함수를 통과한 값과 곱해져서 은닉 상태를 만듦\n",
    "        \n",
    "- LSTM은 순환 되는 상태가 2개\n",
    "    - 은닉 상태\n",
    "    - 셀 상태(cell state)\n",
    "        - 다음 층으로 전달되지 않고 LSTM 셀에서 순환만 되는 값\n",
    "        \n",
    "- 셀 상태를 계산하는 과정\n",
    "    - forget gate layer(삭제 게이트)\n",
    "        - 정보를 제거하는 역할\n",
    "        1. 입력과 은닉 상태를 또 다른 가중치에 곱한 다음 시그모이드 함수를 통과\n",
    "        2. 이전 타임스텝의 셀 상태와 곱하여 새로운 셀 상태를 만듦\n",
    "            - 이 셀 상태가 오른쪽에서 tanh 함수를 통과하여 새로운 은닉 상태를 만드는 데 기여\n",
    "            \n",
    "    - input gate layer(입력 게이트)\n",
    "        - 새로운 정보를 셀 상태에 추가\n",
    "        1. 입력과 은닉 상태를 각기 다른 가중치에 곱함\n",
    "        2. 하나는 시그모이드 함수, 하나는 tanh 함수를 통과\n",
    "        3. 두 결과를 곱함\n",
    "        4. 이전 셀 상태와 더함"
   ]
  },
  {
   "cell_type": "markdown",
   "id": "49c737b8",
   "metadata": {},
   "source": [
    "### 모델 훈련"
   ]
  },
  {
   "cell_type": "code",
   "execution_count": 44,
   "id": "f085499e",
   "metadata": {},
   "outputs": [
    {
     "name": "stdout",
     "output_type": "stream",
     "text": [
      "Model: \"sequential_2\"\n",
      "_________________________________________________________________\n",
      " Layer (type)                Output Shape              Param #   \n",
      "=================================================================\n",
      " embedding_2 (Embedding)     (None, 100, 32)           16000     \n",
      "                                                                 \n",
      " lstm (LSTM)                 (None, 32)                8320      \n",
      "                                                                 \n",
      " dense_2 (Dense)             (None, 1)                 33        \n",
      "                                                                 \n",
      "=================================================================\n",
      "Total params: 24,353\n",
      "Trainable params: 24,353\n",
      "Non-trainable params: 0\n",
      "_________________________________________________________________\n"
     ]
    }
   ],
   "source": [
    "model2 = Sequential()\n",
    "model2.add(Embedding(num_words, 32, input_length = 100))\n",
    "model2.add(LSTM(32))\n",
    "model2.add(Dense(1, activation = \"sigmoid\"))\n",
    "model2.summary()"
   ]
  },
  {
   "cell_type": "code",
   "execution_count": 45,
   "id": "472bcac1",
   "metadata": {},
   "outputs": [],
   "source": [
    "model2.compile(optimizer = \"rmsprop\",\n",
    "              loss = \"binary_crossentropy\",\n",
    "              metrics = [\"acc\"])"
   ]
  },
  {
   "cell_type": "code",
   "execution_count": 46,
   "id": "2facc299",
   "metadata": {},
   "outputs": [],
   "source": [
    "es = keras.callbacks.EarlyStopping(patience = 5, restore_best_weights = True)\n",
    "mc = keras.callbacks.ModelCheckpoint(\"./model/lstm-model.h5\", save_best_only=True)"
   ]
  },
  {
   "cell_type": "code",
   "execution_count": 48,
   "id": "1027a5fc",
   "metadata": {},
   "outputs": [
    {
     "name": "stdout",
     "output_type": "stream",
     "text": [
      "Epoch 1/100\n",
      "157/157 [==============================] - 7s 36ms/step - loss: 0.6274 - acc: 0.6344 - val_loss: 0.5210 - val_acc: 0.7492\n",
      "Epoch 2/100\n",
      "157/157 [==============================] - 5s 33ms/step - loss: 0.4748 - acc: 0.7732 - val_loss: 0.4812 - val_acc: 0.7724\n",
      "Epoch 3/100\n",
      "157/157 [==============================] - 5s 33ms/step - loss: 0.4426 - acc: 0.7970 - val_loss: 0.4593 - val_acc: 0.7900\n",
      "Epoch 4/100\n",
      "157/157 [==============================] - 5s 33ms/step - loss: 0.4314 - acc: 0.8004 - val_loss: 0.4412 - val_acc: 0.7966\n",
      "Epoch 5/100\n",
      "157/157 [==============================] - 5s 33ms/step - loss: 0.4253 - acc: 0.8080 - val_loss: 0.5712 - val_acc: 0.7604\n",
      "Epoch 6/100\n",
      "157/157 [==============================] - 5s 33ms/step - loss: 0.4157 - acc: 0.8097 - val_loss: 0.4310 - val_acc: 0.8008\n",
      "Epoch 7/100\n",
      "157/157 [==============================] - 5s 33ms/step - loss: 0.4100 - acc: 0.8124 - val_loss: 0.4309 - val_acc: 0.7982\n",
      "Epoch 8/100\n",
      "157/157 [==============================] - 5s 33ms/step - loss: 0.4035 - acc: 0.8175 - val_loss: 0.4450 - val_acc: 0.7954\n",
      "Epoch 9/100\n",
      "157/157 [==============================] - 5s 33ms/step - loss: 0.3997 - acc: 0.8181 - val_loss: 0.4799 - val_acc: 0.7890\n",
      "Epoch 10/100\n",
      "157/157 [==============================] - 5s 33ms/step - loss: 0.3977 - acc: 0.8169 - val_loss: 0.4548 - val_acc: 0.7788\n",
      "Epoch 11/100\n",
      "157/157 [==============================] - 5s 33ms/step - loss: 0.3922 - acc: 0.8220 - val_loss: 0.4488 - val_acc: 0.7984\n",
      "Epoch 12/100\n",
      "157/157 [==============================] - 5s 33ms/step - loss: 0.3908 - acc: 0.8209 - val_loss: 0.4395 - val_acc: 0.7908\n"
     ]
    }
   ],
   "source": [
    "history2 = model2.fit(train_seq, y_train,\n",
    "           epochs = 100,\n",
    "           batch_size = 128,\n",
    "           validation_data = [val_seq, y_val],\n",
    "           callbacks = [es, mc])"
   ]
  },
  {
   "cell_type": "markdown",
   "id": "6d77e917",
   "metadata": {},
   "source": [
    "### 시각화"
   ]
  },
  {
   "cell_type": "code",
   "execution_count": 49,
   "id": "54718c90",
   "metadata": {
    "scrolled": true
   },
   "outputs": [
    {
     "data": {
      "image/png": "[encoded data removed]",
      "text/plain": [
       "<Figure size 640x480 with 1 Axes>"
      ]
     },
     "metadata": {},
     "output_type": "display_data"
    },
    {
     "data": {
      "image/png": "[encoded data removed]",
      "text/plain": [
       "<Figure size 640x480 with 1 Axes>"
      ]
     },
     "metadata": {},
     "output_type": "display_data"
    }
   ],
   "source": [
    "plt.plot(history2.history[\"loss\"], 'b--', label = \"train_loss\")\n",
    "plt.plot(history2.history[\"val_loss\"], 'r:', label = \"val_loss\")\n",
    "plt.legend()\n",
    "plt.grid()\n",
    "\n",
    "plt.figure()\n",
    "plt.plot(history2.history[\"acc\"], 'b--', label = \"train_accuracy\")\n",
    "plt.plot(history2.history[\"val_acc\"], 'r:', label = \"val_accuracy\")\n",
    "plt.legend()\n",
    "plt.grid()"
   ]
  },
  {
   "cell_type": "code",
   "execution_count": 50,
   "id": "e13847fd",
   "metadata": {},
   "outputs": [
    {
     "name": "stdout",
     "output_type": "stream",
     "text": [
      "157/157 [==============================] - 1s 6ms/step - loss: 0.4309 - acc: 0.7982\n"
     ]
    },
    {
     "data": {
      "text/plain": [
       "[0.43089842796325684, 0.7982000112533569]"
      ]
     },
     "execution_count": 50,
     "metadata": {},
     "output_type": "execute_result"
    }
   ],
   "source": [
    "model2.evaluate(val_seq, y_val)"
   ]
  },
  {
   "cell_type": "markdown",
   "id": "5f4079cf",
   "metadata": {},
   "source": [
    "# GRU (Gated Recurrent Unit)\n",
    "- LSTM을 더 단순하게 만든 구조\n",
    "\n",
    "- 기억 셀은 없고, 시간방향으로 전파하는 것은 은닉 상태만 있음\n",
    "\n",
    "- reset gate\n",
    "  - 과거의 은닉 상태를 얼마나 무시할지 결정\n",
    "\n",
    "  - $r$ 값이 결정\n",
    "\n",
    "- update gate\n",
    "  -  은닉 상태를 갱신하는 게이트  \n",
    "\n",
    "  - LSTM의 forget, input gate 역할을 동시에 함\n",
    "  \n",
    "  <img src=\"https://miro.medium.com/max/1400/1*jhi5uOm9PvZfmxvfaCektw.png\" width=\"500\">"
   ]
  },
  {
   "cell_type": "markdown",
   "id": "12ec53ff",
   "metadata": {},
   "source": [
    "### 모델 구성"
   ]
  },
  {
   "cell_type": "code",
   "execution_count": 51,
   "id": "63197b7a",
   "metadata": {},
   "outputs": [],
   "source": [
    "model3 = Sequential()\n",
    "model3.add(Embedding(num_words, 32, input_length = 100))\n",
    "model3.add(GRU(32))\n",
    "model3.add(Dense(1, activation = \"sigmoid\"))"
   ]
  },
  {
   "cell_type": "code",
   "execution_count": 52,
   "id": "05b96794",
   "metadata": {},
   "outputs": [
    {
     "name": "stdout",
     "output_type": "stream",
     "text": [
      "Model: \"sequential_3\"\n",
      "_________________________________________________________________\n",
      " Layer (type)                Output Shape              Param #   \n",
      "=================================================================\n",
      " embedding_3 (Embedding)     (None, 100, 32)           16000     \n",
      "                                                                 \n",
      " gru (GRU)                   (None, 32)                6336      \n",
      "                                                                 \n",
      " dense_3 (Dense)             (None, 1)                 33        \n",
      "                                                                 \n",
      "=================================================================\n",
      "Total params: 22,369\n",
      "Trainable params: 22,369\n",
      "Non-trainable params: 0\n",
      "_________________________________________________________________\n"
     ]
    }
   ],
   "source": [
    "model3.summary()"
   ]
  },
  {
   "cell_type": "code",
   "execution_count": 53,
   "id": "6e880252",
   "metadata": {},
   "outputs": [],
   "source": [
    "model3.compile(optimizer = \"rmsprop\",\n",
    "              loss = \"binary_crossentropy\",\n",
    "              metrics = [\"acc\"])"
   ]
  },
  {
   "cell_type": "code",
   "execution_count": 54,
   "id": "2473cce4",
   "metadata": {},
   "outputs": [],
   "source": [
    "es = keras.callbacks.EarlyStopping(patience = 5, restore_best_weights = True)\n",
    "mc = keras.callbacks.ModelCheckpoint(\"./model/gru-model.h5\", save_best_only=True)"
   ]
  },
  {
   "cell_type": "code",
   "execution_count": 55,
   "id": "2c6c3247",
   "metadata": {},
   "outputs": [
    {
     "name": "stdout",
     "output_type": "stream",
     "text": [
      "Epoch 1/100\n",
      "157/157 [==============================] - 7s 33ms/step - loss: 0.6430 - acc: 0.6141 - val_loss: 0.5264 - val_acc: 0.7256\n",
      "Epoch 2/100\n",
      "157/157 [==============================] - 5s 30ms/step - loss: 0.4808 - acc: 0.7716 - val_loss: 0.5592 - val_acc: 0.7102\n",
      "Epoch 3/100\n",
      "157/157 [==============================] - 5s 30ms/step - loss: 0.4500 - acc: 0.7911 - val_loss: 0.5367 - val_acc: 0.7612\n",
      "Epoch 4/100\n",
      "157/157 [==============================] - 5s 30ms/step - loss: 0.4426 - acc: 0.7962 - val_loss: 0.4480 - val_acc: 0.7868\n",
      "Epoch 5/100\n",
      "157/157 [==============================] - 5s 31ms/step - loss: 0.4357 - acc: 0.7989 - val_loss: 0.4659 - val_acc: 0.7806\n",
      "Epoch 6/100\n",
      "157/157 [==============================] - 5s 31ms/step - loss: 0.4303 - acc: 0.8026 - val_loss: 0.4464 - val_acc: 0.7866\n",
      "Epoch 7/100\n",
      "157/157 [==============================] - 5s 31ms/step - loss: 0.4252 - acc: 0.8062 - val_loss: 0.4400 - val_acc: 0.7972\n",
      "Epoch 8/100\n",
      "157/157 [==============================] - 5s 32ms/step - loss: 0.4188 - acc: 0.8062 - val_loss: 0.4558 - val_acc: 0.7938\n",
      "Epoch 9/100\n",
      "157/157 [==============================] - 5s 31ms/step - loss: 0.4143 - acc: 0.8102 - val_loss: 0.4379 - val_acc: 0.7964\n",
      "Epoch 10/100\n",
      "157/157 [==============================] - 5s 31ms/step - loss: 0.4096 - acc: 0.8134 - val_loss: 0.5812 - val_acc: 0.7240\n",
      "Epoch 11/100\n",
      "157/157 [==============================] - 5s 32ms/step - loss: 0.4045 - acc: 0.8181 - val_loss: 0.5203 - val_acc: 0.7714\n",
      "Epoch 12/100\n",
      "157/157 [==============================] - 5s 31ms/step - loss: 0.4002 - acc: 0.8180 - val_loss: 0.4436 - val_acc: 0.7960\n",
      "Epoch 13/100\n",
      "157/157 [==============================] - 5s 31ms/step - loss: 0.3967 - acc: 0.8193 - val_loss: 0.4417 - val_acc: 0.7930\n",
      "Epoch 14/100\n",
      "157/157 [==============================] - 5s 32ms/step - loss: 0.3917 - acc: 0.8238 - val_loss: 0.4791 - val_acc: 0.7732\n"
     ]
    }
   ],
   "source": [
    "history3 = model3.fit(train_seq, y_train,\n",
    "                     epochs = 100, \n",
    "                     batch_size = 128,\n",
    "                     validation_data = (val_seq, y_val),\n",
    "                     callbacks = [es, mc])"
   ]
  },
  {
   "cell_type": "markdown",
   "id": "b59d5468",
   "metadata": {},
   "source": [
    "### 시각화"
   ]
  },
  {
   "cell_type": "code",
   "execution_count": 56,
   "id": "df92c123",
   "metadata": {},
   "outputs": [
    {
     "data": {
      "image/png": "[encoded data removed]",
      "text/plain": [
       "<Figure size 640x480 with 1 Axes>"
      ]
     },
     "metadata": {},
     "output_type": "display_data"
    },
    {
     "data": {
      "image/png": "[encoded data removed]",
      "text/plain": [
       "<Figure size 640x480 with 1 Axes>"
      ]
     },
     "metadata": {},
     "output_type": "display_data"
    }
   ],
   "source": [
    "plt.plot(history3.history[\"loss\"], 'b--', label = \"train_loss\")\n",
    "plt.plot(history3.history[\"val_loss\"], 'r:', label = \"val_loss\")\n",
    "plt.legend()\n",
    "plt.grid()\n",
    "\n",
    "plt.figure()\n",
    "plt.plot(history3.history[\"acc\"], 'b--', label = \"train_accuracy\")\n",
    "plt.plot(history3.history[\"val_acc\"], 'r:', label = \"val_accuracy\")\n",
    "plt.legend()\n",
    "plt.grid()"
   ]
  },
  {
   "cell_type": "markdown",
   "id": "022d7494",
   "metadata": {},
   "source": [
    "### 모델평가"
   ]
  },
  {
   "cell_type": "code",
   "execution_count": 58,
   "id": "ed8aebf1",
   "metadata": {
    "scrolled": true
   },
   "outputs": [
    {
     "name": "stdout",
     "output_type": "stream",
     "text": [
      "157/157 [==============================] - 1s 5ms/step - loss: 0.4379 - acc: 0.7964\n"
     ]
    },
    {
     "data": {
      "text/plain": [
       "[0.43792885541915894, 0.7964000105857849]"
      ]
     },
     "execution_count": 58,
     "metadata": {},
     "output_type": "execute_result"
    }
   ],
   "source": [
    "model3.evaluate(val_seq, y_val)"
   ]
  },
  {
   "cell_type": "markdown",
   "id": "e989d814",
   "metadata": {},
   "source": [
    "# best model 검증"
   ]
  },
  {
   "cell_type": "code",
   "execution_count": 59,
   "id": "acfadcb3",
   "metadata": {},
   "outputs": [
    {
     "name": "stdout",
     "output_type": "stream",
     "text": [
      "782/782 [==============================] - 5s 6ms/step - loss: 0.4176 - acc: 0.8075\n"
     ]
    },
    {
     "data": {
      "text/plain": [
       "[0.4176388680934906, 0.807479977607727]"
      ]
     },
     "execution_count": 59,
     "metadata": {},
     "output_type": "execute_result"
    }
   ],
   "source": [
    "test_seq = pad_sequences(x_test, maxlen = 100)\n",
    "lstm_model = keras.models.load_model(\"./model/lstm-model.h5\")\n",
    "lstm_model.evaluate(test_seq, y_test)"
   ]
  }
 ],
 "metadata": {
  "kernelspec": {
   "display_name": "Python 3 (ipykernel)",
   "language": "python",
   "name": "python3"
  },
  "language_info": {
   "codemirror_mode": {
    "name": "ipython",
    "version": 3
   },
   "file_extension": ".py",
   "mimetype": "text/x-python",
   "name": "python",
   "nbconvert_exporter": "python",
   "pygments_lexer": "ipython3",
   "version": "3.9.13"
  }
 },
 "nbformat": 4,
 "nbformat_minor": 5
}
