{
 "cells": [
  {
   "cell_type": "markdown",
   "id": "780ad2ee",
   "metadata": {},
   "source": [
    "# CNN 스팸 메일 분류"
   ]
  },
  {
   "cell_type": "markdown",
   "id": "0f8a6ec4",
   "metadata": {},
   "source": [
    "### 데이터 로드 및 전처리"
   ]
  },
  {
   "cell_type": "code",
   "execution_count": 1,
   "id": "4c9d507b",
   "metadata": {},
   "outputs": [],
   "source": [
    "import numpy as np\n",
    "import pandas as pd\n",
    "import matplotlib.pyplot as plt\n",
    "\n",
    "from tensorflow.keras.preprocessing.text import Tokenizer\n",
    "from tensorflow.keras.preprocessing.sequence import pad_sequences"
   ]
  },
  {
   "cell_type": "code",
   "execution_count": 7,
   "id": "8f4eeed1",
   "metadata": {},
   "outputs": [
    {
     "name": "stdout",
     "output_type": "stream",
     "text": [
      "5572\n"
     ]
    }
   ],
   "source": [
    "import urllib.request\n",
    "urllib.request.urlretrieve(\"https://raw.githubusercontent.com/mohitgupta-omg/Kaggle-SMS-Spam-Collection-Dataset-/master/spam.csv\", filename = \"spam.csv\")\n",
    "data = pd.read_csv(\"spam.csv\", encoding = \"latin-1\")\n",
    "print(len(data))"
   ]
  },
  {
   "cell_type": "code",
   "execution_count": 9,
   "id": "95a2ef8d",
   "metadata": {},
   "outputs": [
    {
     "data": {
      "text/html": [
       "<div>\n",
       "<style scoped>\n",
       "    .dataframe tbody tr th:only-of-type {\n",
       "        vertical-align: middle;\n",
       "    }\n",
       "\n",
       "    .dataframe tbody tr th {\n",
       "        vertical-align: top;\n",
       "    }\n",
       "\n",
       "    .dataframe thead th {\n",
       "        text-align: right;\n",
       "    }\n",
       "</style>\n",
       "<table border=\"1\" class=\"dataframe\">\n",
       "  <thead>\n",
       "    <tr style=\"text-align: right;\">\n",
       "      <th></th>\n",
       "      <th>v1</th>\n",
       "      <th>v2</th>\n",
       "      <th>Unnamed: 2</th>\n",
       "      <th>Unnamed: 3</th>\n",
       "      <th>Unnamed: 4</th>\n",
       "    </tr>\n",
       "  </thead>\n",
       "  <tbody>\n",
       "    <tr>\n",
       "      <th>0</th>\n",
       "      <td>ham</td>\n",
       "      <td>Go until jurong point, crazy.. Available only ...</td>\n",
       "      <td>NaN</td>\n",
       "      <td>NaN</td>\n",
       "      <td>NaN</td>\n",
       "    </tr>\n",
       "    <tr>\n",
       "      <th>1</th>\n",
       "      <td>ham</td>\n",
       "      <td>Ok lar... Joking wif u oni...</td>\n",
       "      <td>NaN</td>\n",
       "      <td>NaN</td>\n",
       "      <td>NaN</td>\n",
       "    </tr>\n",
       "    <tr>\n",
       "      <th>2</th>\n",
       "      <td>spam</td>\n",
       "      <td>Free entry in 2 a wkly comp to win FA Cup fina...</td>\n",
       "      <td>NaN</td>\n",
       "      <td>NaN</td>\n",
       "      <td>NaN</td>\n",
       "    </tr>\n",
       "    <tr>\n",
       "      <th>3</th>\n",
       "      <td>ham</td>\n",
       "      <td>U dun say so early hor... U c already then say...</td>\n",
       "      <td>NaN</td>\n",
       "      <td>NaN</td>\n",
       "      <td>NaN</td>\n",
       "    </tr>\n",
       "    <tr>\n",
       "      <th>4</th>\n",
       "      <td>ham</td>\n",
       "      <td>Nah I don't think he goes to usf, he lives aro...</td>\n",
       "      <td>NaN</td>\n",
       "      <td>NaN</td>\n",
       "      <td>NaN</td>\n",
       "    </tr>\n",
       "  </tbody>\n",
       "</table>\n",
       "</div>"
      ],
      "text/plain": [
       "     v1                                                 v2 Unnamed: 2 Unnamed: 3 Unnamed: 4\n",
       "0   ham  Go until jurong point, crazy.. Available only ...        NaN        NaN        NaN\n",
       "1   ham                      Ok lar... Joking wif u oni...        NaN        NaN        NaN\n",
       "2  spam  Free entry in 2 a wkly comp to win FA Cup fina...        NaN        NaN        NaN\n",
       "3   ham  U dun say so early hor... U c already then say...        NaN        NaN        NaN\n",
       "4   ham  Nah I don't think he goes to usf, he lives aro...        NaN        NaN        NaN"
      ]
     },
     "execution_count": 9,
     "metadata": {},
     "output_type": "execute_result"
    }
   ],
   "source": [
    "data.head()"
   ]
  },
  {
   "cell_type": "markdown",
   "id": "fb9662de",
   "metadata": {},
   "source": [
    "- Unnamed : 2 ~ 4까지 피처 삭제\n",
    "    \n",
    "- v1 피처의 ham spam을 0과 1로 변경"
   ]
  },
  {
   "cell_type": "code",
   "execution_count": 10,
   "id": "e5623d37",
   "metadata": {},
   "outputs": [
    {
     "data": {
      "text/html": [
       "<div>\n",
       "<style scoped>\n",
       "    .dataframe tbody tr th:only-of-type {\n",
       "        vertical-align: middle;\n",
       "    }\n",
       "\n",
       "    .dataframe tbody tr th {\n",
       "        vertical-align: top;\n",
       "    }\n",
       "\n",
       "    .dataframe thead th {\n",
       "        text-align: right;\n",
       "    }\n",
       "</style>\n",
       "<table border=\"1\" class=\"dataframe\">\n",
       "  <thead>\n",
       "    <tr style=\"text-align: right;\">\n",
       "      <th></th>\n",
       "      <th>v1</th>\n",
       "      <th>v2</th>\n",
       "    </tr>\n",
       "  </thead>\n",
       "  <tbody>\n",
       "    <tr>\n",
       "      <th>0</th>\n",
       "      <td>0</td>\n",
       "      <td>Go until jurong point, crazy.. Available only ...</td>\n",
       "    </tr>\n",
       "    <tr>\n",
       "      <th>1</th>\n",
       "      <td>0</td>\n",
       "      <td>Ok lar... Joking wif u oni...</td>\n",
       "    </tr>\n",
       "    <tr>\n",
       "      <th>2</th>\n",
       "      <td>1</td>\n",
       "      <td>Free entry in 2 a wkly comp to win FA Cup fina...</td>\n",
       "    </tr>\n",
       "    <tr>\n",
       "      <th>3</th>\n",
       "      <td>0</td>\n",
       "      <td>U dun say so early hor... U c already then say...</td>\n",
       "    </tr>\n",
       "    <tr>\n",
       "      <th>4</th>\n",
       "      <td>0</td>\n",
       "      <td>Nah I don't think he goes to usf, he lives aro...</td>\n",
       "    </tr>\n",
       "  </tbody>\n",
       "</table>\n",
       "</div>"
      ],
      "text/plain": [
       "   v1                                                 v2\n",
       "0   0  Go until jurong point, crazy.. Available only ...\n",
       "1   0                      Ok lar... Joking wif u oni...\n",
       "2   1  Free entry in 2 a wkly comp to win FA Cup fina...\n",
       "3   0  U dun say so early hor... U c already then say...\n",
       "4   0  Nah I don't think he goes to usf, he lives aro..."
      ]
     },
     "execution_count": 10,
     "metadata": {},
     "output_type": "execute_result"
    }
   ],
   "source": [
    "del data[\"Unnamed: 2\"]\n",
    "del data[\"Unnamed: 3\"]\n",
    "del data[\"Unnamed: 4\"]\n",
    "data[\"v1\"] = data[\"v1\"].replace([\"ham\", \"spam\"], [0, 1])\n",
    "data.head()"
   ]
  },
  {
   "cell_type": "code",
   "execution_count": 11,
   "id": "37b2a320",
   "metadata": {},
   "outputs": [
    {
     "data": {
      "text/plain": [
       "5169"
      ]
     },
     "execution_count": 11,
     "metadata": {},
     "output_type": "execute_result"
    }
   ],
   "source": [
    "# 중복된 데이터 제거\n",
    "data.drop_duplicates(subset = [\"v2\"], inplace = True)\n",
    "len(data)"
   ]
  },
  {
   "cell_type": "code",
   "execution_count": 13,
   "id": "5c1b2ae8",
   "metadata": {},
   "outputs": [
    {
     "data": {
      "text/html": [
       "<div>\n",
       "<style scoped>\n",
       "    .dataframe tbody tr th:only-of-type {\n",
       "        vertical-align: middle;\n",
       "    }\n",
       "\n",
       "    .dataframe tbody tr th {\n",
       "        vertical-align: top;\n",
       "    }\n",
       "\n",
       "    .dataframe thead th {\n",
       "        text-align: right;\n",
       "    }\n",
       "</style>\n",
       "<table border=\"1\" class=\"dataframe\">\n",
       "  <thead>\n",
       "    <tr style=\"text-align: right;\">\n",
       "      <th></th>\n",
       "      <th>v1</th>\n",
       "      <th>count</th>\n",
       "    </tr>\n",
       "  </thead>\n",
       "  <tbody>\n",
       "    <tr>\n",
       "      <th>0</th>\n",
       "      <td>0</td>\n",
       "      <td>4516</td>\n",
       "    </tr>\n",
       "    <tr>\n",
       "      <th>1</th>\n",
       "      <td>1</td>\n",
       "      <td>653</td>\n",
       "    </tr>\n",
       "  </tbody>\n",
       "</table>\n",
       "</div>"
      ],
      "text/plain": [
       "   v1  count\n",
       "0   0   4516\n",
       "1   1    653"
      ]
     },
     "execution_count": 13,
     "metadata": {},
     "output_type": "execute_result"
    }
   ],
   "source": [
    "# 0과 1의 수 확인\n",
    "data.groupby(\"v1\").size().reset_index(name = \"count\")"
   ]
  },
  {
   "cell_type": "code",
   "execution_count": 15,
   "id": "f52b11a0",
   "metadata": {},
   "outputs": [],
   "source": [
    "X_data = data[\"v2\"]\n",
    "Y_data = data[\"v1\"]"
   ]
  },
  {
   "cell_type": "code",
   "execution_count": 16,
   "id": "a1a23313",
   "metadata": {},
   "outputs": [],
   "source": [
    "vocab_size = 1000\n",
    "tokenizer = Tokenizer(num_words = vocab_size)\n",
    "tokenizer.fit_on_texts(X_data)\n",
    "sequences = tokenizer.texts_to_sequences(X_data)"
   ]
  },
  {
   "cell_type": "code",
   "execution_count": 18,
   "id": "c51dcd7b",
   "metadata": {},
   "outputs": [
    {
     "data": {
      "text/plain": [
       "[[47, 433, 780, 705, 662, 64, 8, 94, 121, 434, 142, 68, 57, 137]]"
      ]
     },
     "execution_count": 18,
     "metadata": {},
     "output_type": "execute_result"
    }
   ],
   "source": [
    "sequences[:1]"
   ]
  },
  {
   "cell_type": "code",
   "execution_count": 31,
   "id": "215e7674",
   "metadata": {},
   "outputs": [
    {
     "name": "stdout",
     "output_type": "stream",
     "text": [
      "메일 최대 길이 : 172\n",
      "메일 평균 길이 : 12.566840781582512\n"
     ]
    }
   ],
   "source": [
    "X_data = sequences\n",
    "\n",
    "print(\"메일 최대 길이 : {}\".format(max(len(l) for l in X_data)))\n",
    "print(\"메일 평균 길이 : {}\".format((sum(map(len, X_data))/len(X_data))))"
   ]
  },
  {
   "cell_type": "code",
   "execution_count": 32,
   "id": "ce39a42c",
   "metadata": {},
   "outputs": [
    {
     "data": {
      "image/png": "[encoded data removed]",
      "text/plain": [
       "<Figure size 640x480 with 1 Axes>"
      ]
     },
     "metadata": {},
     "output_type": "display_data"
    }
   ],
   "source": [
    "plt.hist([len(s) for s in X_data], bins = 100)\n",
    "plt.xlabel(\"Length of Samples\")\n",
    "plt.ylabel(\"Number of Samples\")\n",
    "plt.show()"
   ]
  },
  {
   "cell_type": "markdown",
   "id": "1fc1d091",
   "metadata": {},
   "source": [
    "- 길이를 60으로 맞추자."
   ]
  },
  {
   "cell_type": "code",
   "execution_count": 33,
   "id": "1d803581",
   "metadata": {},
   "outputs": [
    {
     "name": "stdout",
     "output_type": "stream",
     "text": [
      "(5169, 60)\n"
     ]
    }
   ],
   "source": [
    "max_len = 60\n",
    "data = pad_sequences(X_data, maxlen = max_len)\n",
    "print(data.shape)"
   ]
  },
  {
   "cell_type": "code",
   "execution_count": 34,
   "id": "ea935d8a",
   "metadata": {},
   "outputs": [],
   "source": [
    "n_train = int(len(sequences) * 0.8)\n",
    "n_test = int(len(sequences) * 0.2)"
   ]
  },
  {
   "cell_type": "code",
   "execution_count": 35,
   "id": "c479ec2b",
   "metadata": {},
   "outputs": [
    {
     "name": "stdout",
     "output_type": "stream",
     "text": [
      "4135\n",
      "1033\n"
     ]
    }
   ],
   "source": [
    "print(n_train)\n",
    "print(n_test)"
   ]
  },
  {
   "cell_type": "code",
   "execution_count": 39,
   "id": "acdfa880",
   "metadata": {},
   "outputs": [],
   "source": [
    "X_train = data[:n_train]\n",
    "Y_train = np.array(Y_data[:n_train])\n",
    "X_test = data[n_train:]\n",
    "Y_test = np.array(Y_data[n_train:])"
   ]
  },
  {
   "cell_type": "code",
   "execution_count": 40,
   "id": "4c01a48e",
   "metadata": {},
   "outputs": [
    {
     "name": "stdout",
     "output_type": "stream",
     "text": [
      "(4135, 60)\n",
      "(4135,)\n",
      "(1034, 60)\n",
      "(1034,)\n"
     ]
    }
   ],
   "source": [
    "print(X_train.shape)\n",
    "print(Y_train.shape)\n",
    "print(X_test.shape)\n",
    "print(Y_test.shape)"
   ]
  },
  {
   "cell_type": "markdown",
   "id": "2a1f4871",
   "metadata": {},
   "source": [
    "### 모델 구성"
   ]
  },
  {
   "cell_type": "code",
   "execution_count": 41,
   "id": "0ddbe88f",
   "metadata": {},
   "outputs": [],
   "source": [
    "from tensorflow.keras.layers import Dense, Conv1D, GlobalMaxPooling1D, Embedding, Dropout, MaxPooling1D\n",
    "from tensorflow.keras.models import Sequential\n",
    "from tensorflow.keras.callbacks import EarlyStopping, ModelCheckpoint"
   ]
  },
  {
   "cell_type": "code",
   "execution_count": 45,
   "id": "bae48c4c",
   "metadata": {},
   "outputs": [
    {
     "name": "stdout",
     "output_type": "stream",
     "text": [
      "Model: \"sequential_3\"\n",
      "_________________________________________________________________\n",
      " Layer (type)                Output Shape              Param #   \n",
      "=================================================================\n",
      " embedding_2 (Embedding)     (None, None, 32)          32000     \n",
      "                                                                 \n",
      " dropout_2 (Dropout)         (None, None, 32)          0         \n",
      "                                                                 \n",
      " conv1d_1 (Conv1D)           (None, None, 32)          5152      \n",
      "                                                                 \n",
      " global_max_pooling1d (Globa  (None, 32)               0         \n",
      " lMaxPooling1D)                                                  \n",
      "                                                                 \n",
      " dense (Dense)               (None, 64)                2112      \n",
      "                                                                 \n",
      " dropout_3 (Dropout)         (None, 64)                0         \n",
      "                                                                 \n",
      " dense_1 (Dense)             (None, 1)                 65        \n",
      "                                                                 \n",
      "=================================================================\n",
      "Total params: 39,329\n",
      "Trainable params: 39,329\n",
      "Non-trainable params: 0\n",
      "_________________________________________________________________\n"
     ]
    }
   ],
   "source": [
    "model = Sequential()\n",
    "model.add(Embedding(vocab_size, 32))\n",
    "model.add(Dropout(0.2))\n",
    "model.add(Conv1D(32, kernel_size = 5, strides = 1, padding = \"valid\", activation = \"relu\"))\n",
    "model.add(GlobalMaxPooling1D())\n",
    "model.add(Dense(64, activation = \"relu\"))\n",
    "model.add(Dropout(0.2))\n",
    "model.add(Dense(1, activation = \"sigmoid\"))\n",
    "\n",
    "model.summary()"
   ]
  },
  {
   "cell_type": "code",
   "execution_count": 47,
   "id": "5685f4be",
   "metadata": {},
   "outputs": [],
   "source": [
    "model.compile(optimizer = \"adam\", \n",
    "             loss = \"binary_crossentropy\",\n",
    "             metrics = [\"acc\"])"
   ]
  },
  {
   "cell_type": "code",
   "execution_count": 48,
   "id": "f767aaf9",
   "metadata": {},
   "outputs": [],
   "source": [
    "es = EarlyStopping(patience = 3, restore_best_weights=True)\n",
    "mc = ModelCheckpoint(\"isu_best_model.h5\", save_best_only = True)\n",
    "history = model.fit"
   ]
  },
  {
   "cell_type": "code",
   "execution_count": 49,
   "id": "abeaf695",
   "metadata": {},
   "outputs": [
    {
     "name": "stdout",
     "output_type": "stream",
     "text": [
      "Epoch 1/10\n",
      "52/52 [==============================] - 3s 15ms/step - loss: 0.4685 - acc: 0.8652 - val_loss: 0.3757 - val_acc: 0.8730\n",
      "Epoch 2/10\n",
      "52/52 [==============================] - 1s 17ms/step - loss: 0.3555 - acc: 0.8697 - val_loss: 0.2918 - val_acc: 0.8730\n",
      "Epoch 3/10\n",
      "52/52 [==============================] - 1s 11ms/step - loss: 0.1734 - acc: 0.9296 - val_loss: 0.0857 - val_acc: 0.9758\n",
      "Epoch 4/10\n",
      "52/52 [==============================] - 1s 12ms/step - loss: 0.0564 - acc: 0.9840 - val_loss: 0.0570 - val_acc: 0.9807\n",
      "Epoch 5/10\n",
      "52/52 [==============================] - 0s 9ms/step - loss: 0.0348 - acc: 0.9906 - val_loss: 0.0509 - val_acc: 0.9794\n",
      "Epoch 6/10\n",
      "52/52 [==============================] - 0s 9ms/step - loss: 0.0221 - acc: 0.9937 - val_loss: 0.0508 - val_acc: 0.9819\n",
      "Epoch 7/10\n",
      "52/52 [==============================] - 0s 9ms/step - loss: 0.0139 - acc: 0.9964 - val_loss: 0.0513 - val_acc: 0.9770\n",
      "Epoch 8/10\n",
      "52/52 [==============================] - 1s 10ms/step - loss: 0.0116 - acc: 0.9970 - val_loss: 0.0551 - val_acc: 0.9758\n",
      "Epoch 9/10\n",
      "52/52 [==============================] - 0s 9ms/step - loss: 0.0075 - acc: 0.9988 - val_loss: 0.0581 - val_acc: 0.9770\n"
     ]
    }
   ],
   "source": [
    "history = model.fit(X_train, Y_train,\n",
    "                    epochs = 10, \n",
    "                    batch_size = 64,\n",
    "                    validation_split = 0.2,\n",
    "                    callbacks = [es, mc])"
   ]
  },
  {
   "cell_type": "code",
   "execution_count": 50,
   "id": "28383bd7",
   "metadata": {},
   "outputs": [
    {
     "name": "stdout",
     "output_type": "stream",
     "text": [
      "33/33 [==============================] - 0s 2ms/step - loss: 0.0562 - acc: 0.9816\n"
     ]
    },
    {
     "data": {
      "text/plain": [
       "[0.05618071183562279, 0.9816247820854187]"
      ]
     },
     "execution_count": 50,
     "metadata": {},
     "output_type": "execute_result"
    }
   ],
   "source": [
    "model.evaluate(X_test, Y_test)"
   ]
  },
  {
   "cell_type": "code",
   "execution_count": null,
   "id": "1d1aa4c7",
   "metadata": {},
   "outputs": [],
   "source": []
  }
 ],
 "metadata": {
  "kernelspec": {
   "display_name": "Python 3 (ipykernel)",
   "language": "python",
   "name": "python3"
  },
  "language_info": {
   "codemirror_mode": {
    "name": "ipython",
    "version": 3
   },
   "file_extension": ".py",
   "mimetype": "text/x-python",
   "name": "python",
   "nbconvert_exporter": "python",
   "pygments_lexer": "ipython3",
   "version": "3.9.13"
  }
 },
 "nbformat": 4,
 "nbformat_minor": 5
}
