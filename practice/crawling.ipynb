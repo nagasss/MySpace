{
 "cells": [
  {
   "cell_type": "markdown",
   "id": "26abb8b3",
   "metadata": {},
   "source": [
    "# 분석 목표\n",
    "\n",
    "- 여러 제조사별 무선청소기의 가격과 성능에 대한 데이터를 수집하고 분석하여 각각의 상황에 맞는 제품군 파악"
   ]
  },
  {
   "cell_type": "code",
   "execution_count": 1,
   "id": "8156780d",
   "metadata": {},
   "outputs": [],
   "source": [
    "from selenium import webdriver\n",
    "from bs4 import BeautifulSoup\n",
    "import pandas as pd\n",
    "import matplotlib.pyplot as plt\n",
    "import seaborn as sns"
   ]
  },
  {
   "cell_type": "code",
   "execution_count": 2,
   "id": "b8df94f7",
   "metadata": {},
   "outputs": [],
   "source": [
    "# matplotlib 한글 폰트 오류 문제 해결\n",
    "from matplotlib import font_manager, rc\n",
    "font_path = \"C:/Windows/Fonts/malgun.ttf\"\n",
    "font_name = font_manager.FontProperties(fname = font_path).get_name()\n",
    "rc(\"font\", family = font_name)"
   ]
  },
  {
   "cell_type": "markdown",
   "id": "58a71397",
   "metadata": {},
   "source": [
    "# 데이터 수집"
   ]
  },
  {
   "cell_type": "code",
   "execution_count": 3,
   "id": "f78747c9",
   "metadata": {},
   "outputs": [],
   "source": [
    "# 다나와에서 무선청소기 검색 -> url 복사\n",
    "#url = 'https://search.danawa.com/dsearch.php?k1=%EB%AC%B4%EC%84%A0%EC%B2%AD%EC%86%8C%EA%B8%B0' # 퍼센트 인코딩 (한글을 변환)\n",
    "url = \"https://search.danawa.com/dsearch.php?k1=무선청소기\"\n",
    "driver = webdriver.Chrome(\"chromedriver\")\n",
    "driver.get(url)\n",
    "driver.implicitly_wait(3)\n",
    "soup = BeautifulSoup(driver.page_source, \"lxml\")"
   ]
  },
  {
   "cell_type": "code",
   "execution_count": 4,
   "id": "c6db431e",
   "metadata": {},
   "outputs": [],
   "source": [
    "# 상품명 , 스펙, 첫번째 위치의 가격 크롤링"
   ]
  },
  {
   "cell_type": "code",
   "execution_count": 5,
   "id": "3a324d56",
   "metadata": {},
   "outputs": [],
   "source": [
    "prod_data = {\"상품명\" : [],\n",
    "             \"스펙목록\" : [],\n",
    "             \"가격\" : []}"
   ]
  },
  {
   "cell_type": "code",
   "execution_count": 6,
   "id": "b9af787a",
   "metadata": {},
   "outputs": [],
   "source": [
    "prod_items = soup.select(\"li.prod_item div.prod_main_info\")"
   ]
  },
  {
   "cell_type": "code",
   "execution_count": 7,
   "id": "8b6632fd",
   "metadata": {},
   "outputs": [
    {
     "data": {
      "text/plain": [
       "'LG전자 오브제컬렉션 코드제로 A9S AU9982'"
      ]
     },
     "execution_count": 7,
     "metadata": {},
     "output_type": "execute_result"
    }
   ],
   "source": [
    "# 상품명\n",
    "prod_items[0].select_one(\"a.click_log_product_standard_title_\").text.strip()"
   ]
  },
  {
   "cell_type": "code",
   "execution_count": 8,
   "id": "a3a2d986",
   "metadata": {
    "scrolled": true
   },
   "outputs": [
    {
     "data": {
      "text/plain": [
       "'핸디스틱청소기\\n\\t\\t\\t\\t\\t\\t\\t\\t\\t\\t\\t\\t / \\t\\t\\t\\t\\t\\t\\t\\t\\t\\t\\t\\t\\t\\t\\t\\t\\t\\t\\t\\t\\t\\t\\t\\t\\t\\t\\t\\t\\t\\t무선형\\n\\t\\t\\t\\t\\t\\t\\t\\t\\t\\t\\t\\t / \\t\\t\\t\\t\\t\\t\\t\\t\\t\\t\\t\\t\\t\\t\\t\\t\\t\\t\\t\\t\\t\\t\\t\\t\\t\\t\\t\\t\\t\\t흡입+물걸레겸용\\n\\t\\t\\t\\t\\t\\t\\t\\t\\t\\t\\t\\t / \\t\\t\\t\\t\\t\\t\\t\\t\\t\\t\\t\\t\\t\\t\\t\\t\\t\\t\\t\\t\\t\\t\\t\\t\\t\\t\\t\\t\\t\\t흡입력\\n\\t\\t\\t\\t\\t\\t\\t\\t\\t\\t\\t\\t: \\t\\t\\t\\t\\t\\t\\t\\t\\t\\t\\t\\t\\t\\t\\t\\t\\t\\t\\t\\t\\t\\t\\t\\t\\t\\t\\t\\t\\t\\t220W\\n\\t\\t\\t\\t\\t\\t\\t\\t\\t\\t\\t\\t / [구성] 와이드바닥\\n\\t\\t\\t\\t\\t\\t\\t\\t\\t\\t\\t\\t / \\t\\t\\t\\t\\t\\t\\t\\t\\t\\t\\t\\t\\t\\t\\t\\t\\t\\t\\t\\t\\t\\t\\t\\t\\t\\t\\t\\t\\t\\t스팀물걸레\\n\\t\\t\\t\\t\\t\\t\\t\\t\\t\\t\\t\\t / \\t\\t\\t\\t\\t\\t\\t\\t\\t\\t\\t\\t\\t\\t\\t\\t\\t\\t\\t\\t\\t\\t\\t\\t\\t\\t\\t\\t\\t\\t침구\\n\\t\\t\\t\\t\\t\\t\\t\\t\\t\\t\\t\\t / \\t\\t\\t\\t\\t\\t\\t\\t\\t\\t\\t\\t\\t\\t\\t\\t\\t\\t\\t\\t\\t\\t\\t\\t\\t\\t\\t\\t\\t\\t솔형\\n\\t\\t\\t\\t\\t\\t\\t\\t\\t\\t\\t\\t / \\t\\t\\t\\t\\t\\t\\t\\t\\t\\t\\t\\t\\t\\t\\t\\t\\t\\t\\t\\t\\t\\t\\t\\t\\t\\t\\t\\t\\t\\t틈새\\n\\t\\t\\t\\t\\t\\t\\t\\t\\t\\t\\t\\t / \\t\\t\\t\\t\\t\\t\\t\\t\\t\\t\\t\\t\\t\\t\\t\\t\\t\\t\\t\\t\\t\\t\\t\\t\\t\\t\\t\\t\\t\\t올인원타워\\n\\t\\t\\t\\t\\t\\t\\t\\t\\t\\t\\t\\t / [배터리] 분리형 (2개)\\n\\t\\t\\t\\t\\t\\t\\t\\t\\t\\t\\t\\t / \\t\\t\\t\\t\\t\\t\\t\\t\\t\\t\\t\\t\\t\\t\\t\\t\\t\\t\\t\\t\\t\\t\\t\\t\\t\\t\\t\\t\\t\\t충전시간\\n\\t\\t\\t\\t\\t\\t\\t\\t\\t\\t\\t\\t: \\t\\t\\t\\t\\t\\t\\t\\t\\t\\t\\t\\t\\t\\t\\t\\t\\t\\t\\t\\t\\t\\t\\t\\t\\t\\t\\t\\t\\t\\t4시간\\n\\t\\t\\t\\t\\t\\t\\t\\t\\t\\t\\t\\t / \\t\\t\\t\\t\\t\\t\\t\\t\\t\\t\\t\\t\\t\\t\\t\\t\\t\\t\\t\\t\\t\\t\\t\\t\\t\\t\\t\\t\\t\\t사용시간(개당)\\n\\t\\t\\t\\t\\t\\t\\t\\t\\t\\t\\t\\t: \\t\\t\\t\\t\\t\\t\\t\\t\\t\\t\\t\\t\\t\\t\\t\\t\\t\\t\\t\\t\\t\\t\\t\\t\\t\\t\\t\\t\\t\\t1시간\\n\\t\\t\\t\\t\\t\\t\\t\\t\\t\\t\\t\\t / [성능] 스마트인버터모터\\n\\t\\t\\t\\t\\t\\t\\t\\t\\t\\t\\t\\t / \\t\\t\\t\\t\\t\\t\\t\\t\\t\\t\\t\\t\\t\\t\\t\\t\\t\\t\\t\\t\\t\\t\\t\\t\\t\\t\\t\\t\\t\\t헤파필터\\n\\t\\t\\t\\t\\t\\t\\t\\t\\t\\t\\t\\t / \\t\\t\\t\\t\\t\\t\\t\\t\\t\\t\\t\\t\\t\\t\\t\\t\\t\\t\\t\\t\\t\\t\\t\\t\\t\\t\\t\\t\\t\\t5단계여과\\n\\t\\t\\t\\t\\t\\t\\t\\t\\t\\t\\t\\t / [기능] IoT기능\\n\\t\\t\\t\\t\\t\\t\\t\\t\\t\\t\\t\\t / \\t\\t\\t\\t\\t\\t\\t\\t\\t\\t\\t\\t\\t\\t\\t\\t\\t\\t\\t\\t\\t\\t\\t\\t\\t\\t\\t\\t\\t\\t디스플레이표시창\\n\\t\\t\\t\\t\\t\\t\\t\\t\\t\\t\\t\\t / \\t\\t\\t\\t\\t\\t\\t\\t\\t\\t\\t\\t\\t\\t\\t\\t\\t\\t\\t\\t\\t\\t\\t\\t\\t\\t\\t\\t\\t\\t자동물공급\\n\\t\\t\\t\\t\\t\\t\\t\\t\\t\\t\\t\\t / \\t\\t\\t\\t\\t\\t\\t\\t\\t\\t\\t\\t\\t\\t\\t\\t\\t\\t\\t\\t\\t\\t\\t\\t\\t\\t\\t\\t\\t\\tLED라이트\\n\\t\\t\\t\\t\\t\\t\\t\\t\\t\\t\\t\\t / \\t\\t\\t\\t\\t\\t\\t\\t\\t\\t\\t\\t\\t\\t\\t\\t\\t\\t\\t\\t\\t\\t\\t\\t\\t\\t\\t\\t\\t\\t자동먼지비움\\n\\t\\t\\t\\t\\t\\t\\t\\t\\t\\t\\t\\t / [부가] 색상\\n\\t\\t\\t\\t\\t\\t\\t\\t\\t\\t\\t\\t: \\t\\t\\t\\t\\t\\t\\t\\t\\t\\t\\t\\t\\t\\t\\t\\t\\t\\t\\t\\t\\t\\t\\t\\t\\t\\t\\t\\t\\t\\t카밍베이지\\n\\t\\t\\t\\t\\t\\t\\t\\t\\t\\t\\t\\t / \\t\\t\\t\\t\\t\\t\\t\\t\\t\\t\\t\\t\\t\\t\\t\\t\\t\\t\\t\\t\\t\\t\\t\\t\\t\\t\\t\\t\\t\\t무게\\n\\t\\t\\t\\t\\t\\t\\t\\t\\t\\t\\t\\t: \\t\\t\\t\\t\\t\\t\\t\\t\\t\\t\\t\\t\\t\\t\\t\\t\\t\\t\\t\\t\\t\\t\\t\\t\\t\\t\\t\\t\\t\\t2.7kg\\n\\t\\t\\t\\t\\t\\t\\t\\t\\t\\t\\t\\t / 크기(가로x세로x깊이): 300x1120x260mm'"
      ]
     },
     "execution_count": 8,
     "metadata": {},
     "output_type": "execute_result"
    }
   ],
   "source": [
    "# 스펙목록\n",
    "prod_items[0].select_one(\"div.spec_list\").text.strip()"
   ]
  },
  {
   "cell_type": "code",
   "execution_count": 9,
   "id": "162518be",
   "metadata": {},
   "outputs": [
    {
     "data": {
      "text/plain": [
       "'1055510'"
      ]
     },
     "execution_count": 9,
     "metadata": {},
     "output_type": "execute_result"
    }
   ],
   "source": [
    "# 가격 정보\n",
    "prod_items[0].select_one(\"a.click_log_product_standard_price_ > strong\").text.strip().replace(\",\", \"\")"
   ]
  },
  {
   "cell_type": "code",
   "execution_count": 10,
   "id": "b8476e4c",
   "metadata": {},
   "outputs": [],
   "source": [
    "for prod_item in prod_items:\n",
    "    if \"product-pot\" in prod_item[\"class\"]:\n",
    "        continue\n",
    "        # 공백부분 제외하기\n",
    "        \n",
    "    try:\n",
    "        # 상품명\n",
    "        title = prod_item.select_one(\"a.click_log_product_standard_title_\").text.strip()\n",
    "        # 스펙 목록\n",
    "        spec_list = prod_item.select_one(\"div.spec_list\").text.strip()\n",
    "        # 가격 정보\n",
    "        price = prod_item.select_one(\"a.click_log_product_standard_price_ > strong\").text.strip().replace(\",\", \"\")\n",
    "        \n",
    "        prod_data[\"상품명\"].append(title)\n",
    "        prod_data[\"스펙목록\"].append(spec_list)\n",
    "        prod_data[\"가격\"].append(price)\n",
    "        \n",
    "    except:\n",
    "        pass # 광고 등 에러가 발생하면 넘어가기"
   ]
  },
  {
   "cell_type": "code",
   "execution_count": 11,
   "id": "78160c8d",
   "metadata": {
    "scrolled": true
   },
   "outputs": [
    {
     "data": {
      "text/plain": [
       "40"
      ]
     },
     "execution_count": 11,
     "metadata": {},
     "output_type": "execute_result"
    }
   ],
   "source": [
    "len(prod_data[\"상품명\"])"
   ]
  },
  {
   "cell_type": "code",
   "execution_count": 12,
   "id": "a498ff44",
   "metadata": {
    "scrolled": true
   },
   "outputs": [
    {
     "data": {
      "text/plain": [
       "['LG전자 오브제컬렉션 코드제로 A9S AU9982',\n",
       " '다이슨 V10 플러피 오리진',\n",
       " '삼성전자 비스포크 제트 VS20B956AX',\n",
       " '샤오미 미지아 차량용 핸디 무선 청소기',\n",
       " '삼성전자 비스포크 제트 VS20A956A3',\n",
       " '일렉트로룩스 에르고라피도 ZB3512IG',\n",
       " 'LG전자 코드제로 A9S AT9200BA',\n",
       " 'LG전자 오브제컬렉션 코드제로 A9S AT9401WC',\n",
       " 'LG전자 오브제컬렉션 코드제로 A9S AT9201WB',\n",
       " '삼성전자 비스포크 제트 VS20B956D5',\n",
       " '베이스어스 차량용 청소기 A3 (해외구매)',\n",
       " 'LG전자 코드제로 A9S AT9270',\n",
       " '삼성전자 제트 VS20T92K0BF',\n",
       " '샤오미 드리미 V10',\n",
       " '한라홀딩스 만도 차량용 청소기 MC-100',\n",
       " 'LG전자 코드제로 A9S AS9271',\n",
       " 'LG전자 오브제컬렉션 코드제로 A9S AO9571',\n",
       " '다이슨 V15 디텍트 컴플리트',\n",
       " 'LG전자 오브제컬렉션 코드제로 A9S AU9672WD',\n",
       " '삼성전자 비스포크 제트 VS20B957D4',\n",
       " '오아 클린듀얼 차량용 청소기 OCL-028BK',\n",
       " '리하스 차량용 미니 무선 청소기 TEB-4120',\n",
       " '조아스 차량용 듀얼 무선 에어건 청소기 JVC-3000',\n",
       " '샤오미 CLEANFLY 차량용 무선 청소기 4세대 H2 (해외구매)',\n",
       " '다이슨 V10 앱솔루트',\n",
       " '오아 클린보틀 차량용 청소기 OA-CL002',\n",
       " '다이슨 V12 디텍트 슬림 컴플리트',\n",
       " 'DIBEA 차이슨 ALLNEW22000 스노우화이트',\n",
       " '캐치웰 차량용 핸디 텀블러 청소기 THC1000',\n",
       " '삼성전자 에어본 화이트 VC-H22',\n",
       " 'LG전자 오브제컬렉션 코드제로 A9S AU9602WD',\n",
       " '삼성전자 비스포크 제트 VS20A956AVW',\n",
       " '오아 클린벨 핸디 미니 차량용 청소기',\n",
       " '로리스토어 알파플랜 차량용 무선 에어건 청소기 ACV01',\n",
       " 'LG전자 코드제로 A9S AT9271',\n",
       " 'LG전자 오브제컬렉션 코드제로 A9S AU9882',\n",
       " '샤오미 미지아 차량용 핸디 무선 청소기 (해외구매)',\n",
       " '뉴메이슨 듀얼 차량용 청소기 JB-P02',\n",
       " '제이엠스퀘어 바넥스 차량용 무선 청소기 BX-C30',\n",
       " 'LG전자 코드제로 A9S AT9471']"
      ]
     },
     "execution_count": 12,
     "metadata": {},
     "output_type": "execute_result"
    }
   ],
   "source": [
    "prod_data[\"상품명\"]"
   ]
  },
  {
   "cell_type": "code",
   "execution_count": 13,
   "id": "684969fe",
   "metadata": {},
   "outputs": [],
   "source": [
    "# 10페이지까지 반복\n",
    "prod_data = {\"상품명\" : [],\n",
    "             \"스펙목록\" : [],\n",
    "             \"가격\" : []}\n",
    "\n",
    "driver = webdriver.Chrome(\"chromedriver\")\n",
    "\n",
    "for i in range(1, 11):\n",
    "    url = \"https://search.danawa.com/dsearch.php?query=무선청소기&originalQuery=%EB%AC%B4%EC%84%A0%EC%B2%AD%EC%86%8C%EA%B8%B0&volumeType=allvs&limit=40&sort=saveDESC&list=list&boost=true&addDelivery=N&recommendedSort=Y&defaultUICategoryCode=10325109&defaultPhysicsCategoryCode=72%7C80%7C81%7C0&defaultVmTab=2944&defaultVaTab=620897&tab=goods&page=\"\n",
    "    driver.get(url + str(i))\n",
    "    driver.implicitly_wait(3)\n",
    "    soup = BeautifulSoup(driver.page_source, \"lxml\")\n",
    "    \n",
    "    prod_items = soup.select(\"li.prod_item div.prod_main_info\")\n",
    "    \n",
    "    for prod_item in prod_items:\n",
    "        if \"product-pot\" in prod_item[\"class\"]:\n",
    "            continue\n",
    "            # 공백부분 제외하기\n",
    "\n",
    "        try:\n",
    "            # 상품명\n",
    "            title = prod_item.select_one(\"a.click_log_product_standard_title_\").text.strip()\n",
    "            # 스펙 목록\n",
    "            spec_list = prod_item.select_one(\"div.spec_list\").text.strip()\n",
    "            # 가격 정보\n",
    "            price = prod_item.select_one(\"a.click_log_product_standard_price_ > strong\").text.strip().replace(\",\", \"\")\n",
    "\n",
    "            prod_data[\"상품명\"].append(title)\n",
    "            prod_data[\"스펙목록\"].append(spec_list)\n",
    "            prod_data[\"가격\"].append(price)\n",
    "\n",
    "        except:\n",
    "            pass # 광고 등 에러가 발생하면 넘어가기"
   ]
  },
  {
   "cell_type": "code",
   "execution_count": 14,
   "id": "244d217c",
   "metadata": {},
   "outputs": [
    {
     "data": {
      "text/plain": [
       "['LG전자 오브제컬렉션 코드제로 A9S AU9982',\n",
       " '다이슨 V10 플러피 오리진',\n",
       " '삼성전자 비스포크 제트 VS20B956AX',\n",
       " '샤오미 미지아 차량용 핸디 무선 청소기',\n",
       " '삼성전자 비스포크 제트 VS20A956A3',\n",
       " '일렉트로룩스 에르고라피도 ZB3512IG',\n",
       " 'LG전자 코드제로 A9S AT9200BA',\n",
       " 'LG전자 오브제컬렉션 코드제로 A9S AT9401WC',\n",
       " 'LG전자 오브제컬렉션 코드제로 A9S AT9201WB',\n",
       " '삼성전자 비스포크 제트 VS20B956D5',\n",
       " '베이스어스 차량용 청소기 A3 (해외구매)',\n",
       " 'LG전자 코드제로 A9S AT9270',\n",
       " '삼성전자 제트 VS20T92K0BF',\n",
       " '샤오미 드리미 V10',\n",
       " '한라홀딩스 만도 차량용 청소기 MC-100',\n",
       " 'LG전자 코드제로 A9S AS9271',\n",
       " 'LG전자 오브제컬렉션 코드제로 A9S AO9571',\n",
       " '다이슨 V15 디텍트 컴플리트',\n",
       " 'LG전자 오브제컬렉션 코드제로 A9S AU9672WD',\n",
       " '삼성전자 비스포크 제트 VS20B957D4',\n",
       " '오아 클린듀얼 차량용 청소기 OCL-028BK',\n",
       " '리하스 차량용 미니 무선 청소기 TEB-4120',\n",
       " '조아스 차량용 듀얼 무선 에어건 청소기 JVC-3000',\n",
       " '샤오미 CLEANFLY 차량용 무선 청소기 4세대 H2 (해외구매)',\n",
       " '다이슨 V10 앱솔루트',\n",
       " '오아 클린보틀 차량용 청소기 OA-CL002',\n",
       " '다이슨 V12 디텍트 슬림 컴플리트',\n",
       " 'DIBEA 차이슨 ALLNEW22000 스노우화이트',\n",
       " '캐치웰 차량용 핸디 텀블러 청소기 THC1000',\n",
       " '삼성전자 에어본 화이트 VC-H22',\n",
       " 'LG전자 오브제컬렉션 코드제로 A9S AU9602WD',\n",
       " '삼성전자 비스포크 제트 VS20A956AVW',\n",
       " '오아 클린벨 핸디 미니 차량용 청소기',\n",
       " '로리스토어 알파플랜 차량용 무선 에어건 청소기 ACV01',\n",
       " 'LG전자 코드제로 A9S AT9271',\n",
       " 'LG전자 오브제컬렉션 코드제로 A9S AU9882',\n",
       " '샤오미 미지아 차량용 핸디 무선 청소기 (해외구매)',\n",
       " '뉴메이슨 듀얼 차량용 청소기 JB-P02',\n",
       " '제이엠스퀘어 바넥스 차량용 무선 청소기 BX-C30',\n",
       " 'LG전자 코드제로 A9S AT9471',\n",
       " '삼성전자 제트 VS20T92K3QD',\n",
       " '삼성전자 에어본 VC-H71',\n",
       " '삼성전자 비스포크 제트 VS20B957E5',\n",
       " 'LG전자 코드제로 A9S AT9300IA',\n",
       " 'LG전자 오브제컬렉션 코드제로 A9S AT9271',\n",
       " '삼성전자 비스포크 제트 VS20A957D2',\n",
       " '다이슨 Gen5 디텍트™ 컴플리트',\n",
       " 'LG전자 코드제로 A9S AS9270IA',\n",
       " '일렉트로룩스 WELL Q6 WQ61-1EDB',\n",
       " '다이슨 V11 앱솔루트',\n",
       " '샤오미 TROUVER SOLO10',\n",
       " '보쉬 GAS18V-1',\n",
       " '삼성전자 비스포크 슬림 VS15A680AEW',\n",
       " 'LG전자 코드제로 A9S AS9200BA',\n",
       " '삼성전자 비스포크 슬림 VS15A680DFW',\n",
       " '에어메이드 스마트포스 AMC-3500',\n",
       " '삼성전자 비스포크 제트 VS20A957D3',\n",
       " '다이슨 디지털 슬림 컴플리트',\n",
       " '삼성전자 비스포크 제트 VS20B957G5',\n",
       " 'LG전자 오브제컬렉션 코드제로 A9S AT9201WBK',\n",
       " 'SooPii 차량용 무선 에어건 겸용 청소기 BV01',\n",
       " 'LG전자 코드제로 A9S AT9571IB',\n",
       " 'DIBEA 차이슨 ALLNEW29000',\n",
       " '삼성전자 비스포크 제트 VS20A957E3',\n",
       " '픽스 차량용 휴대용 무선 에어건 청소기 XVC-301',\n",
       " '무궁화전자 바로바로 MC-B100',\n",
       " '삼성전자 비스포크 제트 VS20B957F5',\n",
       " '삼성전자 비스포크 제트 VS20B956BUE',\n",
       " '앱코 오엘라 네오스핀 OBC-AW09',\n",
       " 'LG전자 코드제로 A9S AS9201IB',\n",
       " '무궁화전자 바로바로 MC-B250',\n",
       " '로엘 듀스핀3 PRO',\n",
       " 'LG전자 오브제컬렉션 코드제로 A9S AU9802WD',\n",
       " '로엘 듀스핀5 PRO',\n",
       " '일렉트로룩스 Well Q6 Pet WQ61-1PSH',\n",
       " '다이슨 옴니 글라이드 컴플리트',\n",
       " '삼성전자 비스포크 제트 VS20B957D5',\n",
       " 'LG전자 오브제컬렉션 코드제로 A9S AU9972',\n",
       " '일렉트로룩스 에르고라피도 ZB3511DB',\n",
       " '캐치웰 CX PRO',\n",
       " 'LG전자 오브제컬렉션 코드제로 A9S AT9201WC',\n",
       " 'LG전자 코드제로 A9S AT9370BA',\n",
       " '일렉트로룩스 에르고라피도 파워프로 ZB3411',\n",
       " '일렉트로룩스 퓨어 Q9 파워프로 PQ92-3OBF',\n",
       " 'LG전자 오브제컬렉션 코드제로 A9S AU9872',\n",
       " '휴스톰 듀얼리튬 HS-12000W',\n",
       " '오토앤 디테일링 BLDC 핸디형 무선 청소기 WS-BV04',\n",
       " '일렉트로룩스 라피도 리튬 ZB6214IGM',\n",
       " '샤오미 LYDSTO 핸디형 에어펌프 진공청소기 (해외구매)',\n",
       " 'LG전자 오브제컬렉션 코드제로 A9S AU9872MPD',\n",
       " '삼성전자 파워스틱 VS02R6512JG',\n",
       " '삼성전자 비스포크 제트 VS20B957E4',\n",
       " 'LG전자 오브제컬렉션 코드제로 A9S AS9201WB',\n",
       " '다이슨 V11 220AW 컴플리트',\n",
       " '일렉트로룩스 에르고라피도 파워프로 ZB3414AK',\n",
       " '샤오미 LYDSTO 차량용 무선 청소기 H2 (해외구매)',\n",
       " 'LG전자 코드제로 A9 A9100N',\n",
       " '오토코스 차량용 프리미엄 무선 청소기 H2',\n",
       " '로보락 다이애드',\n",
       " '카렉스 파워스톰 미니 무선청소기',\n",
       " '머레이 무선 핸디형 청소기 HK-5030',\n",
       " '에어그립 차량용 무선진공청소기 라이트 KA-377',\n",
       " '샤오미 COCLEAN V30',\n",
       " '샤오미 SHUNZAO 차량용 무선청소기 2세대 Z1 (해외구매)',\n",
       " '일렉트로룩스 WELL Q7 WQ71-2OIBF',\n",
       " '휴스톰 듀얼라이팅 HS-9800GR',\n",
       " '한경희생활과학 아쿠아젯 듀얼스핀 HAAN-WV300',\n",
       " '일렉트로룩스 ZB6218STM',\n",
       " '인트비즈 MORUN 차량용 무선 미니 청소기 V5',\n",
       " '샤오미 CLEANFLY 차량용 무선 청소기 3세대 (해외구매)',\n",
       " '지티플러스 크린몬스터 핸디형 무선 진공 청소기',\n",
       " '일렉트로룩스 퓨어 Q9 PQ91-2OG',\n",
       " '아이룸 AST-009 플러스',\n",
       " '신일전자 SVC-P5000HP',\n",
       " '차량용 MAX 무선 청소기 X111-DK',\n",
       " '다이슨 V15 디텍트 앱솔루트 엑스트라',\n",
       " '디월트 DCPW550B',\n",
       " '신일전자 SVC-SHS500',\n",
       " '휴스톰 듀얼스핀 HS-10000',\n",
       " 'LG전자 코드제로 A9 A9200I',\n",
       " '키친아트 렉스 차량용 진공청소기 PK901',\n",
       " '유행코리아 더쎈 유무선 청소기',\n",
       " '파빗 2세대 전동청소솔 PRO FB-B270PRO',\n",
       " '샤오미 SHUNZAO 차량용 무선청소기 2세대 Z1 PRO (해외구매)',\n",
       " '테팔 에어포스 라이트 TY6545KL',\n",
       " '삼성전자 비스포크 슬림 VS15A680AEG',\n",
       " 'LG전자 코드제로 A9S A9370',\n",
       " '삼성전자 제트 VS15R8500BF',\n",
       " '삼성전자 제트 VS20T92P7SD',\n",
       " '신일전자 LCYC913',\n",
       " '블랙앤데커 PV1820BK',\n",
       " '라이트컴 COMS 4in1 차량용 멀티 청소기',\n",
       " '샤오미 TROUVER POWER 12',\n",
       " '알로코리아 차량용 무선 청소기 AVC1',\n",
       " '유행코리아 더쎈 차량용 무선 청소기 V2',\n",
       " '라이트컴 COMS 휴대용 미니 청소기 NE875',\n",
       " '조아스 차량용 에어건 청소기 JVC-2000',\n",
       " '테팔 엑스퍼트 6.60 TY6831',\n",
       " '샤오미 미홀 H17 Pro',\n",
       " '다이슨 V12 디텍트 슬림 앱솔루트 엑스트라',\n",
       " 'DIBEA 차이슨 ALLNEW22000 (2022년형)',\n",
       " '일렉트로룩스 얼티밋홈 900 EFP91813',\n",
       " '다이슨 옴니 글라이드 컴플리트+',\n",
       " '일렉트로룩스 에르고라피도 파워프로 ZB3424BL',\n",
       " '삼성전자 비스포크 슬림 VS15A680AF',\n",
       " '신일 무선 청소기 SVC-M2299',\n",
       " '삼성전자 파워스틱 VS03R6523J2',\n",
       " '캐치웰 NEW F7 플러스',\n",
       " '다이슨 V12 디텍트 슬림',\n",
       " '일렉트로룩스 WELL Q8 WQ81-3PSGF',\n",
       " 'LG전자 코드제로 A9 A9100S',\n",
       " '화웨이 차량용 청소기 (해외구매)',\n",
       " '코시 차량용 무선 청소기 VC3521AT',\n",
       " '샤오미 LYDSTO 핸디형 에어펌프 진공청소기',\n",
       " '에어메이드 글라이드 AMC-2150',\n",
       " '테팔 엑스퍼트 3.60 TY6938',\n",
       " '블랙앤데커 HLVC320B',\n",
       " '위드앤올 2in1 휴대용 무선 에어건 핸디 청소기 WNA-AG8',\n",
       " '유니맥스 차량용 무선 BLDC 청소기 UVC-CDC900WH',\n",
       " '삼성전자 제트 VS20T9218QDCC',\n",
       " '신일전자 롤링스턴 SDC-EQ900',\n",
       " '삼성전자 비스포크 제트 VS20A956A3P',\n",
       " '알토디자인 에코너 T-1 핸디형 무선 차량용 청소기',\n",
       " '베이스어스 차량용 무선 진공 청소기 A2 (해외구매)',\n",
       " '한샘 트리플 플러스 2.0 QNBC-6000W',\n",
       " '홍진테크 인더스 IN-HV7',\n",
       " '이지 100 차량용 무선 청소기 ECONER-T2',\n",
       " '휴스톰 듀얼액션 글라이드 HG-2000',\n",
       " '삼성전자 제트 VS15R8543Q4CW',\n",
       " '마끼다 DCL182ZW',\n",
       " '지웰 벤투스 아쿠아 맥스',\n",
       " '테팔 에어포스360 라이트 이지 TY5520',\n",
       " '블랙앤데커 BHHV520BF00',\n",
       " '일렉트로룩스 Well Q7 Pet WQ71-2PSSF',\n",
       " '로엘 듀스핀',\n",
       " '샤오미 LYDSTO 차량용 무선 청소기 H3 (해외구매)',\n",
       " '다온 V360',\n",
       " '일렉트로룩스 WELL Q6 WQ61-1OGG',\n",
       " '코코민트 트윈파워 OP-030',\n",
       " '웍스 휴대용 차량용 충전 청소기 본체 WX030.9',\n",
       " '샤오미 SWDK-D260',\n",
       " '코칸 차량용 무선 진공 핸디 청소기 CHC-UY01',\n",
       " 'LG전자 오브제컬렉션 코드제로 A9S AO9471WKT',\n",
       " '씽크웨이 ThinkAir 세상깨끗한 TA-MV7',\n",
       " '샤오미 TROUVER POWER 11',\n",
       " '일렉트로룩스 WELL Q7 WQ71-2BSWF',\n",
       " '신일전자 SVC-750SG',\n",
       " '위드피플즈 가제트 차량용 청소기 GVC3000',\n",
       " '씽크웨이 ThinkAir 세상깨끗한 TA-MV9',\n",
       " '앱코 오엘라 HV01',\n",
       " '캐치웰 C10 PRO',\n",
       " '보만 VC7210',\n",
       " '머레이 핸디형 무선청소기 HK-6030',\n",
       " '라이트컴 COMS 자동차 무선 진공 청소기 YC913',\n",
       " '비즈포비즈 클래파 BVC-H10',\n",
       " '샤오미 드리미 건습식 W10 Pro',\n",
       " '웍스 WG630E.2',\n",
       " '한빛시스템 HV-5010',\n",
       " '캐치웰 CV6 플러스',\n",
       " '셀렉프로 차량용 핸디형 청소기 ATM-VCC-1',\n",
       " '피닉스전자 보본 브이건 프리미엄 차량용 청소기 VB-V1600B',\n",
       " '디티 핸디형 미니 무선청소기 DT-CV200',\n",
       " '다이슨 V8 플러피',\n",
       " '일렉트로룩스 얼티밋홈 900 EFP91814WH',\n",
       " '일렉트로룩스 에르고라피도 ZB3515ST',\n",
       " 'DIBEA 올인원25000',\n",
       " 'LG전자 코드제로 A9S AT9401IB',\n",
       " 'DIBEA AUTO17000',\n",
       " '리하스 S3',\n",
       " '일렉트로룩스 퓨어 Q9 파워프로 PQ92-3BWF',\n",
       " '테팔 엑스포스 8.60 라이트 TY9635KO',\n",
       " '아이엠듀 더스트 닥터 차량용 청소기 V6',\n",
       " '마이프랜드 아백 무선 청소기',\n",
       " '삼성전자 비스포크 제트 VS20A956E3',\n",
       " '다이슨 V10 플러피',\n",
       " '샤오미 드리미 V12',\n",
       " '다이슨 V10 앱솔루트 플러스',\n",
       " '피앤지 와이드 스톰 차량용 청소기 PG-VC02',\n",
       " '대우어플라이언스 아쿠아젯 DEX-WC130',\n",
       " '한빛시스템 HV-5099',\n",
       " '시프이컴 핸디형 차량용 무선 청소기 DK-X112',\n",
       " '카렉스 파워스톰 텀블러 차량용 무선청소기 S8A',\n",
       " '샤오미 드리미 V9',\n",
       " '델로라 V11 파워 300W',\n",
       " '일렉트로룩스 에르고라피도 베드프로 ZB3323BO',\n",
       " '베이스어스 차량용 진공 청소기 A1 (해외구매)',\n",
       " '신일전자 SVC-680G',\n",
       " '욜로닉스 로헨 L30',\n",
       " '마이리빙 이지러빙 SNAPP-BC-01',\n",
       " '삼성전자 제트 VS15A6031N5',\n",
       " '일렉트로룩스 ZB6210EB',\n",
       " '일렉트로룩스 얼티밋홈 900 EFP91825',\n",
       " '비트로캔디 VC903MF',\n",
       " '아이룸 제우스 i30',\n",
       " '벤딕트 차량용 핸디 무선 청소기 VDT-031',\n",
       " '넥스톰 초미니 차량용 청소기 NXT-200',\n",
       " '벨퍼포먼스 무선 핸디 미니 차량용 청소기 D2',\n",
       " '쿠쿠전자 인스퓨어 파워클론 CVC-A1420UG',\n",
       " '마끼다 DCL180Z',\n",
       " '일렉트로룩스 WELL Q7 WQ71-2OIB',\n",
       " '삼에스 ALWAYS CLEAN 차량용 무선 청소기',\n",
       " '샤오미 G10',\n",
       " 'LG전자 오브제컬렉션 코드제로 A9S AU9982WD + MO971WA',\n",
       " '한경희생활과학 HKH-C250B',\n",
       " '일렉트로룩스 퓨어 Q9 PQ91-3OB',\n",
       " '제이코스 몬스터 멀티 에어건 차량용 청소기 JM-Z5',\n",
       " 'BSW BS-14048-VC',\n",
       " '듀플렉스 DP-480VC',\n",
       " '보쉬 GAS10.8V-LI',\n",
       " 'DIBEA 올인원뉴',\n",
       " '레이캅 펫+ RS4-100KRWH',\n",
       " '한빛시스템 HV-5088',\n",
       " '한샘 트리플 플러스 HSBC-6000W',\n",
       " 'LG전자 코드제로 A9S AT9201IB',\n",
       " '지웰 벤투스 아쿠아 프로',\n",
       " 'DIBEA 차이슨 ALLNEW22000',\n",
       " '애니스 JB2000',\n",
       " '신일전자 SVC-R60BCK',\n",
       " 'LG전자 오브제컬렉션 코드제로 A9S AS9201WC',\n",
       " '아이룸 마카롱 M20',\n",
       " '샤오미 CLEANFLY 차량용 무선 청소기 (해외구매)',\n",
       " '케이디와이 휴대용 미니청소기 KPV-3525',\n",
       " '샤오미 CLEANFLY 차량용 무선 청소기 H1 (해외구매)',\n",
       " '리하스 LH20',\n",
       " 'SINOLINK COCLEAN V30',\n",
       " '유니맥스 UVC-1688',\n",
       " '블랙앤데커 PV1820C',\n",
       " '블랙홀릭 블랙팟 싹흡입하카 미니청소기 BHG014',\n",
       " '에어메이드 글라이드S AMC-2500',\n",
       " '샤오미 미지아 WXCDJ01SWDK',\n",
       " '쿠팡 홈플래닛 WL05',\n",
       " '아이룸 KHAN A15',\n",
       " '홈마블 차량용 무선 청소기 H70',\n",
       " '휴스톰 듀얼라이팅 HS-9000',\n",
       " 'JONR XQ02E',\n",
       " '신일전자 SVC-1316R',\n",
       " '오아 OA-CL010',\n",
       " '기펠 ZET-10',\n",
       " '일렉트로룩스 에르고라피도 ZB3311',\n",
       " '라헨느 V25 더 퀸 앱솔루트 LHVC-N250',\n",
       " '홈마블 H80',\n",
       " '보랄 X10 BR-H490RV',\n",
       " '샤크 에보 파워 플러스 WV260KR',\n",
       " '툴앤툴 네오스틱 T3000',\n",
       " '쿠팡 홈플래닛 858B-DC',\n",
       " '코슬리 스위트 KV-17IV',\n",
       " '쿠쿠전자 인스퓨어 파워클론 CVC-A1410UG',\n",
       " '마끼다 CL106FD',\n",
       " '블랙앤데커 DVC320B01',\n",
       " '쿠쿠전자 CVC-B1020UG',\n",
       " '삼성전자 제트 VS20T9278S3',\n",
       " '원더스리빙 원더스 다이나킹 Z9',\n",
       " 'KM그랜드 KMPW-40B',\n",
       " '샤오미 70mai 차량용 무선 청소기 (해외구매)',\n",
       " '일렉트로룩스 퓨어 Q9 PQ91-3BW',\n",
       " '메이드조이 차량용 청소기 MV-W200',\n",
       " '에어메이드 THE 500+ AMC-4500',\n",
       " '삼성전자 제트 VS20R9044SA',\n",
       " '자일렉 ZL-274H',\n",
       " '혼스 차량 무선 진공 청소기 HSCC-8000',\n",
       " '모모픽 MM-X10',\n",
       " '블랙앤데커 PDB315JB',\n",
       " '앱코 오엘라 VC03',\n",
       " '휴스톰 듀얼라이팅 HS-9800P',\n",
       " '디베아 에어슬림',\n",
       " '테팔 에어포스360 플랙스프로 TY9298',\n",
       " '머레이 충전식 무선 핸디형 청소기 HK-8030',\n",
       " '보쉬 유니버셜백 18',\n",
       " '샤오미 드리미 P10 Pro',\n",
       " '샤오미 로이드미 X30 프로',\n",
       " '샤오미 유핀 CL99',\n",
       " '블랙앤데커 NSVA315J',\n",
       " '캐치웰 C10',\n",
       " '테팔 엑스퍼트 3.60 TY6933',\n",
       " '인트비즈 MORUN 차량용 무선 진공 청소기 V6',\n",
       " '한경희이지라이프 차량용 핸디 청소기 D32',\n",
       " '뉴썬인더스트리 하우리즈 블랙나인 NS-WV200',\n",
       " '샤크 에보 파워 플러스 WV250KR2',\n",
       " '워터루핀 WT-N2020',\n",
       " '코칸 차량용 무선 진공 핸디 청소기 CHC-VY01',\n",
       " '케이원글로벌모터스 트랜디 싹쓰리 차량용 무선 청소기',\n",
       " 'DIBEA M500 퀀텀',\n",
       " 'LG전자 코드제로 A9S AS9371IKT',\n",
       " '아이닉 NEW i20',\n",
       " '일렉트로룩스 얼티밋홈 700 EFS71425WH',\n",
       " '테팔 엑스포스 8.60 라이트 TY9634KO',\n",
       " '일렉트로룩스 에르고라피도 클래식 ZB3501EB',\n",
       " '샤오미 드리미 T30',\n",
       " '훠링 미니 무선 청소기',\n",
       " '다이슨 디지털 슬림',\n",
       " '휴스톰 무선 심플스핀 HS-1000',\n",
       " '지웰 GWELL-1200',\n",
       " '동양 메이드조이 차량용 청소기 MV-W100',\n",
       " '신일전자 롤링스턴 SDC-CO3074WK',\n",
       " '유니맥스 차량용 무선 BLDC 청소기',\n",
       " '트윈마켓 차량용 청소기 V02 PLUS',\n",
       " '비브르 스톰파워 V31000',\n",
       " '로디 차량용 청소기 M2-BL3000',\n",
       " '테팔 에어포스360라이트 아쿠아 TY5586',\n",
       " 'LG전자 오브제컬렉션 코드제로 A9S AU9882WD + MO971WA',\n",
       " '카렉스 파워스톰 스마트 무선 청소기 6WC0900037',\n",
       " '청연엠엔에스 NV92-ECL77',\n",
       " '신일전자 SDC-B5000W',\n",
       " '다이슨 V11 컴플리트',\n",
       " '스위스밀리터리 에어슬림 SMA-BV2200',\n",
       " '다이슨 디지털 슬림 플러피+',\n",
       " '삼성전자 제트 VS20T92P8SF',\n",
       " '신일전자 SVC-8858PNX',\n",
       " 'DIBEA M500 클래스',\n",
       " '테팔 엑스퍼트 3.60 TY6974',\n",
       " 'LG전자 코드제로 A9S A9700',\n",
       " '휴스톰 듀얼스핀 HS-10500',\n",
       " '블랙앤데커 BHHV520BFP07',\n",
       " '카데코 토드 제로 무선 청소기 TOAD22',\n",
       " 'DIBEA D18 플러스',\n",
       " '샤오미 드리미 H11',\n",
       " '레모토 윈드팡 에어건 무선청소기 AD-KF80',\n",
       " '샤오미 로이드미 Z1',\n",
       " '샤오미 COCLEAN 차량용 무선 청소기',\n",
       " '보만 USB 충전식 무선 청소기 WC0525W',\n",
       " '베이스어스 차량용 청소기 A3',\n",
       " '블랙앤데커 파워 익스트림 TBSV2020',\n",
       " '쿠팡 홈플래닛 미니 핸디 무선청소기 CP-HVC02',\n",
       " '보랄 텀블러 무선 차량용 청소기',\n",
       " '밀라디 MLD-VC2022',\n",
       " 'LG전자 오브제컬렉션 코드제로 A9S AS9401WC',\n",
       " '삼성전자 비스포크 제트 VS20A956A3 + 물걸레',\n",
       " '샤오미 COCLEAN 차량용 무선 청소기 가정용 충전기 220V',\n",
       " '샤오미 드리미 T20',\n",
       " 'SooPii 차량용 무선 에어건 겸용 청소기 BV01 전용필터',\n",
       " '신일전자 SVC-8900SG',\n",
       " '인터하우스 차량용 무선청소기 GVC-6000MG',\n",
       " '휴대용 청소기 트리플블랙 Z5',\n",
       " '샤오미 드리미 V11',\n",
       " '삼성전자 제트 VS20T92P7SF',\n",
       " '스위스밀리터리 아쿠아스피닝 SMA-D88',\n",
       " '샤오미 디어마 VC01',\n",
       " '보아르 포스W',\n",
       " '에드미 EDM-805',\n",
       " '비쎌(BISSELL) 크로스웨이브 3.0 맥스 2765S',\n",
       " '블랙앤데커 PD1810BEXT',\n",
       " '신일전자 SVC-PB195BUP',\n",
       " '블랙앤데커 PD1810LR',\n",
       " '삼성전자 비스포크 제트 VS20A957E2',\n",
       " '발뮤다 더 클리너 C01B',\n",
       " '다이슨 V6 헤파',\n",
       " 'DIBEA DW200',\n",
       " '삼성전자 제트 VS20T9253QD',\n",
       " '스페이스텐드 프리미엄 핸디 무선청소기 ST-PV001',\n",
       " '모모픽 MAX300',\n",
       " '뮤클레즈 DW-WM945L',\n",
       " '쿠쿠전자 파워클론 CVC-AE1410',\n",
       " '유행코리아 더쎈 차량용 무선 청소기 V3',\n",
       " '엔퓨텍 퓨라이트XD',\n",
       " '벨퍼포먼스 무선 핸디 미니 차량용 청소기 D3',\n",
       " '블루필 몽땅 BVC201',\n",
       " '블랙앤데커 HLVC315B',\n",
       " '보랄 메카닉 BR-SV680RC',\n",
       " '모온 오비큠 (2022년형)',\n",
       " '캐치웰 THC-1000']"
      ]
     },
     "execution_count": 14,
     "metadata": {},
     "output_type": "execute_result"
    }
   ],
   "source": [
    "prod_data[\"상품명\"]"
   ]
  },
  {
   "cell_type": "code",
   "execution_count": 15,
   "id": "bedfb52b",
   "metadata": {},
   "outputs": [
    {
     "data": {
      "text/plain": [
       "400"
      ]
     },
     "execution_count": 15,
     "metadata": {},
     "output_type": "execute_result"
    }
   ],
   "source": [
    "len(prod_data[\"상품명\"])"
   ]
  },
  {
   "cell_type": "markdown",
   "id": "258145cc",
   "metadata": {},
   "source": [
    "# 데이터 전처리"
   ]
  },
  {
   "cell_type": "markdown",
   "id": "c2b1a167",
   "metadata": {},
   "source": [
    "## 데이터 확인"
   ]
  },
  {
   "cell_type": "code",
   "execution_count": 16,
   "id": "7479e0b2",
   "metadata": {},
   "outputs": [],
   "source": [
    "df = pd.DataFrame(prod_data)"
   ]
  },
  {
   "cell_type": "code",
   "execution_count": 17,
   "id": "00c98701",
   "metadata": {},
   "outputs": [
    {
     "data": {
      "text/html": [
       "<div>\n",
       "<style scoped>\n",
       "    .dataframe tbody tr th:only-of-type {\n",
       "        vertical-align: middle;\n",
       "    }\n",
       "\n",
       "    .dataframe tbody tr th {\n",
       "        vertical-align: top;\n",
       "    }\n",
       "\n",
       "    .dataframe thead th {\n",
       "        text-align: right;\n",
       "    }\n",
       "</style>\n",
       "<table border=\"1\" class=\"dataframe\">\n",
       "  <thead>\n",
       "    <tr style=\"text-align: right;\">\n",
       "      <th></th>\n",
       "      <th>상품명</th>\n",
       "      <th>스펙목록</th>\n",
       "      <th>가격</th>\n",
       "    </tr>\n",
       "  </thead>\n",
       "  <tbody>\n",
       "    <tr>\n",
       "      <th>0</th>\n",
       "      <td>LG전자 오브제컬렉션 코드제로 A9S AU9982</td>\n",
       "      <td>핸디스틱청소기\\n\\t\\t\\t\\t\\t\\t\\t\\t\\t\\t\\t\\t / \\t\\t\\t\\t\\t...</td>\n",
       "      <td>1055510</td>\n",
       "    </tr>\n",
       "    <tr>\n",
       "      <th>1</th>\n",
       "      <td>다이슨 V10 플러피 오리진</td>\n",
       "      <td>핸디스틱청소기\\n\\t\\t\\t\\t\\t\\t\\t\\t\\t\\t\\t\\t / \\t\\t\\t\\t\\t...</td>\n",
       "      <td>404100</td>\n",
       "    </tr>\n",
       "    <tr>\n",
       "      <th>2</th>\n",
       "      <td>삼성전자 비스포크 제트 VS20B956AX</td>\n",
       "      <td>핸디스틱청소기\\n\\t\\t\\t\\t\\t\\t\\t\\t\\t\\t\\t\\t / \\t\\t\\t\\t\\t...</td>\n",
       "      <td>519000</td>\n",
       "    </tr>\n",
       "    <tr>\n",
       "      <th>3</th>\n",
       "      <td>샤오미 미지아 차량용 핸디 무선 청소기</td>\n",
       "      <td>차량용청소기 / \\t\\t\\t\\t\\t\\t\\t\\t\\t\\t\\t\\t\\t\\t\\t\\t\\t\\t\\...</td>\n",
       "      <td>48000</td>\n",
       "    </tr>\n",
       "    <tr>\n",
       "      <th>4</th>\n",
       "      <td>삼성전자 비스포크 제트 VS20A956A3</td>\n",
       "      <td>핸디스틱청소기\\n\\t\\t\\t\\t\\t\\t\\t\\t\\t\\t\\t\\t / \\t\\t\\t\\t\\t...</td>\n",
       "      <td>435080</td>\n",
       "    </tr>\n",
       "  </tbody>\n",
       "</table>\n",
       "</div>"
      ],
      "text/plain": [
       "                           상품명  \\\n",
       "0  LG전자 오브제컬렉션 코드제로 A9S AU9982   \n",
       "1              다이슨 V10 플러피 오리진   \n",
       "2      삼성전자 비스포크 제트 VS20B956AX   \n",
       "3        샤오미 미지아 차량용 핸디 무선 청소기   \n",
       "4      삼성전자 비스포크 제트 VS20A956A3   \n",
       "\n",
       "                                                스펙목록       가격  \n",
       "0  핸디스틱청소기\\n\\t\\t\\t\\t\\t\\t\\t\\t\\t\\t\\t\\t / \\t\\t\\t\\t\\t...  1055510  \n",
       "1  핸디스틱청소기\\n\\t\\t\\t\\t\\t\\t\\t\\t\\t\\t\\t\\t / \\t\\t\\t\\t\\t...   404100  \n",
       "2  핸디스틱청소기\\n\\t\\t\\t\\t\\t\\t\\t\\t\\t\\t\\t\\t / \\t\\t\\t\\t\\t...   519000  \n",
       "3  차량용청소기 / \\t\\t\\t\\t\\t\\t\\t\\t\\t\\t\\t\\t\\t\\t\\t\\t\\t\\t\\...    48000  \n",
       "4  핸디스틱청소기\\n\\t\\t\\t\\t\\t\\t\\t\\t\\t\\t\\t\\t / \\t\\t\\t\\t\\t...   435080  "
      ]
     },
     "execution_count": 17,
     "metadata": {},
     "output_type": "execute_result"
    }
   ],
   "source": [
    "df.head()"
   ]
  },
  {
   "cell_type": "code",
   "execution_count": 18,
   "id": "496cdeca",
   "metadata": {},
   "outputs": [
    {
     "data": {
      "text/plain": [
       "'핸디스틱청소기/무선형/흡입+물걸레겸용/흡입력:220W/[구성]와이드바닥/스팀물걸레/침구/솔형/틈새/올인원타워/[배터리]분리형(2개)/충전시간:4시간/사용시간(개당):1시간/[성능]스마트인버터모터/헤파필터/5단계여과/[기능]IoT기능/디스플레이표시창/자동물공급/LED라이트/자동먼지비움/[부가]색상:카밍베이지/무게:2.7kg/크기(가로x세로x깊이):300x1120x260mm'"
      ]
     },
     "execution_count": 18,
     "metadata": {},
     "output_type": "execute_result"
    }
   ],
   "source": [
    "df.loc[0, \"스펙목록\"].replace(\"\\n\", \"\").replace(\"\\t\", \"\").replace(\" \", \"\")"
   ]
  },
  {
   "cell_type": "code",
   "execution_count": 19,
   "id": "02f37228",
   "metadata": {},
   "outputs": [],
   "source": [
    "def clean_text(text):\n",
    "    text = text.replace(\"\\n\", \"\")\n",
    "    text = text.replace(\"\\t\", \"\")\n",
    "    text = text.replace(\" \", \"\")\n",
    "    return text"
   ]
  },
  {
   "cell_type": "code",
   "execution_count": 20,
   "id": "5ac2daf3",
   "metadata": {},
   "outputs": [],
   "source": [
    "df[\"스펙목록\"] = df[\"스펙목록\"].map(clean_text)"
   ]
  },
  {
   "cell_type": "code",
   "execution_count": 21,
   "id": "23a5ed5d",
   "metadata": {},
   "outputs": [
    {
     "data": {
      "text/html": [
       "<div>\n",
       "<style scoped>\n",
       "    .dataframe tbody tr th:only-of-type {\n",
       "        vertical-align: middle;\n",
       "    }\n",
       "\n",
       "    .dataframe tbody tr th {\n",
       "        vertical-align: top;\n",
       "    }\n",
       "\n",
       "    .dataframe thead th {\n",
       "        text-align: right;\n",
       "    }\n",
       "</style>\n",
       "<table border=\"1\" class=\"dataframe\">\n",
       "  <thead>\n",
       "    <tr style=\"text-align: right;\">\n",
       "      <th></th>\n",
       "      <th>상품명</th>\n",
       "      <th>스펙목록</th>\n",
       "      <th>가격</th>\n",
       "    </tr>\n",
       "  </thead>\n",
       "  <tbody>\n",
       "    <tr>\n",
       "      <th>0</th>\n",
       "      <td>LG전자 오브제컬렉션 코드제로 A9S AU9982</td>\n",
       "      <td>핸디스틱청소기/무선형/흡입+물걸레겸용/흡입력:220W/[구성]와이드바닥/스팀물걸레/...</td>\n",
       "      <td>1055510</td>\n",
       "    </tr>\n",
       "    <tr>\n",
       "      <th>1</th>\n",
       "      <td>다이슨 V10 플러피 오리진</td>\n",
       "      <td>핸디스틱청소기/무선형/흡입전용/흡입력:151AW/[구성]소프트롤러/미니모터/솔형/더...</td>\n",
       "      <td>404100</td>\n",
       "    </tr>\n",
       "    <tr>\n",
       "      <th>2</th>\n",
       "      <td>삼성전자 비스포크 제트 VS20B956AX</td>\n",
       "      <td>핸디스틱청소기/무선형/흡입전용/흡입력:220W/[구성]바닥/솔형/틈새/연장툴/청정스...</td>\n",
       "      <td>519000</td>\n",
       "    </tr>\n",
       "    <tr>\n",
       "      <th>3</th>\n",
       "      <td>샤오미 미지아 차량용 핸디 무선 청소기</td>\n",
       "      <td>차량용청소기/무선/흡입력:13,000Pa/최대출력:120W/헤파필터/추가노즐:틈새,...</td>\n",
       "      <td>48000</td>\n",
       "    </tr>\n",
       "    <tr>\n",
       "      <th>4</th>\n",
       "      <td>삼성전자 비스포크 제트 VS20A956A3</td>\n",
       "      <td>핸디스틱청소기/무선형/흡입전용/흡입력:210W/[구성]바닥/솔형/틈새/연장툴/청정스...</td>\n",
       "      <td>435080</td>\n",
       "    </tr>\n",
       "  </tbody>\n",
       "</table>\n",
       "</div>"
      ],
      "text/plain": [
       "                           상품명  \\\n",
       "0  LG전자 오브제컬렉션 코드제로 A9S AU9982   \n",
       "1              다이슨 V10 플러피 오리진   \n",
       "2      삼성전자 비스포크 제트 VS20B956AX   \n",
       "3        샤오미 미지아 차량용 핸디 무선 청소기   \n",
       "4      삼성전자 비스포크 제트 VS20A956A3   \n",
       "\n",
       "                                                스펙목록       가격  \n",
       "0  핸디스틱청소기/무선형/흡입+물걸레겸용/흡입력:220W/[구성]와이드바닥/스팀물걸레/...  1055510  \n",
       "1  핸디스틱청소기/무선형/흡입전용/흡입력:151AW/[구성]소프트롤러/미니모터/솔형/더...   404100  \n",
       "2  핸디스틱청소기/무선형/흡입전용/흡입력:220W/[구성]바닥/솔형/틈새/연장툴/청정스...   519000  \n",
       "3  차량용청소기/무선/흡입력:13,000Pa/최대출력:120W/헤파필터/추가노즐:틈새,...    48000  \n",
       "4  핸디스틱청소기/무선형/흡입전용/흡입력:210W/[구성]바닥/솔형/틈새/연장툴/청정스...   435080  "
      ]
     },
     "execution_count": 21,
     "metadata": {},
     "output_type": "execute_result"
    }
   ],
   "source": [
    "df.head()"
   ]
  },
  {
   "cell_type": "code",
   "execution_count": 22,
   "id": "e2908c99",
   "metadata": {},
   "outputs": [
    {
     "data": {
      "text/plain": [
       "(400, 3)"
      ]
     },
     "execution_count": 22,
     "metadata": {},
     "output_type": "execute_result"
    }
   ],
   "source": [
    "df.shape"
   ]
  },
  {
   "cell_type": "code",
   "execution_count": 23,
   "id": "75cb3438",
   "metadata": {},
   "outputs": [
    {
     "name": "stdout",
     "output_type": "stream",
     "text": [
      "<class 'pandas.core.frame.DataFrame'>\n",
      "RangeIndex: 400 entries, 0 to 399\n",
      "Data columns (total 3 columns):\n",
      " #   Column  Non-Null Count  Dtype \n",
      "---  ------  --------------  ----- \n",
      " 0   상품명     400 non-null    object\n",
      " 1   스펙목록    400 non-null    object\n",
      " 2   가격      400 non-null    object\n",
      "dtypes: object(3)\n",
      "memory usage: 9.5+ KB\n"
     ]
    }
   ],
   "source": [
    "df.info()"
   ]
  },
  {
   "cell_type": "code",
   "execution_count": 24,
   "id": "d5b960cc",
   "metadata": {},
   "outputs": [],
   "source": [
    "df[\"가격\"] = df[\"가격\"].astype(int)"
   ]
  },
  {
   "cell_type": "code",
   "execution_count": 25,
   "id": "96a52c61",
   "metadata": {},
   "outputs": [
    {
     "name": "stdout",
     "output_type": "stream",
     "text": [
      "<class 'pandas.core.frame.DataFrame'>\n",
      "RangeIndex: 400 entries, 0 to 399\n",
      "Data columns (total 3 columns):\n",
      " #   Column  Non-Null Count  Dtype \n",
      "---  ------  --------------  ----- \n",
      " 0   상품명     400 non-null    object\n",
      " 1   스펙목록    400 non-null    object\n",
      " 2   가격      400 non-null    int32 \n",
      "dtypes: int32(1), object(2)\n",
      "memory usage: 7.9+ KB\n"
     ]
    }
   ],
   "source": [
    "df.info()"
   ]
  },
  {
   "cell_type": "markdown",
   "id": "40f067a7",
   "metadata": {},
   "source": [
    "## 회사명, 모델명 정리\n",
    "\n",
    "- 상품명 데이터는 회사명 + 모델명의 형식임\n",
    "    - 브랜드와 모델명으로 분리"
   ]
  },
  {
   "cell_type": "code",
   "execution_count": 26,
   "id": "81408b5b",
   "metadata": {},
   "outputs": [
    {
     "data": {
      "text/plain": [
       "['LG전자', '오브제컬렉션 코드제로 A9S AU9982']"
      ]
     },
     "execution_count": 26,
     "metadata": {},
     "output_type": "execute_result"
    }
   ],
   "source": [
    "df.iloc[0, 0].split(\" \", 1) # 첫 번째 공백에 대해서만 구분하도록"
   ]
  },
  {
   "cell_type": "code",
   "execution_count": 27,
   "id": "c5b9983c",
   "metadata": {},
   "outputs": [],
   "source": [
    "titles = df[\"상품명\"].str.split(\" \", 1)"
   ]
  },
  {
   "cell_type": "code",
   "execution_count": 28,
   "id": "51c480d7",
   "metadata": {},
   "outputs": [
    {
     "data": {
      "text/plain": [
       "0      [LG전자, 오브제컬렉션 코드제로 A9S AU9982]\n",
       "1                  [다이슨, V10 플러피 오리진]\n",
       "2          [삼성전자, 비스포크 제트 VS20B956AX]\n",
       "3            [샤오미, 미지아 차량용 핸디 무선 청소기]\n",
       "4          [삼성전자, 비스포크 제트 VS20A956A3]\n",
       "                    ...              \n",
       "395                  [블루필, 몽땅 BVC201]\n",
       "396                 [블랙앤데커, HLVC315B]\n",
       "397              [보랄, 메카닉 BR-SV680RC]\n",
       "398                [모온, 오비큠 (2022년형)]\n",
       "399                   [캐치웰, THC-1000]\n",
       "Name: 상품명, Length: 400, dtype: object"
      ]
     },
     "execution_count": 28,
     "metadata": {},
     "output_type": "execute_result"
    }
   ],
   "source": [
    "titles"
   ]
  },
  {
   "cell_type": "code",
   "execution_count": 29,
   "id": "8ca14149",
   "metadata": {},
   "outputs": [],
   "source": [
    "df[\"회사명\"] = titles.str.get(0)\n",
    "df[\"제품\"] = titles.str.get(1)"
   ]
  },
  {
   "cell_type": "code",
   "execution_count": 30,
   "id": "89470c52",
   "metadata": {},
   "outputs": [
    {
     "data": {
      "text/html": [
       "<div>\n",
       "<style scoped>\n",
       "    .dataframe tbody tr th:only-of-type {\n",
       "        vertical-align: middle;\n",
       "    }\n",
       "\n",
       "    .dataframe tbody tr th {\n",
       "        vertical-align: top;\n",
       "    }\n",
       "\n",
       "    .dataframe thead th {\n",
       "        text-align: right;\n",
       "    }\n",
       "</style>\n",
       "<table border=\"1\" class=\"dataframe\">\n",
       "  <thead>\n",
       "    <tr style=\"text-align: right;\">\n",
       "      <th></th>\n",
       "      <th>상품명</th>\n",
       "      <th>스펙목록</th>\n",
       "      <th>가격</th>\n",
       "      <th>회사명</th>\n",
       "      <th>제품</th>\n",
       "    </tr>\n",
       "  </thead>\n",
       "  <tbody>\n",
       "    <tr>\n",
       "      <th>0</th>\n",
       "      <td>LG전자 오브제컬렉션 코드제로 A9S AU9982</td>\n",
       "      <td>핸디스틱청소기/무선형/흡입+물걸레겸용/흡입력:220W/[구성]와이드바닥/스팀물걸레/...</td>\n",
       "      <td>1055510</td>\n",
       "      <td>LG전자</td>\n",
       "      <td>오브제컬렉션 코드제로 A9S AU9982</td>\n",
       "    </tr>\n",
       "    <tr>\n",
       "      <th>1</th>\n",
       "      <td>다이슨 V10 플러피 오리진</td>\n",
       "      <td>핸디스틱청소기/무선형/흡입전용/흡입력:151AW/[구성]소프트롤러/미니모터/솔형/더...</td>\n",
       "      <td>404100</td>\n",
       "      <td>다이슨</td>\n",
       "      <td>V10 플러피 오리진</td>\n",
       "    </tr>\n",
       "    <tr>\n",
       "      <th>2</th>\n",
       "      <td>삼성전자 비스포크 제트 VS20B956AX</td>\n",
       "      <td>핸디스틱청소기/무선형/흡입전용/흡입력:220W/[구성]바닥/솔형/틈새/연장툴/청정스...</td>\n",
       "      <td>519000</td>\n",
       "      <td>삼성전자</td>\n",
       "      <td>비스포크 제트 VS20B956AX</td>\n",
       "    </tr>\n",
       "    <tr>\n",
       "      <th>3</th>\n",
       "      <td>샤오미 미지아 차량용 핸디 무선 청소기</td>\n",
       "      <td>차량용청소기/무선/흡입력:13,000Pa/최대출력:120W/헤파필터/추가노즐:틈새,...</td>\n",
       "      <td>48000</td>\n",
       "      <td>샤오미</td>\n",
       "      <td>미지아 차량용 핸디 무선 청소기</td>\n",
       "    </tr>\n",
       "    <tr>\n",
       "      <th>4</th>\n",
       "      <td>삼성전자 비스포크 제트 VS20A956A3</td>\n",
       "      <td>핸디스틱청소기/무선형/흡입전용/흡입력:210W/[구성]바닥/솔형/틈새/연장툴/청정스...</td>\n",
       "      <td>435080</td>\n",
       "      <td>삼성전자</td>\n",
       "      <td>비스포크 제트 VS20A956A3</td>\n",
       "    </tr>\n",
       "  </tbody>\n",
       "</table>\n",
       "</div>"
      ],
      "text/plain": [
       "                           상품명  \\\n",
       "0  LG전자 오브제컬렉션 코드제로 A9S AU9982   \n",
       "1              다이슨 V10 플러피 오리진   \n",
       "2      삼성전자 비스포크 제트 VS20B956AX   \n",
       "3        샤오미 미지아 차량용 핸디 무선 청소기   \n",
       "4      삼성전자 비스포크 제트 VS20A956A3   \n",
       "\n",
       "                                                스펙목록       가격   회사명  \\\n",
       "0  핸디스틱청소기/무선형/흡입+물걸레겸용/흡입력:220W/[구성]와이드바닥/스팀물걸레/...  1055510  LG전자   \n",
       "1  핸디스틱청소기/무선형/흡입전용/흡입력:151AW/[구성]소프트롤러/미니모터/솔형/더...   404100   다이슨   \n",
       "2  핸디스틱청소기/무선형/흡입전용/흡입력:220W/[구성]바닥/솔형/틈새/연장툴/청정스...   519000  삼성전자   \n",
       "3  차량용청소기/무선/흡입력:13,000Pa/최대출력:120W/헤파필터/추가노즐:틈새,...    48000   샤오미   \n",
       "4  핸디스틱청소기/무선형/흡입전용/흡입력:210W/[구성]바닥/솔형/틈새/연장툴/청정스...   435080  삼성전자   \n",
       "\n",
       "                       제품  \n",
       "0  오브제컬렉션 코드제로 A9S AU9982  \n",
       "1             V10 플러피 오리진  \n",
       "2      비스포크 제트 VS20B956AX  \n",
       "3       미지아 차량용 핸디 무선 청소기  \n",
       "4      비스포크 제트 VS20A956A3  "
      ]
     },
     "execution_count": 30,
     "metadata": {},
     "output_type": "execute_result"
    }
   ],
   "source": [
    "df.head()"
   ]
  },
  {
   "cell_type": "code",
   "execution_count": 31,
   "id": "37a210ef",
   "metadata": {},
   "outputs": [],
   "source": [
    "df = df.drop(\"상품명\", axis = 1)"
   ]
  },
  {
   "cell_type": "code",
   "execution_count": 32,
   "id": "6ddb43b8",
   "metadata": {},
   "outputs": [
    {
     "data": {
      "text/html": [
       "<div>\n",
       "<style scoped>\n",
       "    .dataframe tbody tr th:only-of-type {\n",
       "        vertical-align: middle;\n",
       "    }\n",
       "\n",
       "    .dataframe tbody tr th {\n",
       "        vertical-align: top;\n",
       "    }\n",
       "\n",
       "    .dataframe thead th {\n",
       "        text-align: right;\n",
       "    }\n",
       "</style>\n",
       "<table border=\"1\" class=\"dataframe\">\n",
       "  <thead>\n",
       "    <tr style=\"text-align: right;\">\n",
       "      <th></th>\n",
       "      <th>스펙목록</th>\n",
       "      <th>가격</th>\n",
       "      <th>회사명</th>\n",
       "      <th>제품</th>\n",
       "    </tr>\n",
       "  </thead>\n",
       "  <tbody>\n",
       "    <tr>\n",
       "      <th>0</th>\n",
       "      <td>핸디스틱청소기/무선형/흡입+물걸레겸용/흡입력:220W/[구성]와이드바닥/스팀물걸레/...</td>\n",
       "      <td>1055510</td>\n",
       "      <td>LG전자</td>\n",
       "      <td>오브제컬렉션 코드제로 A9S AU9982</td>\n",
       "    </tr>\n",
       "    <tr>\n",
       "      <th>1</th>\n",
       "      <td>핸디스틱청소기/무선형/흡입전용/흡입력:151AW/[구성]소프트롤러/미니모터/솔형/더...</td>\n",
       "      <td>404100</td>\n",
       "      <td>다이슨</td>\n",
       "      <td>V10 플러피 오리진</td>\n",
       "    </tr>\n",
       "    <tr>\n",
       "      <th>2</th>\n",
       "      <td>핸디스틱청소기/무선형/흡입전용/흡입력:220W/[구성]바닥/솔형/틈새/연장툴/청정스...</td>\n",
       "      <td>519000</td>\n",
       "      <td>삼성전자</td>\n",
       "      <td>비스포크 제트 VS20B956AX</td>\n",
       "    </tr>\n",
       "    <tr>\n",
       "      <th>3</th>\n",
       "      <td>차량용청소기/무선/흡입력:13,000Pa/최대출력:120W/헤파필터/추가노즐:틈새,...</td>\n",
       "      <td>48000</td>\n",
       "      <td>샤오미</td>\n",
       "      <td>미지아 차량용 핸디 무선 청소기</td>\n",
       "    </tr>\n",
       "    <tr>\n",
       "      <th>4</th>\n",
       "      <td>핸디스틱청소기/무선형/흡입전용/흡입력:210W/[구성]바닥/솔형/틈새/연장툴/청정스...</td>\n",
       "      <td>435080</td>\n",
       "      <td>삼성전자</td>\n",
       "      <td>비스포크 제트 VS20A956A3</td>\n",
       "    </tr>\n",
       "  </tbody>\n",
       "</table>\n",
       "</div>"
      ],
      "text/plain": [
       "                                                스펙목록       가격   회사명  \\\n",
       "0  핸디스틱청소기/무선형/흡입+물걸레겸용/흡입력:220W/[구성]와이드바닥/스팀물걸레/...  1055510  LG전자   \n",
       "1  핸디스틱청소기/무선형/흡입전용/흡입력:151AW/[구성]소프트롤러/미니모터/솔형/더...   404100   다이슨   \n",
       "2  핸디스틱청소기/무선형/흡입전용/흡입력:220W/[구성]바닥/솔형/틈새/연장툴/청정스...   519000  삼성전자   \n",
       "3  차량용청소기/무선/흡입력:13,000Pa/최대출력:120W/헤파필터/추가노즐:틈새,...    48000   샤오미   \n",
       "4  핸디스틱청소기/무선형/흡입전용/흡입력:210W/[구성]바닥/솔형/틈새/연장툴/청정스...   435080  삼성전자   \n",
       "\n",
       "                       제품  \n",
       "0  오브제컬렉션 코드제로 A9S AU9982  \n",
       "1             V10 플러피 오리진  \n",
       "2      비스포크 제트 VS20B956AX  \n",
       "3       미지아 차량용 핸디 무선 청소기  \n",
       "4      비스포크 제트 VS20A956A3  "
      ]
     },
     "execution_count": 32,
     "metadata": {},
     "output_type": "execute_result"
    }
   ],
   "source": [
    "df.head()"
   ]
  },
  {
   "cell_type": "markdown",
   "id": "bba76f4e",
   "metadata": {},
   "source": [
    "## 스펙 목록 살펴보기"
   ]
  },
  {
   "cell_type": "code",
   "execution_count": 33,
   "id": "52557298",
   "metadata": {},
   "outputs": [
    {
     "data": {
      "text/plain": [
       "'핸디스틱청소기/무선형/흡입+물걸레겸용/흡입력:220W/[구성]와이드바닥/스팀물걸레/침구/솔형/틈새/올인원타워/[배터리]분리형(2개)/충전시간:4시간/사용시간(개당):1시간/[성능]스마트인버터모터/헤파필터/5단계여과/[기능]IoT기능/디스플레이표시창/자동물공급/LED라이트/자동먼지비움/[부가]색상:카밍베이지/무게:2.7kg/크기(가로x세로x깊이):300x1120x260mm'"
      ]
     },
     "execution_count": 33,
     "metadata": {},
     "output_type": "execute_result"
    }
   ],
   "source": [
    "df.iloc[0, 0]"
   ]
  },
  {
   "cell_type": "code",
   "execution_count": 34,
   "id": "ff049e07",
   "metadata": {},
   "outputs": [
    {
     "data": {
      "text/plain": [
       "['핸디스틱청소기',\n",
       " '무선형',\n",
       " '흡입+물걸레겸용',\n",
       " '흡입력:220W',\n",
       " '[구성]와이드바닥',\n",
       " '스팀물걸레',\n",
       " '침구',\n",
       " '솔형',\n",
       " '틈새',\n",
       " '올인원타워',\n",
       " '[배터리]분리형(2개)',\n",
       " '충전시간:4시간',\n",
       " '사용시간(개당):1시간',\n",
       " '[성능]스마트인버터모터',\n",
       " '헤파필터',\n",
       " '5단계여과',\n",
       " '[기능]IoT기능',\n",
       " '디스플레이표시창',\n",
       " '자동물공급',\n",
       " 'LED라이트',\n",
       " '자동먼지비움',\n",
       " '[부가]색상:카밍베이지',\n",
       " '무게:2.7kg',\n",
       " '크기(가로x세로x깊이):300x1120x260mm']"
      ]
     },
     "execution_count": 34,
     "metadata": {},
     "output_type": "execute_result"
    }
   ],
   "source": [
    "df.iloc[0, 0].split(\"/\")"
   ]
  },
  {
   "cell_type": "markdown",
   "id": "f68ad01a",
   "metadata": {},
   "source": [
    "- 카테고리 : 스펙 리스트의 첫 번째 항목에 위치\n",
    "- 사용시간 : \"사용시간:00시간\" 과 같이 사용시간 이라는 문구가 명시되어 있음\n",
    "- 흡입력 : \"흡입력:000W\" 와 같이 흡입력이라는 문구가 명시되어 있음"
   ]
  },
  {
   "cell_type": "code",
   "execution_count": 35,
   "id": "128ea924",
   "metadata": {},
   "outputs": [],
   "source": [
    "# test\n",
    "spec_list = df.iloc[0, 0].split(\"/\")"
   ]
  },
  {
   "cell_type": "code",
   "execution_count": 36,
   "id": "d0c12ba7",
   "metadata": {},
   "outputs": [
    {
     "data": {
      "text/plain": [
       "'핸디스틱청소기'"
      ]
     },
     "execution_count": 36,
     "metadata": {},
     "output_type": "execute_result"
    }
   ],
   "source": [
    "# 카테고리\n",
    "spec_list[0]"
   ]
  },
  {
   "cell_type": "code",
   "execution_count": 37,
   "id": "9aaa0e37",
   "metadata": {},
   "outputs": [
    {
     "name": "stdout",
     "output_type": "stream",
     "text": [
      "1시간\n",
      "220W\n"
     ]
    }
   ],
   "source": [
    "# 사용시간, 흡입력\n",
    "for spec in spec_list:\n",
    "    if \"사용시간\" in spec:\n",
    "        use_time_spec = spec\n",
    "        use_time_spec = use_time_spec.split(\":\")[1]\n",
    "        \n",
    "    elif \"흡입력\" in spec:\n",
    "        suction_spec = spec\n",
    "        suction_spec = suction_spec.split(\":\")[1]\n",
    "        \n",
    "print(use_time_spec)\n",
    "print(suction_spec)"
   ]
  },
  {
   "cell_type": "code",
   "execution_count": 38,
   "id": "401b1128",
   "metadata": {},
   "outputs": [],
   "source": [
    "# 반복문\n",
    "category_list = []\n",
    "use_time_list = []\n",
    "suction_list = []\n",
    "\n",
    "for spec_data in df[\"스펙목록\"]:\n",
    "    # / 기준으로 스펙 분리\n",
    "    spec_list = spec_data.split(\"/\")\n",
    "    \n",
    "    # 카테고리 추출\n",
    "    category = spec_list[0]\n",
    "    category_list.append(category)\n",
    "    \n",
    "    # 사용시간, 흡입력 추출\n",
    "    use_time_spec = None\n",
    "    suction_spec = None\n",
    "    \n",
    "    for spec in spec_list:\n",
    "        if \"사용시간\" in spec:\n",
    "            use_time_spec = spec.split(\":\")[1]\n",
    "        elif \"흡입력\" in spec:\n",
    "            suction_spec = spec.split(\":\")[1]\n",
    "            \n",
    "    use_time_list.append(use_time_spec)\n",
    "    suction_list.append(suction_spec)"
   ]
  },
  {
   "cell_type": "code",
   "execution_count": 39,
   "id": "7ea074dc",
   "metadata": {},
   "outputs": [
    {
     "data": {
      "text/plain": [
       "(400, 400, 400)"
      ]
     },
     "execution_count": 39,
     "metadata": {},
     "output_type": "execute_result"
    }
   ],
   "source": [
    "len(category_list), len(use_time_list), len(suction_list)"
   ]
  },
  {
   "cell_type": "code",
   "execution_count": 40,
   "id": "ce4637b5",
   "metadata": {},
   "outputs": [
    {
     "data": {
      "text/plain": [
       "['핸디스틱청소기', '핸디스틱청소기', '핸디스틱청소기', '차량용청소기', '핸디스틱청소기']"
      ]
     },
     "execution_count": 40,
     "metadata": {},
     "output_type": "execute_result"
    }
   ],
   "source": [
    "category_list[:5]"
   ]
  },
  {
   "cell_type": "code",
   "execution_count": 41,
   "id": "894273ef",
   "metadata": {},
   "outputs": [
    {
     "data": {
      "text/plain": [
       "['1시간', '1시간', '1시간', '9~30분', '1시간']"
      ]
     },
     "execution_count": 41,
     "metadata": {},
     "output_type": "execute_result"
    }
   ],
   "source": [
    "use_time_list[:5]"
   ]
  },
  {
   "cell_type": "code",
   "execution_count": 42,
   "id": "abd895dd",
   "metadata": {},
   "outputs": [
    {
     "data": {
      "text/plain": [
       "['220W', '151AW', '220W', '13,000Pa', '210W']"
      ]
     },
     "execution_count": 42,
     "metadata": {},
     "output_type": "execute_result"
    }
   ],
   "source": [
    "suction_list[:5]"
   ]
  },
  {
   "cell_type": "markdown",
   "id": "310d780e",
   "metadata": {},
   "source": [
    "- 숫자형 데이터가 아니고 단위 통일이 안되어 있어서 통일시켜줘야함"
   ]
  },
  {
   "cell_type": "markdown",
   "id": "062dff61",
   "metadata": {},
   "source": [
    "### 사용시간 단위 통일\n",
    "\n",
    "- 분 단위로 통일\n",
    "\n",
    "    - \"시간\" 단어가 있으면\n",
    "        - \"시간\" 앞의 숫자를 추출한 뒤 60을 곱해 사용시간에 더한다\n",
    "        - \"시간\" 뒤의 글자에서 \"분\" 글자 앞의 숫자를 추출해서 사용시간에 더한다\n",
    "        \n",
    "    - \"시간\" 단어가 없으면\n",
    "        - \"분\" 글자 앞의 숫자를 추출해서 사용시간에 더한다\n",
    "        \n",
    "    - 위 방식으로 계산되지 않을 경우 예외로 처리한다"
   ]
  },
  {
   "cell_type": "code",
   "execution_count": 43,
   "id": "a4bd7269",
   "metadata": {},
   "outputs": [],
   "source": [
    "def convert_time_minute(time):\n",
    "    try:\n",
    "        if \"시간\" in time:\n",
    "            hour = time.split(\"시간\")[0]\n",
    "            \n",
    "            if \"분\" in time:\n",
    "                minute = time.split(\"시간\")[-1].split(\"분\")[0]\n",
    "            else:\n",
    "                minute = 0\n",
    "        \n",
    "        else:\n",
    "            hour = 0\n",
    "            minute = time.split(\"분\")[0]\n",
    "            \n",
    "            if \"~\" in minute:\n",
    "                minute = minute.split(\"~\")[1]\n",
    "                \n",
    "        return int(hour) * 60 + int(minute)\n",
    "    \n",
    "    except:\n",
    "        return None"
   ]
  },
  {
   "cell_type": "code",
   "execution_count": 44,
   "id": "4fd65f9d",
   "metadata": {},
   "outputs": [
    {
     "name": "stdout",
     "output_type": "stream",
     "text": [
      "1시간 60\n",
      "1시간 60\n",
      "1시간 60\n",
      "9~30분 30\n",
      "1시간 60\n",
      "35분 35\n",
      "1시간 60\n",
      "1시간 60\n",
      "1시간 60\n",
      "1시간 60\n"
     ]
    }
   ],
   "source": [
    "for i in use_time_list[:10]:\n",
    "    print(i, convert_time_minute(i))"
   ]
  },
  {
   "cell_type": "code",
   "execution_count": 45,
   "id": "4e0d8b75",
   "metadata": {},
   "outputs": [],
   "source": [
    "new_use_time_list = []\n",
    "\n",
    "for i in use_time_list:\n",
    "    new_use_time_list.append(convert_time_minute(i))"
   ]
  },
  {
   "cell_type": "code",
   "execution_count": 46,
   "id": "189a7c85",
   "metadata": {},
   "outputs": [],
   "source": [
    "df[\"사용시간\"] = new_use_time_list"
   ]
  },
  {
   "cell_type": "code",
   "execution_count": 47,
   "id": "fee33cd3",
   "metadata": {},
   "outputs": [
    {
     "data": {
      "text/html": [
       "<div>\n",
       "<style scoped>\n",
       "    .dataframe tbody tr th:only-of-type {\n",
       "        vertical-align: middle;\n",
       "    }\n",
       "\n",
       "    .dataframe tbody tr th {\n",
       "        vertical-align: top;\n",
       "    }\n",
       "\n",
       "    .dataframe thead th {\n",
       "        text-align: right;\n",
       "    }\n",
       "</style>\n",
       "<table border=\"1\" class=\"dataframe\">\n",
       "  <thead>\n",
       "    <tr style=\"text-align: right;\">\n",
       "      <th></th>\n",
       "      <th>스펙목록</th>\n",
       "      <th>가격</th>\n",
       "      <th>회사명</th>\n",
       "      <th>제품</th>\n",
       "      <th>사용시간</th>\n",
       "    </tr>\n",
       "  </thead>\n",
       "  <tbody>\n",
       "    <tr>\n",
       "      <th>0</th>\n",
       "      <td>핸디스틱청소기/무선형/흡입+물걸레겸용/흡입력:220W/[구성]와이드바닥/스팀물걸레/...</td>\n",
       "      <td>1055510</td>\n",
       "      <td>LG전자</td>\n",
       "      <td>오브제컬렉션 코드제로 A9S AU9982</td>\n",
       "      <td>60.0</td>\n",
       "    </tr>\n",
       "    <tr>\n",
       "      <th>1</th>\n",
       "      <td>핸디스틱청소기/무선형/흡입전용/흡입력:151AW/[구성]소프트롤러/미니모터/솔형/더...</td>\n",
       "      <td>404100</td>\n",
       "      <td>다이슨</td>\n",
       "      <td>V10 플러피 오리진</td>\n",
       "      <td>60.0</td>\n",
       "    </tr>\n",
       "    <tr>\n",
       "      <th>2</th>\n",
       "      <td>핸디스틱청소기/무선형/흡입전용/흡입력:220W/[구성]바닥/솔형/틈새/연장툴/청정스...</td>\n",
       "      <td>519000</td>\n",
       "      <td>삼성전자</td>\n",
       "      <td>비스포크 제트 VS20B956AX</td>\n",
       "      <td>60.0</td>\n",
       "    </tr>\n",
       "    <tr>\n",
       "      <th>3</th>\n",
       "      <td>차량용청소기/무선/흡입력:13,000Pa/최대출력:120W/헤파필터/추가노즐:틈새,...</td>\n",
       "      <td>48000</td>\n",
       "      <td>샤오미</td>\n",
       "      <td>미지아 차량용 핸디 무선 청소기</td>\n",
       "      <td>30.0</td>\n",
       "    </tr>\n",
       "    <tr>\n",
       "      <th>4</th>\n",
       "      <td>핸디스틱청소기/무선형/흡입전용/흡입력:210W/[구성]바닥/솔형/틈새/연장툴/청정스...</td>\n",
       "      <td>435080</td>\n",
       "      <td>삼성전자</td>\n",
       "      <td>비스포크 제트 VS20A956A3</td>\n",
       "      <td>60.0</td>\n",
       "    </tr>\n",
       "  </tbody>\n",
       "</table>\n",
       "</div>"
      ],
      "text/plain": [
       "                                                스펙목록       가격   회사명  \\\n",
       "0  핸디스틱청소기/무선형/흡입+물걸레겸용/흡입력:220W/[구성]와이드바닥/스팀물걸레/...  1055510  LG전자   \n",
       "1  핸디스틱청소기/무선형/흡입전용/흡입력:151AW/[구성]소프트롤러/미니모터/솔형/더...   404100   다이슨   \n",
       "2  핸디스틱청소기/무선형/흡입전용/흡입력:220W/[구성]바닥/솔형/틈새/연장툴/청정스...   519000  삼성전자   \n",
       "3  차량용청소기/무선/흡입력:13,000Pa/최대출력:120W/헤파필터/추가노즐:틈새,...    48000   샤오미   \n",
       "4  핸디스틱청소기/무선형/흡입전용/흡입력:210W/[구성]바닥/솔형/틈새/연장툴/청정스...   435080  삼성전자   \n",
       "\n",
       "                       제품  사용시간  \n",
       "0  오브제컬렉션 코드제로 A9S AU9982  60.0  \n",
       "1             V10 플러피 오리진  60.0  \n",
       "2      비스포크 제트 VS20B956AX  60.0  \n",
       "3       미지아 차량용 핸디 무선 청소기  30.0  \n",
       "4      비스포크 제트 VS20A956A3  60.0  "
      ]
     },
     "execution_count": 47,
     "metadata": {},
     "output_type": "execute_result"
    }
   ],
   "source": [
    "df.head()"
   ]
  },
  {
   "cell_type": "markdown",
   "id": "1e150488",
   "metadata": {},
   "source": [
    "### 흡입력 단위 통일\n",
    "\n",
    "- 사용하는 단위는 AW, W, PA\n",
    "\n",
    "- 단위간 환산은 대략 (1W = 1AW = 100PA)\n",
    "\n",
    "- 위 전환식으로 AW 기준으로 단위를 통일\n",
    "\n",
    "- 전처리 과정\n",
    "    - 모든 알파벳 문자를 대문자로 수정\n",
    "    - 흡입력에 \"AW\"나 \"W\" 글자가 있따면\n",
    "        - 흡입력에서 \"A\"와 \"W\"를 삭제\n",
    "        - \",\"를 삭제한 뒤 숫자형 데이터로 변환\n",
    "        \n",
    "    - 흡입력에 \"PA\" 글자가 있다면\n",
    "        - 흡입력에서 \"PA\"글자를 삭제\n",
    "        - \",\"를 삭제한 뒤 정수로 전환하고 100으로 나눔\n",
    "        \n",
    "    - 흡입력 값이 비어 있거나 단위 변환 시 에러가 날 경우 예외로 처리"
   ]
  },
  {
   "cell_type": "code",
   "execution_count": 48,
   "id": "5331aeef",
   "metadata": {},
   "outputs": [],
   "source": [
    "def get_suction(value):\n",
    "    try:\n",
    "        value = value.upper()\n",
    "        \n",
    "        if \"AW\" in value or \"W\" in value:\n",
    "            result = value.replace(\"A\", \"\").replace(\"W\", \"\")\n",
    "            result = int(result.replace(\",\", \"\"))\n",
    "            \n",
    "        elif \"PA\" in value:\n",
    "            result = value.replace(\"PA\", \"\")\n",
    "            result = int(result.replace(\",\", \"\")) / 100\n",
    "            \n",
    "        else:\n",
    "            result = None\n",
    "            \n",
    "        return result\n",
    "    \n",
    "    except:\n",
    "        return None"
   ]
  },
  {
   "cell_type": "code",
   "execution_count": 49,
   "id": "80f7cfe4",
   "metadata": {},
   "outputs": [
    {
     "name": "stdout",
     "output_type": "stream",
     "text": [
      "220W 220\n",
      "151AW 151\n",
      "220W 220\n",
      "13,000Pa 130.0\n",
      "210W 210\n",
      "None None\n",
      "200W 200\n",
      "210W 210\n",
      "210W 210\n",
      "220W 220\n"
     ]
    }
   ],
   "source": [
    "for i in suction_list[:10]:\n",
    "    print(i, get_suction(i))"
   ]
  },
  {
   "cell_type": "code",
   "execution_count": 50,
   "id": "f80296ed",
   "metadata": {},
   "outputs": [],
   "source": [
    "new_suction_list = []\n",
    "\n",
    "for power in suction_list:\n",
    "    new_suction_list.append(get_suction(power))"
   ]
  },
  {
   "cell_type": "code",
   "execution_count": 51,
   "id": "6fadeaaa",
   "metadata": {},
   "outputs": [],
   "source": [
    "df[\"흡입력\"] = new_suction_list"
   ]
  },
  {
   "cell_type": "code",
   "execution_count": 52,
   "id": "6b6ca3cc",
   "metadata": {},
   "outputs": [
    {
     "data": {
      "text/html": [
       "<div>\n",
       "<style scoped>\n",
       "    .dataframe tbody tr th:only-of-type {\n",
       "        vertical-align: middle;\n",
       "    }\n",
       "\n",
       "    .dataframe tbody tr th {\n",
       "        vertical-align: top;\n",
       "    }\n",
       "\n",
       "    .dataframe thead th {\n",
       "        text-align: right;\n",
       "    }\n",
       "</style>\n",
       "<table border=\"1\" class=\"dataframe\">\n",
       "  <thead>\n",
       "    <tr style=\"text-align: right;\">\n",
       "      <th></th>\n",
       "      <th>스펙목록</th>\n",
       "      <th>가격</th>\n",
       "      <th>회사명</th>\n",
       "      <th>제품</th>\n",
       "      <th>사용시간</th>\n",
       "      <th>흡입력</th>\n",
       "    </tr>\n",
       "  </thead>\n",
       "  <tbody>\n",
       "    <tr>\n",
       "      <th>0</th>\n",
       "      <td>핸디스틱청소기/무선형/흡입+물걸레겸용/흡입력:220W/[구성]와이드바닥/스팀물걸레/...</td>\n",
       "      <td>1055510</td>\n",
       "      <td>LG전자</td>\n",
       "      <td>오브제컬렉션 코드제로 A9S AU9982</td>\n",
       "      <td>60.0</td>\n",
       "      <td>220.0</td>\n",
       "    </tr>\n",
       "    <tr>\n",
       "      <th>1</th>\n",
       "      <td>핸디스틱청소기/무선형/흡입전용/흡입력:151AW/[구성]소프트롤러/미니모터/솔형/더...</td>\n",
       "      <td>404100</td>\n",
       "      <td>다이슨</td>\n",
       "      <td>V10 플러피 오리진</td>\n",
       "      <td>60.0</td>\n",
       "      <td>151.0</td>\n",
       "    </tr>\n",
       "    <tr>\n",
       "      <th>2</th>\n",
       "      <td>핸디스틱청소기/무선형/흡입전용/흡입력:220W/[구성]바닥/솔형/틈새/연장툴/청정스...</td>\n",
       "      <td>519000</td>\n",
       "      <td>삼성전자</td>\n",
       "      <td>비스포크 제트 VS20B956AX</td>\n",
       "      <td>60.0</td>\n",
       "      <td>220.0</td>\n",
       "    </tr>\n",
       "    <tr>\n",
       "      <th>3</th>\n",
       "      <td>차량용청소기/무선/흡입력:13,000Pa/최대출력:120W/헤파필터/추가노즐:틈새,...</td>\n",
       "      <td>48000</td>\n",
       "      <td>샤오미</td>\n",
       "      <td>미지아 차량용 핸디 무선 청소기</td>\n",
       "      <td>30.0</td>\n",
       "      <td>130.0</td>\n",
       "    </tr>\n",
       "    <tr>\n",
       "      <th>4</th>\n",
       "      <td>핸디스틱청소기/무선형/흡입전용/흡입력:210W/[구성]바닥/솔형/틈새/연장툴/청정스...</td>\n",
       "      <td>435080</td>\n",
       "      <td>삼성전자</td>\n",
       "      <td>비스포크 제트 VS20A956A3</td>\n",
       "      <td>60.0</td>\n",
       "      <td>210.0</td>\n",
       "    </tr>\n",
       "  </tbody>\n",
       "</table>\n",
       "</div>"
      ],
      "text/plain": [
       "                                                스펙목록       가격   회사명  \\\n",
       "0  핸디스틱청소기/무선형/흡입+물걸레겸용/흡입력:220W/[구성]와이드바닥/스팀물걸레/...  1055510  LG전자   \n",
       "1  핸디스틱청소기/무선형/흡입전용/흡입력:151AW/[구성]소프트롤러/미니모터/솔형/더...   404100   다이슨   \n",
       "2  핸디스틱청소기/무선형/흡입전용/흡입력:220W/[구성]바닥/솔형/틈새/연장툴/청정스...   519000  삼성전자   \n",
       "3  차량용청소기/무선/흡입력:13,000Pa/최대출력:120W/헤파필터/추가노즐:틈새,...    48000   샤오미   \n",
       "4  핸디스틱청소기/무선형/흡입전용/흡입력:210W/[구성]바닥/솔형/틈새/연장툴/청정스...   435080  삼성전자   \n",
       "\n",
       "                       제품  사용시간    흡입력  \n",
       "0  오브제컬렉션 코드제로 A9S AU9982  60.0  220.0  \n",
       "1             V10 플러피 오리진  60.0  151.0  \n",
       "2      비스포크 제트 VS20B956AX  60.0  220.0  \n",
       "3       미지아 차량용 핸디 무선 청소기  30.0  130.0  \n",
       "4      비스포크 제트 VS20A956A3  60.0  210.0  "
      ]
     },
     "execution_count": 52,
     "metadata": {},
     "output_type": "execute_result"
    }
   ],
   "source": [
    "df.head()"
   ]
  },
  {
   "cell_type": "code",
   "execution_count": 54,
   "id": "9c510887",
   "metadata": {},
   "outputs": [],
   "source": [
    "df.to_excel(\"./danawa_data_preprocessing.xlsx\", index = False)"
   ]
  },
  {
   "cell_type": "code",
   "execution_count": 56,
   "id": "74684dc4",
   "metadata": {},
   "outputs": [
    {
     "data": {
      "text/html": [
       "<div>\n",
       "<style scoped>\n",
       "    .dataframe tbody tr th:only-of-type {\n",
       "        vertical-align: middle;\n",
       "    }\n",
       "\n",
       "    .dataframe tbody tr th {\n",
       "        vertical-align: top;\n",
       "    }\n",
       "\n",
       "    .dataframe thead th {\n",
       "        text-align: right;\n",
       "    }\n",
       "</style>\n",
       "<table border=\"1\" class=\"dataframe\">\n",
       "  <thead>\n",
       "    <tr style=\"text-align: right;\">\n",
       "      <th></th>\n",
       "      <th>스펙목록</th>\n",
       "      <th>가격</th>\n",
       "      <th>회사명</th>\n",
       "      <th>제품</th>\n",
       "      <th>사용시간</th>\n",
       "      <th>흡입력</th>\n",
       "    </tr>\n",
       "  </thead>\n",
       "  <tbody>\n",
       "    <tr>\n",
       "      <th>0</th>\n",
       "      <td>핸디스틱청소기/무선형/흡입+물걸레겸용/흡입력:220W/[구성]와이드바닥/스팀물걸레/...</td>\n",
       "      <td>1055510</td>\n",
       "      <td>LG전자</td>\n",
       "      <td>오브제컬렉션 코드제로 A9S AU9982</td>\n",
       "      <td>60.0</td>\n",
       "      <td>220.0</td>\n",
       "    </tr>\n",
       "    <tr>\n",
       "      <th>1</th>\n",
       "      <td>핸디스틱청소기/무선형/흡입전용/흡입력:151AW/[구성]소프트롤러/미니모터/솔형/더...</td>\n",
       "      <td>404100</td>\n",
       "      <td>다이슨</td>\n",
       "      <td>V10 플러피 오리진</td>\n",
       "      <td>60.0</td>\n",
       "      <td>151.0</td>\n",
       "    </tr>\n",
       "    <tr>\n",
       "      <th>2</th>\n",
       "      <td>핸디스틱청소기/무선형/흡입전용/흡입력:220W/[구성]바닥/솔형/틈새/연장툴/청정스...</td>\n",
       "      <td>519000</td>\n",
       "      <td>삼성전자</td>\n",
       "      <td>비스포크 제트 VS20B956AX</td>\n",
       "      <td>60.0</td>\n",
       "      <td>220.0</td>\n",
       "    </tr>\n",
       "    <tr>\n",
       "      <th>3</th>\n",
       "      <td>차량용청소기/무선/흡입력:13,000Pa/최대출력:120W/헤파필터/추가노즐:틈새,...</td>\n",
       "      <td>48000</td>\n",
       "      <td>샤오미</td>\n",
       "      <td>미지아 차량용 핸디 무선 청소기</td>\n",
       "      <td>30.0</td>\n",
       "      <td>130.0</td>\n",
       "    </tr>\n",
       "    <tr>\n",
       "      <th>4</th>\n",
       "      <td>핸디스틱청소기/무선형/흡입전용/흡입력:210W/[구성]바닥/솔형/틈새/연장툴/청정스...</td>\n",
       "      <td>435080</td>\n",
       "      <td>삼성전자</td>\n",
       "      <td>비스포크 제트 VS20A956A3</td>\n",
       "      <td>60.0</td>\n",
       "      <td>210.0</td>\n",
       "    </tr>\n",
       "    <tr>\n",
       "      <th>...</th>\n",
       "      <td>...</td>\n",
       "      <td>...</td>\n",
       "      <td>...</td>\n",
       "      <td>...</td>\n",
       "      <td>...</td>\n",
       "      <td>...</td>\n",
       "    </tr>\n",
       "    <tr>\n",
       "      <th>395</th>\n",
       "      <td>핸디스틱청소기/무선형/흡입전용/흡입력:15000Pa/[구성]바닥/틈새/연장툴/거치대...</td>\n",
       "      <td>115364</td>\n",
       "      <td>블루필</td>\n",
       "      <td>몽땅 BVC201</td>\n",
       "      <td>30.0</td>\n",
       "      <td>150.0</td>\n",
       "    </tr>\n",
       "    <tr>\n",
       "      <th>396</th>\n",
       "      <td>핸디청소기/무선형/흡입전용/흡입력:30AW/[구성]바닥/솔형/틈새/거치대/[배터리]...</td>\n",
       "      <td>63180</td>\n",
       "      <td>블랙앤데커</td>\n",
       "      <td>HLVC315B</td>\n",
       "      <td>13.0</td>\n",
       "      <td>30.0</td>\n",
       "    </tr>\n",
       "    <tr>\n",
       "      <th>397</th>\n",
       "      <td>핸디스틱청소기/무선형/흡입력:120W/[구성]바닥/솔형/틈새/거치대/[배터리]분리형...</td>\n",
       "      <td>497840</td>\n",
       "      <td>보랄</td>\n",
       "      <td>메카닉 BR-SV680RC</td>\n",
       "      <td>40.0</td>\n",
       "      <td>120.0</td>\n",
       "    </tr>\n",
       "    <tr>\n",
       "      <th>398</th>\n",
       "      <td>핸디스틱청소기/무선형/흡입전용/[구성]바닥/솔형/틈새/거치대/[배터리]내장형/충전시...</td>\n",
       "      <td>296010</td>\n",
       "      <td>모온</td>\n",
       "      <td>오비큠 (2022년형)</td>\n",
       "      <td>60.0</td>\n",
       "      <td>NaN</td>\n",
       "    </tr>\n",
       "    <tr>\n",
       "      <th>399</th>\n",
       "      <td>핸디청소기/무선형/흡입전용/흡입력:8000Pa/[구성]솔형/틈새/연장툴/거치대/[배...</td>\n",
       "      <td>39900</td>\n",
       "      <td>캐치웰</td>\n",
       "      <td>THC-1000</td>\n",
       "      <td>28.0</td>\n",
       "      <td>80.0</td>\n",
       "    </tr>\n",
       "  </tbody>\n",
       "</table>\n",
       "<p>400 rows × 6 columns</p>\n",
       "</div>"
      ],
      "text/plain": [
       "                                                  스펙목록       가격    회사명  \\\n",
       "0    핸디스틱청소기/무선형/흡입+물걸레겸용/흡입력:220W/[구성]와이드바닥/스팀물걸레/...  1055510   LG전자   \n",
       "1    핸디스틱청소기/무선형/흡입전용/흡입력:151AW/[구성]소프트롤러/미니모터/솔형/더...   404100    다이슨   \n",
       "2    핸디스틱청소기/무선형/흡입전용/흡입력:220W/[구성]바닥/솔형/틈새/연장툴/청정스...   519000   삼성전자   \n",
       "3    차량용청소기/무선/흡입력:13,000Pa/최대출력:120W/헤파필터/추가노즐:틈새,...    48000    샤오미   \n",
       "4    핸디스틱청소기/무선형/흡입전용/흡입력:210W/[구성]바닥/솔형/틈새/연장툴/청정스...   435080   삼성전자   \n",
       "..                                                 ...      ...    ...   \n",
       "395  핸디스틱청소기/무선형/흡입전용/흡입력:15000Pa/[구성]바닥/틈새/연장툴/거치대...   115364    블루필   \n",
       "396  핸디청소기/무선형/흡입전용/흡입력:30AW/[구성]바닥/솔형/틈새/거치대/[배터리]...    63180  블랙앤데커   \n",
       "397  핸디스틱청소기/무선형/흡입력:120W/[구성]바닥/솔형/틈새/거치대/[배터리]분리형...   497840     보랄   \n",
       "398  핸디스틱청소기/무선형/흡입전용/[구성]바닥/솔형/틈새/거치대/[배터리]내장형/충전시...   296010     모온   \n",
       "399  핸디청소기/무선형/흡입전용/흡입력:8000Pa/[구성]솔형/틈새/연장툴/거치대/[배...    39900    캐치웰   \n",
       "\n",
       "                         제품  사용시간    흡입력  \n",
       "0    오브제컬렉션 코드제로 A9S AU9982  60.0  220.0  \n",
       "1               V10 플러피 오리진  60.0  151.0  \n",
       "2        비스포크 제트 VS20B956AX  60.0  220.0  \n",
       "3         미지아 차량용 핸디 무선 청소기  30.0  130.0  \n",
       "4        비스포크 제트 VS20A956A3  60.0  210.0  \n",
       "..                      ...   ...    ...  \n",
       "395               몽땅 BVC201  30.0  150.0  \n",
       "396                HLVC315B  13.0   30.0  \n",
       "397          메카닉 BR-SV680RC  40.0  120.0  \n",
       "398            오비큠 (2022년형)  60.0    NaN  \n",
       "399                THC-1000  28.0   80.0  \n",
       "\n",
       "[400 rows x 6 columns]"
      ]
     },
     "execution_count": 56,
     "metadata": {},
     "output_type": "execute_result"
    }
   ],
   "source": [
    "pd.read_excel(\"./danawa_data_preprocessing.xlsx\")"
   ]
  },
  {
   "cell_type": "code",
   "execution_count": 57,
   "id": "0d933a88",
   "metadata": {},
   "outputs": [],
   "source": [
    "# 카테고리 추가\n",
    "\n",
    "df['카테고리'] = category_list"
   ]
  },
  {
   "cell_type": "code",
   "execution_count": 58,
   "id": "7927c123",
   "metadata": {},
   "outputs": [
    {
     "data": {
      "text/html": [
       "<div>\n",
       "<style scoped>\n",
       "    .dataframe tbody tr th:only-of-type {\n",
       "        vertical-align: middle;\n",
       "    }\n",
       "\n",
       "    .dataframe tbody tr th {\n",
       "        vertical-align: top;\n",
       "    }\n",
       "\n",
       "    .dataframe thead th {\n",
       "        text-align: right;\n",
       "    }\n",
       "</style>\n",
       "<table border=\"1\" class=\"dataframe\">\n",
       "  <thead>\n",
       "    <tr style=\"text-align: right;\">\n",
       "      <th></th>\n",
       "      <th>스펙목록</th>\n",
       "      <th>가격</th>\n",
       "      <th>회사명</th>\n",
       "      <th>제품</th>\n",
       "      <th>사용시간</th>\n",
       "      <th>흡입력</th>\n",
       "      <th>카테고리</th>\n",
       "    </tr>\n",
       "  </thead>\n",
       "  <tbody>\n",
       "    <tr>\n",
       "      <th>0</th>\n",
       "      <td>핸디스틱청소기/무선형/흡입+물걸레겸용/흡입력:220W/[구성]와이드바닥/스팀물걸레/...</td>\n",
       "      <td>1055510</td>\n",
       "      <td>LG전자</td>\n",
       "      <td>오브제컬렉션 코드제로 A9S AU9982</td>\n",
       "      <td>60.0</td>\n",
       "      <td>220.0</td>\n",
       "      <td>핸디스틱청소기</td>\n",
       "    </tr>\n",
       "    <tr>\n",
       "      <th>1</th>\n",
       "      <td>핸디스틱청소기/무선형/흡입전용/흡입력:151AW/[구성]소프트롤러/미니모터/솔형/더...</td>\n",
       "      <td>404100</td>\n",
       "      <td>다이슨</td>\n",
       "      <td>V10 플러피 오리진</td>\n",
       "      <td>60.0</td>\n",
       "      <td>151.0</td>\n",
       "      <td>핸디스틱청소기</td>\n",
       "    </tr>\n",
       "    <tr>\n",
       "      <th>2</th>\n",
       "      <td>핸디스틱청소기/무선형/흡입전용/흡입력:220W/[구성]바닥/솔형/틈새/연장툴/청정스...</td>\n",
       "      <td>519000</td>\n",
       "      <td>삼성전자</td>\n",
       "      <td>비스포크 제트 VS20B956AX</td>\n",
       "      <td>60.0</td>\n",
       "      <td>220.0</td>\n",
       "      <td>핸디스틱청소기</td>\n",
       "    </tr>\n",
       "    <tr>\n",
       "      <th>3</th>\n",
       "      <td>차량용청소기/무선/흡입력:13,000Pa/최대출력:120W/헤파필터/추가노즐:틈새,...</td>\n",
       "      <td>48000</td>\n",
       "      <td>샤오미</td>\n",
       "      <td>미지아 차량용 핸디 무선 청소기</td>\n",
       "      <td>30.0</td>\n",
       "      <td>130.0</td>\n",
       "      <td>차량용청소기</td>\n",
       "    </tr>\n",
       "    <tr>\n",
       "      <th>4</th>\n",
       "      <td>핸디스틱청소기/무선형/흡입전용/흡입력:210W/[구성]바닥/솔형/틈새/연장툴/청정스...</td>\n",
       "      <td>435080</td>\n",
       "      <td>삼성전자</td>\n",
       "      <td>비스포크 제트 VS20A956A3</td>\n",
       "      <td>60.0</td>\n",
       "      <td>210.0</td>\n",
       "      <td>핸디스틱청소기</td>\n",
       "    </tr>\n",
       "  </tbody>\n",
       "</table>\n",
       "</div>"
      ],
      "text/plain": [
       "                                                스펙목록       가격   회사명  \\\n",
       "0  핸디스틱청소기/무선형/흡입+물걸레겸용/흡입력:220W/[구성]와이드바닥/스팀물걸레/...  1055510  LG전자   \n",
       "1  핸디스틱청소기/무선형/흡입전용/흡입력:151AW/[구성]소프트롤러/미니모터/솔형/더...   404100   다이슨   \n",
       "2  핸디스틱청소기/무선형/흡입전용/흡입력:220W/[구성]바닥/솔형/틈새/연장툴/청정스...   519000  삼성전자   \n",
       "3  차량용청소기/무선/흡입력:13,000Pa/최대출력:120W/헤파필터/추가노즐:틈새,...    48000   샤오미   \n",
       "4  핸디스틱청소기/무선형/흡입전용/흡입력:210W/[구성]바닥/솔형/틈새/연장툴/청정스...   435080  삼성전자   \n",
       "\n",
       "                       제품  사용시간    흡입력     카테고리  \n",
       "0  오브제컬렉션 코드제로 A9S AU9982  60.0  220.0  핸디스틱청소기  \n",
       "1             V10 플러피 오리진  60.0  151.0  핸디스틱청소기  \n",
       "2      비스포크 제트 VS20B956AX  60.0  220.0  핸디스틱청소기  \n",
       "3       미지아 차량용 핸디 무선 청소기  30.0  130.0   차량용청소기  \n",
       "4      비스포크 제트 VS20A956A3  60.0  210.0  핸디스틱청소기  "
      ]
     },
     "execution_count": 58,
     "metadata": {},
     "output_type": "execute_result"
    }
   ],
   "source": [
    "df.head()"
   ]
  },
  {
   "cell_type": "code",
   "execution_count": 59,
   "id": "9f35a0a9",
   "metadata": {},
   "outputs": [],
   "source": [
    "pd_data = df[['카테고리', '회사명', '제품', '가격', '사용시간', '흡입력']]"
   ]
  },
  {
   "cell_type": "code",
   "execution_count": 60,
   "id": "a2183967",
   "metadata": {},
   "outputs": [
    {
     "data": {
      "text/html": [
       "<div>\n",
       "<style scoped>\n",
       "    .dataframe tbody tr th:only-of-type {\n",
       "        vertical-align: middle;\n",
       "    }\n",
       "\n",
       "    .dataframe tbody tr th {\n",
       "        vertical-align: top;\n",
       "    }\n",
       "\n",
       "    .dataframe thead th {\n",
       "        text-align: right;\n",
       "    }\n",
       "</style>\n",
       "<table border=\"1\" class=\"dataframe\">\n",
       "  <thead>\n",
       "    <tr style=\"text-align: right;\">\n",
       "      <th></th>\n",
       "      <th>카테고리</th>\n",
       "      <th>회사명</th>\n",
       "      <th>제품</th>\n",
       "      <th>가격</th>\n",
       "      <th>사용시간</th>\n",
       "      <th>흡입력</th>\n",
       "    </tr>\n",
       "  </thead>\n",
       "  <tbody>\n",
       "    <tr>\n",
       "      <th>0</th>\n",
       "      <td>핸디스틱청소기</td>\n",
       "      <td>LG전자</td>\n",
       "      <td>오브제컬렉션 코드제로 A9S AU9982</td>\n",
       "      <td>1055510</td>\n",
       "      <td>60.0</td>\n",
       "      <td>220.0</td>\n",
       "    </tr>\n",
       "    <tr>\n",
       "      <th>1</th>\n",
       "      <td>핸디스틱청소기</td>\n",
       "      <td>다이슨</td>\n",
       "      <td>V10 플러피 오리진</td>\n",
       "      <td>404100</td>\n",
       "      <td>60.0</td>\n",
       "      <td>151.0</td>\n",
       "    </tr>\n",
       "    <tr>\n",
       "      <th>2</th>\n",
       "      <td>핸디스틱청소기</td>\n",
       "      <td>삼성전자</td>\n",
       "      <td>비스포크 제트 VS20B956AX</td>\n",
       "      <td>519000</td>\n",
       "      <td>60.0</td>\n",
       "      <td>220.0</td>\n",
       "    </tr>\n",
       "    <tr>\n",
       "      <th>3</th>\n",
       "      <td>차량용청소기</td>\n",
       "      <td>샤오미</td>\n",
       "      <td>미지아 차량용 핸디 무선 청소기</td>\n",
       "      <td>48000</td>\n",
       "      <td>30.0</td>\n",
       "      <td>130.0</td>\n",
       "    </tr>\n",
       "    <tr>\n",
       "      <th>4</th>\n",
       "      <td>핸디스틱청소기</td>\n",
       "      <td>삼성전자</td>\n",
       "      <td>비스포크 제트 VS20A956A3</td>\n",
       "      <td>435080</td>\n",
       "      <td>60.0</td>\n",
       "      <td>210.0</td>\n",
       "    </tr>\n",
       "  </tbody>\n",
       "</table>\n",
       "</div>"
      ],
      "text/plain": [
       "      카테고리   회사명                      제품       가격  사용시간    흡입력\n",
       "0  핸디스틱청소기  LG전자  오브제컬렉션 코드제로 A9S AU9982  1055510  60.0  220.0\n",
       "1  핸디스틱청소기   다이슨             V10 플러피 오리진   404100  60.0  151.0\n",
       "2  핸디스틱청소기  삼성전자      비스포크 제트 VS20B956AX   519000  60.0  220.0\n",
       "3   차량용청소기   샤오미       미지아 차량용 핸디 무선 청소기    48000  30.0  130.0\n",
       "4  핸디스틱청소기  삼성전자      비스포크 제트 VS20A956A3   435080  60.0  210.0"
      ]
     },
     "execution_count": 60,
     "metadata": {},
     "output_type": "execute_result"
    }
   ],
   "source": [
    "pd_data.head()"
   ]
  },
  {
   "cell_type": "code",
   "execution_count": 61,
   "id": "bf6d39d6",
   "metadata": {},
   "outputs": [
    {
     "data": {
      "text/plain": [
       "핸디스틱청소기         216\n",
       "차량용청소기           97\n",
       "물걸레청소기           34\n",
       "핸디청소기            30\n",
       "욕실청소기             8\n",
       "스틱청소기             5\n",
       "업소용청소기            3\n",
       "침구청소기             3\n",
       "핸디                2\n",
       "차량용선풍기            1\n",
       "물걸레청소기+스팀청소기      1\n",
       "Name: 카테고리, dtype: int64"
      ]
     },
     "execution_count": 61,
     "metadata": {},
     "output_type": "execute_result"
    }
   ],
   "source": [
    "pd_data['카테고리'].value_counts()"
   ]
  },
  {
   "cell_type": "markdown",
   "id": "42d61112",
   "metadata": {},
   "source": [
    "- 가장 많은 핸디스틱 청소기에 대한 분석"
   ]
  },
  {
   "cell_type": "code",
   "execution_count": 64,
   "id": "eebfe802",
   "metadata": {},
   "outputs": [],
   "source": [
    "pd_data_final = pd_data[pd_data['카테고리'] == '핸디스틱청소기']"
   ]
  },
  {
   "cell_type": "code",
   "execution_count": 65,
   "id": "70769ea1",
   "metadata": {},
   "outputs": [
    {
     "data": {
      "text/html": [
       "<div>\n",
       "<style scoped>\n",
       "    .dataframe tbody tr th:only-of-type {\n",
       "        vertical-align: middle;\n",
       "    }\n",
       "\n",
       "    .dataframe tbody tr th {\n",
       "        vertical-align: top;\n",
       "    }\n",
       "\n",
       "    .dataframe thead th {\n",
       "        text-align: right;\n",
       "    }\n",
       "</style>\n",
       "<table border=\"1\" class=\"dataframe\">\n",
       "  <thead>\n",
       "    <tr style=\"text-align: right;\">\n",
       "      <th></th>\n",
       "      <th>카테고리</th>\n",
       "      <th>회사명</th>\n",
       "      <th>제품</th>\n",
       "      <th>가격</th>\n",
       "      <th>사용시간</th>\n",
       "      <th>흡입력</th>\n",
       "    </tr>\n",
       "  </thead>\n",
       "  <tbody>\n",
       "    <tr>\n",
       "      <th>0</th>\n",
       "      <td>핸디스틱청소기</td>\n",
       "      <td>LG전자</td>\n",
       "      <td>오브제컬렉션 코드제로 A9S AU9982</td>\n",
       "      <td>1055510</td>\n",
       "      <td>60.0</td>\n",
       "      <td>220.0</td>\n",
       "    </tr>\n",
       "    <tr>\n",
       "      <th>1</th>\n",
       "      <td>핸디스틱청소기</td>\n",
       "      <td>다이슨</td>\n",
       "      <td>V10 플러피 오리진</td>\n",
       "      <td>404100</td>\n",
       "      <td>60.0</td>\n",
       "      <td>151.0</td>\n",
       "    </tr>\n",
       "    <tr>\n",
       "      <th>2</th>\n",
       "      <td>핸디스틱청소기</td>\n",
       "      <td>삼성전자</td>\n",
       "      <td>비스포크 제트 VS20B956AX</td>\n",
       "      <td>519000</td>\n",
       "      <td>60.0</td>\n",
       "      <td>220.0</td>\n",
       "    </tr>\n",
       "    <tr>\n",
       "      <th>4</th>\n",
       "      <td>핸디스틱청소기</td>\n",
       "      <td>삼성전자</td>\n",
       "      <td>비스포크 제트 VS20A956A3</td>\n",
       "      <td>435080</td>\n",
       "      <td>60.0</td>\n",
       "      <td>210.0</td>\n",
       "    </tr>\n",
       "    <tr>\n",
       "      <th>5</th>\n",
       "      <td>핸디스틱청소기</td>\n",
       "      <td>일렉트로룩스</td>\n",
       "      <td>에르고라피도 ZB3512IG</td>\n",
       "      <td>153990</td>\n",
       "      <td>35.0</td>\n",
       "      <td>NaN</td>\n",
       "    </tr>\n",
       "  </tbody>\n",
       "</table>\n",
       "</div>"
      ],
      "text/plain": [
       "      카테고리     회사명                      제품       가격  사용시간    흡입력\n",
       "0  핸디스틱청소기    LG전자  오브제컬렉션 코드제로 A9S AU9982  1055510  60.0  220.0\n",
       "1  핸디스틱청소기     다이슨             V10 플러피 오리진   404100  60.0  151.0\n",
       "2  핸디스틱청소기    삼성전자      비스포크 제트 VS20B956AX   519000  60.0  220.0\n",
       "4  핸디스틱청소기    삼성전자      비스포크 제트 VS20A956A3   435080  60.0  210.0\n",
       "5  핸디스틱청소기  일렉트로룩스         에르고라피도 ZB3512IG   153990  35.0    NaN"
      ]
     },
     "execution_count": 65,
     "metadata": {},
     "output_type": "execute_result"
    }
   ],
   "source": [
    "pd_data_final.head()"
   ]
  },
  {
   "cell_type": "code",
   "execution_count": 66,
   "id": "39e43d82",
   "metadata": {},
   "outputs": [
    {
     "data": {
      "text/plain": [
       "(216, 6)"
      ]
     },
     "execution_count": 66,
     "metadata": {},
     "output_type": "execute_result"
    }
   ],
   "source": [
    "pd_data_final.shape"
   ]
  },
  {
   "cell_type": "code",
   "execution_count": 68,
   "id": "f8d4be17",
   "metadata": {},
   "outputs": [],
   "source": [
    "pd_data_final.to_excel('./danawa_data_final.xlsx', index = False)"
   ]
  },
  {
   "cell_type": "markdown",
   "id": "0fd16cb3",
   "metadata": {},
   "source": [
    "## 데이터 확인"
   ]
  },
  {
   "cell_type": "code",
   "execution_count": 70,
   "id": "0a2563f1",
   "metadata": {},
   "outputs": [
    {
     "data": {
      "text/html": [
       "<div>\n",
       "<style scoped>\n",
       "    .dataframe tbody tr th:only-of-type {\n",
       "        vertical-align: middle;\n",
       "    }\n",
       "\n",
       "    .dataframe tbody tr th {\n",
       "        vertical-align: top;\n",
       "    }\n",
       "\n",
       "    .dataframe thead th {\n",
       "        text-align: right;\n",
       "    }\n",
       "</style>\n",
       "<table border=\"1\" class=\"dataframe\">\n",
       "  <thead>\n",
       "    <tr style=\"text-align: right;\">\n",
       "      <th></th>\n",
       "      <th>카테고리</th>\n",
       "      <th>회사명</th>\n",
       "      <th>제품</th>\n",
       "      <th>가격</th>\n",
       "      <th>사용시간</th>\n",
       "      <th>흡입력</th>\n",
       "    </tr>\n",
       "  </thead>\n",
       "  <tbody>\n",
       "    <tr>\n",
       "      <th>27</th>\n",
       "      <td>핸디스틱청소기</td>\n",
       "      <td>DIBEA</td>\n",
       "      <td>차이슨 ALLNEW22000 스노우화이트</td>\n",
       "      <td>179000</td>\n",
       "      <td>40.0</td>\n",
       "      <td>400.0</td>\n",
       "    </tr>\n",
       "    <tr>\n",
       "      <th>62</th>\n",
       "      <td>핸디스틱청소기</td>\n",
       "      <td>DIBEA</td>\n",
       "      <td>차이슨 ALLNEW29000</td>\n",
       "      <td>239000</td>\n",
       "      <td>48.0</td>\n",
       "      <td>390.0</td>\n",
       "    </tr>\n",
       "    <tr>\n",
       "      <th>55</th>\n",
       "      <td>핸디스틱청소기</td>\n",
       "      <td>에어메이드</td>\n",
       "      <td>스마트포스 AMC-3500</td>\n",
       "      <td>189000</td>\n",
       "      <td>45.0</td>\n",
       "      <td>370.0</td>\n",
       "    </tr>\n",
       "    <tr>\n",
       "      <th>227</th>\n",
       "      <td>핸디스틱청소기</td>\n",
       "      <td>욜로닉스</td>\n",
       "      <td>로헨 L30</td>\n",
       "      <td>169000</td>\n",
       "      <td>50.0</td>\n",
       "      <td>350.0</td>\n",
       "    </tr>\n",
       "    <tr>\n",
       "      <th>140</th>\n",
       "      <td>핸디스틱청소기</td>\n",
       "      <td>DIBEA</td>\n",
       "      <td>차이슨 ALLNEW22000 (2022년형)</td>\n",
       "      <td>179000</td>\n",
       "      <td>40.0</td>\n",
       "      <td>350.0</td>\n",
       "    </tr>\n",
       "  </tbody>\n",
       "</table>\n",
       "</div>"
      ],
      "text/plain": [
       "        카테고리    회사명                        제품      가격  사용시간    흡입력\n",
       "27   핸디스틱청소기  DIBEA    차이슨 ALLNEW22000 스노우화이트  179000  40.0  400.0\n",
       "62   핸디스틱청소기  DIBEA           차이슨 ALLNEW29000  239000  48.0  390.0\n",
       "55   핸디스틱청소기  에어메이드            스마트포스 AMC-3500  189000  45.0  370.0\n",
       "227  핸디스틱청소기   욜로닉스                    로헨 L30  169000  50.0  350.0\n",
       "140  핸디스틱청소기  DIBEA  차이슨 ALLNEW22000 (2022년형)  179000  40.0  350.0"
      ]
     },
     "execution_count": 70,
     "metadata": {},
     "output_type": "execute_result"
    }
   ],
   "source": [
    "pd_data_final.sort_values('흡입력', ascending = False).head()"
   ]
  },
  {
   "cell_type": "code",
   "execution_count": 71,
   "id": "e67bced2",
   "metadata": {},
   "outputs": [
    {
     "data": {
      "text/html": [
       "<div>\n",
       "<style scoped>\n",
       "    .dataframe tbody tr th:only-of-type {\n",
       "        vertical-align: middle;\n",
       "    }\n",
       "\n",
       "    .dataframe tbody tr th {\n",
       "        vertical-align: top;\n",
       "    }\n",
       "\n",
       "    .dataframe thead th {\n",
       "        text-align: right;\n",
       "    }\n",
       "</style>\n",
       "<table border=\"1\" class=\"dataframe\">\n",
       "  <thead>\n",
       "    <tr style=\"text-align: right;\">\n",
       "      <th></th>\n",
       "      <th>카테고리</th>\n",
       "      <th>회사명</th>\n",
       "      <th>제품</th>\n",
       "      <th>가격</th>\n",
       "      <th>사용시간</th>\n",
       "      <th>흡입력</th>\n",
       "    </tr>\n",
       "  </thead>\n",
       "  <tbody>\n",
       "    <tr>\n",
       "      <th>263</th>\n",
       "      <td>핸디스틱청소기</td>\n",
       "      <td>리하스</td>\n",
       "      <td>LH20</td>\n",
       "      <td>196460</td>\n",
       "      <td>120.0</td>\n",
       "      <td>330.0</td>\n",
       "    </tr>\n",
       "    <tr>\n",
       "      <th>215</th>\n",
       "      <td>핸디스틱청소기</td>\n",
       "      <td>샤오미</td>\n",
       "      <td>드리미 V12</td>\n",
       "      <td>327800</td>\n",
       "      <td>90.0</td>\n",
       "      <td>270.0</td>\n",
       "    </tr>\n",
       "    <tr>\n",
       "      <th>327</th>\n",
       "      <td>핸디스틱청소기</td>\n",
       "      <td>샤오미</td>\n",
       "      <td>드리미 T30</td>\n",
       "      <td>469000</td>\n",
       "      <td>90.0</td>\n",
       "      <td>270.0</td>\n",
       "    </tr>\n",
       "    <tr>\n",
       "      <th>373</th>\n",
       "      <td>핸디스틱청소기</td>\n",
       "      <td>샤오미</td>\n",
       "      <td>드리미 V11</td>\n",
       "      <td>460000</td>\n",
       "      <td>90.0</td>\n",
       "      <td>250.0</td>\n",
       "    </tr>\n",
       "    <tr>\n",
       "      <th>368</th>\n",
       "      <td>핸디스틱청소기</td>\n",
       "      <td>샤오미</td>\n",
       "      <td>드리미 T20</td>\n",
       "      <td>419850</td>\n",
       "      <td>70.0</td>\n",
       "      <td>250.0</td>\n",
       "    </tr>\n",
       "  </tbody>\n",
       "</table>\n",
       "</div>"
      ],
      "text/plain": [
       "        카테고리  회사명       제품      가격   사용시간    흡입력\n",
       "263  핸디스틱청소기  리하스     LH20  196460  120.0  330.0\n",
       "215  핸디스틱청소기  샤오미  드리미 V12  327800   90.0  270.0\n",
       "327  핸디스틱청소기  샤오미  드리미 T30  469000   90.0  270.0\n",
       "373  핸디스틱청소기  샤오미  드리미 V11  460000   90.0  250.0\n",
       "368  핸디스틱청소기  샤오미  드리미 T20  419850   70.0  250.0"
      ]
     },
     "execution_count": 71,
     "metadata": {},
     "output_type": "execute_result"
    }
   ],
   "source": [
    "pd_data_final.sort_values('사용시간', ascending = False).head()"
   ]
  },
  {
   "cell_type": "code",
   "execution_count": 72,
   "id": "f6a13857",
   "metadata": {},
   "outputs": [
    {
     "data": {
      "text/html": [
       "<div>\n",
       "<style scoped>\n",
       "    .dataframe tbody tr th:only-of-type {\n",
       "        vertical-align: middle;\n",
       "    }\n",
       "\n",
       "    .dataframe tbody tr th {\n",
       "        vertical-align: top;\n",
       "    }\n",
       "\n",
       "    .dataframe thead th {\n",
       "        text-align: right;\n",
       "    }\n",
       "</style>\n",
       "<table border=\"1\" class=\"dataframe\">\n",
       "  <thead>\n",
       "    <tr style=\"text-align: right;\">\n",
       "      <th></th>\n",
       "      <th>카테고리</th>\n",
       "      <th>회사명</th>\n",
       "      <th>제품</th>\n",
       "      <th>가격</th>\n",
       "      <th>사용시간</th>\n",
       "      <th>흡입력</th>\n",
       "    </tr>\n",
       "  </thead>\n",
       "  <tbody>\n",
       "    <tr>\n",
       "      <th>263</th>\n",
       "      <td>핸디스틱청소기</td>\n",
       "      <td>리하스</td>\n",
       "      <td>LH20</td>\n",
       "      <td>196460</td>\n",
       "      <td>120.0</td>\n",
       "      <td>330.0</td>\n",
       "    </tr>\n",
       "    <tr>\n",
       "      <th>215</th>\n",
       "      <td>핸디스틱청소기</td>\n",
       "      <td>샤오미</td>\n",
       "      <td>드리미 V12</td>\n",
       "      <td>327800</td>\n",
       "      <td>90.0</td>\n",
       "      <td>270.0</td>\n",
       "    </tr>\n",
       "    <tr>\n",
       "      <th>327</th>\n",
       "      <td>핸디스틱청소기</td>\n",
       "      <td>샤오미</td>\n",
       "      <td>드리미 T30</td>\n",
       "      <td>469000</td>\n",
       "      <td>90.0</td>\n",
       "      <td>270.0</td>\n",
       "    </tr>\n",
       "    <tr>\n",
       "      <th>373</th>\n",
       "      <td>핸디스틱청소기</td>\n",
       "      <td>샤오미</td>\n",
       "      <td>드리미 V11</td>\n",
       "      <td>460000</td>\n",
       "      <td>90.0</td>\n",
       "      <td>250.0</td>\n",
       "    </tr>\n",
       "    <tr>\n",
       "      <th>309</th>\n",
       "      <td>핸디스틱청소기</td>\n",
       "      <td>샤오미</td>\n",
       "      <td>로이드미 X30 프로</td>\n",
       "      <td>249000</td>\n",
       "      <td>70.0</td>\n",
       "      <td>265.0</td>\n",
       "    </tr>\n",
       "  </tbody>\n",
       "</table>\n",
       "</div>"
      ],
      "text/plain": [
       "        카테고리  회사명           제품      가격   사용시간    흡입력\n",
       "263  핸디스틱청소기  리하스         LH20  196460  120.0  330.0\n",
       "215  핸디스틱청소기  샤오미      드리미 V12  327800   90.0  270.0\n",
       "327  핸디스틱청소기  샤오미      드리미 T30  469000   90.0  270.0\n",
       "373  핸디스틱청소기  샤오미      드리미 V11  460000   90.0  250.0\n",
       "309  핸디스틱청소기  샤오미  로이드미 X30 프로  249000   70.0  265.0"
      ]
     },
     "execution_count": 72,
     "metadata": {},
     "output_type": "execute_result"
    }
   ],
   "source": [
    "pd_data_final.sort_values(['사용시간', '흡입력'], ascending = False).head()"
   ]
  },
  {
   "cell_type": "markdown",
   "id": "12f90f9e",
   "metadata": {},
   "source": [
    "## 가성비 좋은 제품 찾아보기\n",
    "\n",
    "- 가성비가 좋다 : 가격 대비 성능이 우수하다\n",
    "    - 각 모델을 가격, 흡입력, 사용시간의 평균값과 비교"
   ]
  },
  {
   "cell_type": "code",
   "execution_count": 74,
   "id": "5689e026",
   "metadata": {},
   "outputs": [
    {
     "name": "stdout",
     "output_type": "stream",
     "text": [
      "414420.44444444444\n",
      "197.3774834437086\n",
      "49.45410628019324\n"
     ]
    }
   ],
   "source": [
    "price_mean_value = pd_data_final['가격'].mean()\n",
    "suction_mean_value = pd_data_final['흡입력'].mean()\n",
    "use_time_mean_value = pd_data_final['사용시간'].mean()\n",
    "print(price_mean_value)\n",
    "print(suction_mean_value)\n",
    "print(use_time_mean_value)"
   ]
  },
  {
   "cell_type": "markdown",
   "id": "5d3ca779",
   "metadata": {},
   "source": [
    "- 가성비 좋은 제품 : 가격 41만원 이하, 흡입력 199 이상, 사용시간 49분 이상"
   ]
  },
  {
   "cell_type": "code",
   "execution_count": 82,
   "id": "5620b822",
   "metadata": {},
   "outputs": [],
   "source": [
    "condition_data = pd_data_final[\n",
    "    (pd_data_final['가격'] <= price_mean_value) &\n",
    "    (pd_data_final['흡입력'] >= suction_mean_value) &\n",
    "    (pd_data_final['사용시간'] >= use_time_mean_value)\n",
    "]"
   ]
  },
  {
   "cell_type": "code",
   "execution_count": 83,
   "id": "6d0d8123",
   "metadata": {},
   "outputs": [
    {
     "data": {
      "text/html": [
       "<div>\n",
       "<style scoped>\n",
       "    .dataframe tbody tr th:only-of-type {\n",
       "        vertical-align: middle;\n",
       "    }\n",
       "\n",
       "    .dataframe tbody tr th {\n",
       "        vertical-align: top;\n",
       "    }\n",
       "\n",
       "    .dataframe thead th {\n",
       "        text-align: right;\n",
       "    }\n",
       "</style>\n",
       "<table border=\"1\" class=\"dataframe\">\n",
       "  <thead>\n",
       "    <tr style=\"text-align: right;\">\n",
       "      <th></th>\n",
       "      <th>카테고리</th>\n",
       "      <th>회사명</th>\n",
       "      <th>제품</th>\n",
       "      <th>가격</th>\n",
       "      <th>사용시간</th>\n",
       "      <th>흡입력</th>\n",
       "    </tr>\n",
       "  </thead>\n",
       "  <tbody>\n",
       "    <tr>\n",
       "      <th>12</th>\n",
       "      <td>핸디스틱청소기</td>\n",
       "      <td>삼성전자</td>\n",
       "      <td>제트 VS20T92K0BF</td>\n",
       "      <td>382610</td>\n",
       "      <td>60.0</td>\n",
       "      <td>200.0</td>\n",
       "    </tr>\n",
       "    <tr>\n",
       "      <th>13</th>\n",
       "      <td>핸디스틱청소기</td>\n",
       "      <td>샤오미</td>\n",
       "      <td>드리미 V10</td>\n",
       "      <td>155290</td>\n",
       "      <td>60.0</td>\n",
       "      <td>220.0</td>\n",
       "    </tr>\n",
       "    <tr>\n",
       "      <th>40</th>\n",
       "      <td>핸디스틱청소기</td>\n",
       "      <td>삼성전자</td>\n",
       "      <td>제트 VS20T92K3QD</td>\n",
       "      <td>376920</td>\n",
       "      <td>60.0</td>\n",
       "      <td>200.0</td>\n",
       "    </tr>\n",
       "    <tr>\n",
       "      <th>102</th>\n",
       "      <td>핸디스틱청소기</td>\n",
       "      <td>샤오미</td>\n",
       "      <td>COCLEAN V30</td>\n",
       "      <td>135210</td>\n",
       "      <td>60.0</td>\n",
       "      <td>250.0</td>\n",
       "    </tr>\n",
       "    <tr>\n",
       "      <th>132</th>\n",
       "      <td>핸디스틱청소기</td>\n",
       "      <td>샤오미</td>\n",
       "      <td>TROUVER POWER 12</td>\n",
       "      <td>171940</td>\n",
       "      <td>60.0</td>\n",
       "      <td>220.0</td>\n",
       "    </tr>\n",
       "  </tbody>\n",
       "</table>\n",
       "</div>"
      ],
      "text/plain": [
       "        카테고리   회사명                제품      가격  사용시간    흡입력\n",
       "12   핸디스틱청소기  삼성전자    제트 VS20T92K0BF  382610  60.0  200.0\n",
       "13   핸디스틱청소기   샤오미           드리미 V10  155290  60.0  220.0\n",
       "40   핸디스틱청소기  삼성전자    제트 VS20T92K3QD  376920  60.0  200.0\n",
       "102  핸디스틱청소기   샤오미       COCLEAN V30  135210  60.0  250.0\n",
       "132  핸디스틱청소기   샤오미  TROUVER POWER 12  171940  60.0  220.0"
      ]
     },
     "execution_count": 83,
     "metadata": {},
     "output_type": "execute_result"
    }
   ],
   "source": [
    "condition_data.head()"
   ]
  },
  {
   "cell_type": "code",
   "execution_count": 84,
   "id": "89d1a4f4",
   "metadata": {},
   "outputs": [
    {
     "data": {
      "text/plain": [
       "샤오미         9\n",
       "DIBEA       4\n",
       "삼성전자        2\n",
       "델로라         1\n",
       "욜로닉스        1\n",
       "리하스         1\n",
       "SINOLINK    1\n",
       "아이룸         1\n",
       "원더스리빙       1\n",
       "아이닉         1\n",
       "에드미         1\n",
       "Name: 회사명, dtype: int64"
      ]
     },
     "execution_count": 84,
     "metadata": {},
     "output_type": "execute_result"
    }
   ],
   "source": [
    "condition_data['회사명'].value_counts()"
   ]
  },
  {
   "cell_type": "markdown",
   "id": "04cc3124",
   "metadata": {},
   "source": [
    "- 샤오미, DIBEA, 삼성전자 제품들이 가성비가 좋음"
   ]
  },
  {
   "cell_type": "markdown",
   "id": "88313cd8",
   "metadata": {},
   "source": [
    "# 데이터 시각화"
   ]
  },
  {
   "cell_type": "code",
   "execution_count": 88,
   "id": "85d81330",
   "metadata": {},
   "outputs": [
    {
     "data": {
      "text/plain": [
       "카테고리     0\n",
       "회사명      0\n",
       "제품       0\n",
       "가격       0\n",
       "사용시간     9\n",
       "흡입력     65\n",
       "dtype: int64"
      ]
     },
     "execution_count": 88,
     "metadata": {},
     "output_type": "execute_result"
    }
   ],
   "source": [
    "# 결측치 확인\n",
    "\n",
    "pd_data_final.isna().sum()"
   ]
  },
  {
   "cell_type": "code",
   "execution_count": 90,
   "id": "4583e556",
   "metadata": {},
   "outputs": [
    {
     "data": {
      "text/plain": [
       "147"
      ]
     },
     "execution_count": 90,
     "metadata": {},
     "output_type": "execute_result"
    }
   ],
   "source": [
    "# 결측치 제거\n",
    "chart_data = pd_data_final.dropna(axis=0)\n",
    "len(chart_data)"
   ]
  },
  {
   "cell_type": "code",
   "execution_count": 94,
   "id": "3d373105",
   "metadata": {},
   "outputs": [],
   "source": [
    "# 흡입력, 사용시간의 최댓값과 평균값을 정리\n",
    "suction_max_value = chart_data['흡입력'].max()\n",
    "suction_mean_value = chart_data['흡입력'].mean()\n",
    "use_time_max_value = chart_data['사용시간'].max()\n",
    "use_time_mean_value = chart_data['사용시간'].mean()"
   ]
  },
  {
   "cell_type": "code",
   "execution_count": 95,
   "id": "2663460f",
   "metadata": {},
   "outputs": [
    {
     "name": "stdout",
     "output_type": "stream",
     "text": [
      "400.0\n",
      "198.19727891156464\n",
      "120.0\n",
      "52.06122448979592\n"
     ]
    }
   ],
   "source": [
    "print(suction_max_value)\n",
    "print(suction_mean_value)\n",
    "print(use_time_max_value)\n",
    "print(use_time_mean_value)"
   ]
  },
  {
   "cell_type": "code",
   "execution_count": 97,
   "id": "9ad20ee7",
   "metadata": {},
   "outputs": [
    {
     "data": {
      "image/png": "[encoded data removed]",
      "text/plain": [
       "<Figure size 2000x1000 with 1 Axes>"
      ]
     },
     "metadata": {},
     "output_type": "display_data"
    }
   ],
   "source": [
    "plt.figure(figsize = (20, 10))\n",
    "plt.title('무선 핸디스틱청소기 차트')\n",
    "sns.scatterplot(x = '흡입력', y = '사용시간', size = '가격', hue = chart_data['회사명'], data = chart_data,\n",
    "               sizes = (10, 1000), legend = False)\n",
    "plt.plot([0, suction_max_value],\n",
    "         [use_time_mean_value, use_time_mean_value],\n",
    "         'r--',\n",
    "         lw = 1)\n",
    "plt.plot([suction_mean_value, suction_mean_value],\n",
    "         [0, use_time_mean_value],\n",
    "         'r--',\n",
    "         lw = 1)\n",
    "plt.show()\n"
   ]
  },
  {
   "cell_type": "code",
   "execution_count": 98,
   "id": "85b03568",
   "metadata": {},
   "outputs": [
    {
     "data": {
      "image/png": "[encoded data removed]",
      "text/plain": [
       "<Figure size 2000x1000 with 1 Axes>"
      ]
     },
     "metadata": {},
     "output_type": "display_data"
    }
   ],
   "source": [
    "plt.figure(figsize = (20, 10))\n",
    "plt.title('무선 핸디스틱청소기 차트')\n",
    "sns.scatterplot(x = '흡입력', y = '사용시간', size = '가격', hue = chart_data['회사명'], data = chart_data,\n",
    "               sizes = (10, 1000), legend = True)\n",
    "plt.plot([0, suction_max_value],\n",
    "         [use_time_mean_value, use_time_mean_value],\n",
    "         'r--',\n",
    "         lw = 1)\n",
    "plt.plot([suction_mean_value, suction_mean_value],\n",
    "         [0, use_time_mean_value],\n",
    "         'r--',\n",
    "         lw = 1)\n",
    "plt.show()\n"
   ]
  },
  {
   "cell_type": "markdown",
   "id": "7b63e6e7",
   "metadata": {},
   "source": [
    "- 사용시간이 길고 흡입력이 큰 제품일수록 가격이 높아지는 경향이 있음"
   ]
  },
  {
   "cell_type": "markdown",
   "id": "620bbac2",
   "metadata": {},
   "source": [
    "## 인기 제품 10개 모델 시각화"
   ]
  },
  {
   "cell_type": "code",
   "execution_count": 105,
   "id": "f29869fb",
   "metadata": {},
   "outputs": [
    {
     "data": {
      "text/html": [
       "<div>\n",
       "<style scoped>\n",
       "    .dataframe tbody tr th:only-of-type {\n",
       "        vertical-align: middle;\n",
       "    }\n",
       "\n",
       "    .dataframe tbody tr th {\n",
       "        vertical-align: top;\n",
       "    }\n",
       "\n",
       "    .dataframe thead th {\n",
       "        text-align: right;\n",
       "    }\n",
       "</style>\n",
       "<table border=\"1\" class=\"dataframe\">\n",
       "  <thead>\n",
       "    <tr style=\"text-align: right;\">\n",
       "      <th></th>\n",
       "      <th>카테고리</th>\n",
       "      <th>회사명</th>\n",
       "      <th>제품</th>\n",
       "      <th>가격</th>\n",
       "      <th>사용시간</th>\n",
       "      <th>흡입력</th>\n",
       "    </tr>\n",
       "  </thead>\n",
       "  <tbody>\n",
       "    <tr>\n",
       "      <th>0</th>\n",
       "      <td>핸디스틱청소기</td>\n",
       "      <td>LG전자</td>\n",
       "      <td>오브제컬렉션 코드제로 A9S AU9982</td>\n",
       "      <td>1055510</td>\n",
       "      <td>60.0</td>\n",
       "      <td>220.0</td>\n",
       "    </tr>\n",
       "    <tr>\n",
       "      <th>1</th>\n",
       "      <td>핸디스틱청소기</td>\n",
       "      <td>다이슨</td>\n",
       "      <td>V10 플러피 오리진</td>\n",
       "      <td>404100</td>\n",
       "      <td>60.0</td>\n",
       "      <td>151.0</td>\n",
       "    </tr>\n",
       "    <tr>\n",
       "      <th>2</th>\n",
       "      <td>핸디스틱청소기</td>\n",
       "      <td>삼성전자</td>\n",
       "      <td>비스포크 제트 VS20B956AX</td>\n",
       "      <td>519000</td>\n",
       "      <td>60.0</td>\n",
       "      <td>220.0</td>\n",
       "    </tr>\n",
       "    <tr>\n",
       "      <th>4</th>\n",
       "      <td>핸디스틱청소기</td>\n",
       "      <td>삼성전자</td>\n",
       "      <td>비스포크 제트 VS20A956A3</td>\n",
       "      <td>435080</td>\n",
       "      <td>60.0</td>\n",
       "      <td>210.0</td>\n",
       "    </tr>\n",
       "    <tr>\n",
       "      <th>6</th>\n",
       "      <td>핸디스틱청소기</td>\n",
       "      <td>LG전자</td>\n",
       "      <td>코드제로 A9S AT9200BA</td>\n",
       "      <td>573720</td>\n",
       "      <td>60.0</td>\n",
       "      <td>200.0</td>\n",
       "    </tr>\n",
       "    <tr>\n",
       "      <th>...</th>\n",
       "      <td>...</td>\n",
       "      <td>...</td>\n",
       "      <td>...</td>\n",
       "      <td>...</td>\n",
       "      <td>...</td>\n",
       "      <td>...</td>\n",
       "    </tr>\n",
       "    <tr>\n",
       "      <th>386</th>\n",
       "      <td>핸디스틱청소기</td>\n",
       "      <td>DIBEA</td>\n",
       "      <td>DW200</td>\n",
       "      <td>79450</td>\n",
       "      <td>35.0</td>\n",
       "      <td>100.0</td>\n",
       "    </tr>\n",
       "    <tr>\n",
       "      <th>387</th>\n",
       "      <td>핸디스틱청소기</td>\n",
       "      <td>삼성전자</td>\n",
       "      <td>제트 VS20T9253QD</td>\n",
       "      <td>468450</td>\n",
       "      <td>60.0</td>\n",
       "      <td>200.0</td>\n",
       "    </tr>\n",
       "    <tr>\n",
       "      <th>389</th>\n",
       "      <td>핸디스틱청소기</td>\n",
       "      <td>모모픽</td>\n",
       "      <td>MAX300</td>\n",
       "      <td>158000</td>\n",
       "      <td>40.0</td>\n",
       "      <td>300.0</td>\n",
       "    </tr>\n",
       "    <tr>\n",
       "      <th>395</th>\n",
       "      <td>핸디스틱청소기</td>\n",
       "      <td>블루필</td>\n",
       "      <td>몽땅 BVC201</td>\n",
       "      <td>115364</td>\n",
       "      <td>30.0</td>\n",
       "      <td>150.0</td>\n",
       "    </tr>\n",
       "    <tr>\n",
       "      <th>397</th>\n",
       "      <td>핸디스틱청소기</td>\n",
       "      <td>보랄</td>\n",
       "      <td>메카닉 BR-SV680RC</td>\n",
       "      <td>497840</td>\n",
       "      <td>40.0</td>\n",
       "      <td>120.0</td>\n",
       "    </tr>\n",
       "  </tbody>\n",
       "</table>\n",
       "<p>147 rows × 6 columns</p>\n",
       "</div>"
      ],
      "text/plain": [
       "        카테고리    회사명                      제품       가격  사용시간    흡입력\n",
       "0    핸디스틱청소기   LG전자  오브제컬렉션 코드제로 A9S AU9982  1055510  60.0  220.0\n",
       "1    핸디스틱청소기    다이슨             V10 플러피 오리진   404100  60.0  151.0\n",
       "2    핸디스틱청소기   삼성전자      비스포크 제트 VS20B956AX   519000  60.0  220.0\n",
       "4    핸디스틱청소기   삼성전자      비스포크 제트 VS20A956A3   435080  60.0  210.0\n",
       "6    핸디스틱청소기   LG전자       코드제로 A9S AT9200BA   573720  60.0  200.0\n",
       "..       ...    ...                     ...      ...   ...    ...\n",
       "386  핸디스틱청소기  DIBEA                   DW200    79450  35.0  100.0\n",
       "387  핸디스틱청소기   삼성전자          제트 VS20T9253QD   468450  60.0  200.0\n",
       "389  핸디스틱청소기    모모픽                  MAX300   158000  40.0  300.0\n",
       "395  핸디스틱청소기    블루필               몽땅 BVC201   115364  30.0  150.0\n",
       "397  핸디스틱청소기     보랄          메카닉 BR-SV680RC   497840  40.0  120.0\n",
       "\n",
       "[147 rows x 6 columns]"
      ]
     },
     "execution_count": 105,
     "metadata": {},
     "output_type": "execute_result"
    }
   ],
   "source": [
    "chart_data"
   ]
  },
  {
   "cell_type": "code",
   "execution_count": 104,
   "id": "953f52b0",
   "metadata": {},
   "outputs": [],
   "source": [
    "chart_data_selected = chart_data[:10]"
   ]
  },
  {
   "cell_type": "code",
   "execution_count": 106,
   "id": "c7618edd",
   "metadata": {},
   "outputs": [],
   "source": [
    "suction_max_value = chart_data_selected['흡입력'].max()\n",
    "suction_mean_value = chart_data_selected['흡입력'].mean()\n",
    "use_time_max_value = chart_data_selected['사용시간'].max()\n",
    "use_time_mean_value = chart_data_selected['사용시간'].mean()"
   ]
  },
  {
   "cell_type": "code",
   "execution_count": 107,
   "id": "ecd15fdd",
   "metadata": {},
   "outputs": [
    {
     "data": {
      "image/png": "[encoded data removed]",
      "text/plain": [
       "<Figure size 2000x1000 with 1 Axes>"
      ]
     },
     "metadata": {},
     "output_type": "display_data"
    }
   ],
   "source": [
    "plt.figure(figsize = (20, 10))\n",
    "plt.title('무선 핸디스틱청소기 Top 10 차트')\n",
    "sns.scatterplot(x = '흡입력', y = '사용시간', size = '가격', hue = chart_data_selected['회사명'], data = chart_data_selected,\n",
    "               sizes = (100, 2000), legend = True)\n",
    "plt.plot([0, suction_max_value],\n",
    "         [use_time_mean_value, use_time_mean_value],\n",
    "         'r--',\n",
    "         lw = 1)\n",
    "plt.plot([suction_mean_value, suction_mean_value],\n",
    "         [0, use_time_mean_value],\n",
    "         'r--',\n",
    "         lw = 1)\n",
    "\n",
    "\n",
    "plt.show()\n"
   ]
  },
  {
   "cell_type": "code",
   "execution_count": null,
   "id": "4e5077ce",
   "metadata": {},
   "outputs": [],
   "source": []
  }
 ],
 "metadata": {
  "kernelspec": {
   "display_name": "Python 3 (ipykernel)",
   "language": "python",
   "name": "python3"
  },
  "language_info": {
   "codemirror_mode": {
    "name": "ipython",
    "version": 3
   },
   "file_extension": ".py",
   "mimetype": "text/x-python",
   "name": "python",
   "nbconvert_exporter": "python",
   "pygments_lexer": "ipython3",
   "version": "3.9.13"
  }
 },
 "nbformat": 4,
 "nbformat_minor": 5
}
