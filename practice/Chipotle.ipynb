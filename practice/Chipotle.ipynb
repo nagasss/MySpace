{
 "cells": [
  {
   "cell_type": "markdown",
   "id": "612b1f12",
   "metadata": {},
   "source": [
    "# 데이터 불러오기\n",
    "\n",
    "- 멕시코풍 프랜차이즈  chipotle의 주문 데이터 분석하기"
   ]
  },
  {
   "cell_type": "code",
   "execution_count": 52,
   "id": "38bee5bd",
   "metadata": {},
   "outputs": [],
   "source": [
    "import pandas as pd"
   ]
  },
  {
   "cell_type": "code",
   "execution_count": 53,
   "id": "63a75c02",
   "metadata": {},
   "outputs": [],
   "source": [
    "chipo = pd.read_csv(\"./analysis/data/chipotle.tsv\", sep = \"\\t\")"
   ]
  },
  {
   "cell_type": "code",
   "execution_count": 54,
   "id": "c5186ec5",
   "metadata": {},
   "outputs": [
    {
     "data": {
      "text/html": [
       "<div>\n",
       "<style scoped>\n",
       "    .dataframe tbody tr th:only-of-type {\n",
       "        vertical-align: middle;\n",
       "    }\n",
       "\n",
       "    .dataframe tbody tr th {\n",
       "        vertical-align: top;\n",
       "    }\n",
       "\n",
       "    .dataframe thead th {\n",
       "        text-align: right;\n",
       "    }\n",
       "</style>\n",
       "<table border=\"1\" class=\"dataframe\">\n",
       "  <thead>\n",
       "    <tr style=\"text-align: right;\">\n",
       "      <th></th>\n",
       "      <th>order_id</th>\n",
       "      <th>quantity</th>\n",
       "      <th>item_name</th>\n",
       "      <th>choice_description</th>\n",
       "      <th>item_price</th>\n",
       "    </tr>\n",
       "  </thead>\n",
       "  <tbody>\n",
       "    <tr>\n",
       "      <th>0</th>\n",
       "      <td>1</td>\n",
       "      <td>1</td>\n",
       "      <td>Chips and Fresh Tomato Salsa</td>\n",
       "      <td>NaN</td>\n",
       "      <td>$2.39</td>\n",
       "    </tr>\n",
       "    <tr>\n",
       "      <th>1</th>\n",
       "      <td>1</td>\n",
       "      <td>1</td>\n",
       "      <td>Izze</td>\n",
       "      <td>[Clementine]</td>\n",
       "      <td>$3.39</td>\n",
       "    </tr>\n",
       "    <tr>\n",
       "      <th>2</th>\n",
       "      <td>1</td>\n",
       "      <td>1</td>\n",
       "      <td>Nantucket Nectar</td>\n",
       "      <td>[Apple]</td>\n",
       "      <td>$3.39</td>\n",
       "    </tr>\n",
       "    <tr>\n",
       "      <th>3</th>\n",
       "      <td>1</td>\n",
       "      <td>1</td>\n",
       "      <td>Chips and Tomatillo-Green Chili Salsa</td>\n",
       "      <td>NaN</td>\n",
       "      <td>$2.39</td>\n",
       "    </tr>\n",
       "    <tr>\n",
       "      <th>4</th>\n",
       "      <td>2</td>\n",
       "      <td>2</td>\n",
       "      <td>Chicken Bowl</td>\n",
       "      <td>[Tomatillo-Red Chili Salsa (Hot), [Black Beans...</td>\n",
       "      <td>$16.98</td>\n",
       "    </tr>\n",
       "    <tr>\n",
       "      <th>...</th>\n",
       "      <td>...</td>\n",
       "      <td>...</td>\n",
       "      <td>...</td>\n",
       "      <td>...</td>\n",
       "      <td>...</td>\n",
       "    </tr>\n",
       "    <tr>\n",
       "      <th>4617</th>\n",
       "      <td>1833</td>\n",
       "      <td>1</td>\n",
       "      <td>Steak Burrito</td>\n",
       "      <td>[Fresh Tomato Salsa, [Rice, Black Beans, Sour ...</td>\n",
       "      <td>$11.75</td>\n",
       "    </tr>\n",
       "    <tr>\n",
       "      <th>4618</th>\n",
       "      <td>1833</td>\n",
       "      <td>1</td>\n",
       "      <td>Steak Burrito</td>\n",
       "      <td>[Fresh Tomato Salsa, [Rice, Sour Cream, Cheese...</td>\n",
       "      <td>$11.75</td>\n",
       "    </tr>\n",
       "    <tr>\n",
       "      <th>4619</th>\n",
       "      <td>1834</td>\n",
       "      <td>1</td>\n",
       "      <td>Chicken Salad Bowl</td>\n",
       "      <td>[Fresh Tomato Salsa, [Fajita Vegetables, Pinto...</td>\n",
       "      <td>$11.25</td>\n",
       "    </tr>\n",
       "    <tr>\n",
       "      <th>4620</th>\n",
       "      <td>1834</td>\n",
       "      <td>1</td>\n",
       "      <td>Chicken Salad Bowl</td>\n",
       "      <td>[Fresh Tomato Salsa, [Fajita Vegetables, Lettu...</td>\n",
       "      <td>$8.75</td>\n",
       "    </tr>\n",
       "    <tr>\n",
       "      <th>4621</th>\n",
       "      <td>1834</td>\n",
       "      <td>1</td>\n",
       "      <td>Chicken Salad Bowl</td>\n",
       "      <td>[Fresh Tomato Salsa, [Fajita Vegetables, Pinto...</td>\n",
       "      <td>$8.75</td>\n",
       "    </tr>\n",
       "  </tbody>\n",
       "</table>\n",
       "<p>4622 rows × 5 columns</p>\n",
       "</div>"
      ],
      "text/plain": [
       "      order_id  quantity                              item_name  \\\n",
       "0            1         1           Chips and Fresh Tomato Salsa   \n",
       "1            1         1                                   Izze   \n",
       "2            1         1                       Nantucket Nectar   \n",
       "3            1         1  Chips and Tomatillo-Green Chili Salsa   \n",
       "4            2         2                           Chicken Bowl   \n",
       "...        ...       ...                                    ...   \n",
       "4617      1833         1                          Steak Burrito   \n",
       "4618      1833         1                          Steak Burrito   \n",
       "4619      1834         1                     Chicken Salad Bowl   \n",
       "4620      1834         1                     Chicken Salad Bowl   \n",
       "4621      1834         1                     Chicken Salad Bowl   \n",
       "\n",
       "                                     choice_description item_price  \n",
       "0                                                   NaN     $2.39   \n",
       "1                                          [Clementine]     $3.39   \n",
       "2                                               [Apple]     $3.39   \n",
       "3                                                   NaN     $2.39   \n",
       "4     [Tomatillo-Red Chili Salsa (Hot), [Black Beans...    $16.98   \n",
       "...                                                 ...        ...  \n",
       "4617  [Fresh Tomato Salsa, [Rice, Black Beans, Sour ...    $11.75   \n",
       "4618  [Fresh Tomato Salsa, [Rice, Sour Cream, Cheese...    $11.75   \n",
       "4619  [Fresh Tomato Salsa, [Fajita Vegetables, Pinto...    $11.25   \n",
       "4620  [Fresh Tomato Salsa, [Fajita Vegetables, Lettu...     $8.75   \n",
       "4621  [Fresh Tomato Salsa, [Fajita Vegetables, Pinto...     $8.75   \n",
       "\n",
       "[4622 rows x 5 columns]"
      ]
     },
     "execution_count": 54,
     "metadata": {},
     "output_type": "execute_result"
    }
   ],
   "source": [
    "chipo"
   ]
  },
  {
   "cell_type": "markdown",
   "id": "e04ef6b7",
   "metadata": {},
   "source": [
    "# 데이터 탐색"
   ]
  },
  {
   "cell_type": "markdown",
   "id": "107a9bc8",
   "metadata": {},
   "source": [
    "### 피처 \n",
    "- order_id : 주문번호\n",
    "- quantity : 아이템의 주문 수량\n",
    "- item_name : 주문한 아이템의 이름\n",
    "- choice_description : 주문한 아이템의 상세 선택 옵션\n",
    "- item_price : 주문 아이템의 가격 정보"
   ]
  },
  {
   "cell_type": "code",
   "execution_count": 55,
   "id": "75182a55",
   "metadata": {},
   "outputs": [
    {
     "data": {
      "text/plain": [
       "(4622, 5)"
      ]
     },
     "execution_count": 55,
     "metadata": {},
     "output_type": "execute_result"
    }
   ],
   "source": [
    "chipo.shape"
   ]
  },
  {
   "cell_type": "code",
   "execution_count": 56,
   "id": "59710cd2",
   "metadata": {},
   "outputs": [
    {
     "name": "stdout",
     "output_type": "stream",
     "text": [
      "<class 'pandas.core.frame.DataFrame'>\n",
      "RangeIndex: 4622 entries, 0 to 4621\n",
      "Data columns (total 5 columns):\n",
      " #   Column              Non-Null Count  Dtype \n",
      "---  ------              --------------  ----- \n",
      " 0   order_id            4622 non-null   int64 \n",
      " 1   quantity            4622 non-null   int64 \n",
      " 2   item_name           4622 non-null   object\n",
      " 3   choice_description  3376 non-null   object\n",
      " 4   item_price          4622 non-null   object\n",
      "dtypes: int64(2), object(3)\n",
      "memory usage: 180.7+ KB\n"
     ]
    }
   ],
   "source": [
    "chipo.info()"
   ]
  },
  {
   "cell_type": "markdown",
   "id": "61ed8dc2",
   "metadata": {},
   "source": [
    "- choice_description의 결측값 존재\n",
    "- order_id는 숫자의 의미를 가지고 있지 않기 때문에 str으로 변환한다."
   ]
  },
  {
   "cell_type": "code",
   "execution_count": 57,
   "id": "f8d8a1d0",
   "metadata": {},
   "outputs": [
    {
     "data": {
      "text/html": [
       "<div>\n",
       "<style scoped>\n",
       "    .dataframe tbody tr th:only-of-type {\n",
       "        vertical-align: middle;\n",
       "    }\n",
       "\n",
       "    .dataframe tbody tr th {\n",
       "        vertical-align: top;\n",
       "    }\n",
       "\n",
       "    .dataframe thead th {\n",
       "        text-align: right;\n",
       "    }\n",
       "</style>\n",
       "<table border=\"1\" class=\"dataframe\">\n",
       "  <thead>\n",
       "    <tr style=\"text-align: right;\">\n",
       "      <th></th>\n",
       "      <th>order_id</th>\n",
       "      <th>quantity</th>\n",
       "    </tr>\n",
       "  </thead>\n",
       "  <tbody>\n",
       "    <tr>\n",
       "      <th>count</th>\n",
       "      <td>4622.000000</td>\n",
       "      <td>4622.000000</td>\n",
       "    </tr>\n",
       "    <tr>\n",
       "      <th>mean</th>\n",
       "      <td>927.254868</td>\n",
       "      <td>1.075725</td>\n",
       "    </tr>\n",
       "    <tr>\n",
       "      <th>std</th>\n",
       "      <td>528.890796</td>\n",
       "      <td>0.410186</td>\n",
       "    </tr>\n",
       "    <tr>\n",
       "      <th>min</th>\n",
       "      <td>1.000000</td>\n",
       "      <td>1.000000</td>\n",
       "    </tr>\n",
       "    <tr>\n",
       "      <th>25%</th>\n",
       "      <td>477.250000</td>\n",
       "      <td>1.000000</td>\n",
       "    </tr>\n",
       "    <tr>\n",
       "      <th>50%</th>\n",
       "      <td>926.000000</td>\n",
       "      <td>1.000000</td>\n",
       "    </tr>\n",
       "    <tr>\n",
       "      <th>75%</th>\n",
       "      <td>1393.000000</td>\n",
       "      <td>1.000000</td>\n",
       "    </tr>\n",
       "    <tr>\n",
       "      <th>max</th>\n",
       "      <td>1834.000000</td>\n",
       "      <td>15.000000</td>\n",
       "    </tr>\n",
       "  </tbody>\n",
       "</table>\n",
       "</div>"
      ],
      "text/plain": [
       "          order_id     quantity\n",
       "count  4622.000000  4622.000000\n",
       "mean    927.254868     1.075725\n",
       "std     528.890796     0.410186\n",
       "min       1.000000     1.000000\n",
       "25%     477.250000     1.000000\n",
       "50%     926.000000     1.000000\n",
       "75%    1393.000000     1.000000\n",
       "max    1834.000000    15.000000"
      ]
     },
     "execution_count": 57,
     "metadata": {},
     "output_type": "execute_result"
    }
   ],
   "source": [
    "chipo.describe()"
   ]
  },
  {
   "cell_type": "markdown",
   "id": "4074a4d3",
   "metadata": {},
   "source": [
    "- 아이템의 평균 주문 수량은 약 1.08\n",
    "    - 대부분이 한 아이템에 대해서 1개 정도만 주문함, 한 사람이 같은 메뉴를 여러 개 구매하는 경우는 많지 않다.\n",
    "    \n",
    "- order_id 피처는 숫자의 의미가 없으므로 str로 바꾸어준다.\n",
    "- item_price는 수치적 특징을 보기 위해서 수치형으로 변환해준다."
   ]
  },
  {
   "cell_type": "code",
   "execution_count": 58,
   "id": "ebce0bcb",
   "metadata": {},
   "outputs": [],
   "source": [
    "chipo[\"order_id\"] = chipo[\"order_id\"].astype(str)"
   ]
  },
  {
   "cell_type": "code",
   "execution_count": 59,
   "id": "20cc3f93",
   "metadata": {
    "scrolled": true
   },
   "outputs": [
    {
     "name": "stdout",
     "output_type": "stream",
     "text": [
      "<class 'pandas.core.frame.DataFrame'>\n",
      "RangeIndex: 4622 entries, 0 to 4621\n",
      "Data columns (total 5 columns):\n",
      " #   Column              Non-Null Count  Dtype \n",
      "---  ------              --------------  ----- \n",
      " 0   order_id            4622 non-null   object\n",
      " 1   quantity            4622 non-null   int64 \n",
      " 2   item_name           4622 non-null   object\n",
      " 3   choice_description  3376 non-null   object\n",
      " 4   item_price          4622 non-null   object\n",
      "dtypes: int64(1), object(4)\n",
      "memory usage: 180.7+ KB\n"
     ]
    }
   ],
   "source": [
    "chipo.info()"
   ]
  },
  {
   "cell_type": "markdown",
   "id": "bd179ab8",
   "metadata": {},
   "source": [
    "### 가장 많이 주문한 아이템 Top 10"
   ]
  },
  {
   "cell_type": "code",
   "execution_count": 61,
   "id": "e81be773",
   "metadata": {},
   "outputs": [
    {
     "data": {
      "text/html": [
       "<div>\n",
       "<style scoped>\n",
       "    .dataframe tbody tr th:only-of-type {\n",
       "        vertical-align: middle;\n",
       "    }\n",
       "\n",
       "    .dataframe tbody tr th {\n",
       "        vertical-align: top;\n",
       "    }\n",
       "\n",
       "    .dataframe thead th {\n",
       "        text-align: right;\n",
       "    }\n",
       "</style>\n",
       "<table border=\"1\" class=\"dataframe\">\n",
       "  <thead>\n",
       "    <tr style=\"text-align: right;\">\n",
       "      <th></th>\n",
       "      <th>order_id</th>\n",
       "      <th>quantity</th>\n",
       "      <th>item_name</th>\n",
       "      <th>choice_description</th>\n",
       "      <th>item_price</th>\n",
       "    </tr>\n",
       "  </thead>\n",
       "  <tbody>\n",
       "    <tr>\n",
       "      <th>0</th>\n",
       "      <td>1</td>\n",
       "      <td>1</td>\n",
       "      <td>Chips and Fresh Tomato Salsa</td>\n",
       "      <td>NaN</td>\n",
       "      <td>$2.39</td>\n",
       "    </tr>\n",
       "    <tr>\n",
       "      <th>1</th>\n",
       "      <td>1</td>\n",
       "      <td>1</td>\n",
       "      <td>Izze</td>\n",
       "      <td>[Clementine]</td>\n",
       "      <td>$3.39</td>\n",
       "    </tr>\n",
       "    <tr>\n",
       "      <th>2</th>\n",
       "      <td>1</td>\n",
       "      <td>1</td>\n",
       "      <td>Nantucket Nectar</td>\n",
       "      <td>[Apple]</td>\n",
       "      <td>$3.39</td>\n",
       "    </tr>\n",
       "    <tr>\n",
       "      <th>3</th>\n",
       "      <td>1</td>\n",
       "      <td>1</td>\n",
       "      <td>Chips and Tomatillo-Green Chili Salsa</td>\n",
       "      <td>NaN</td>\n",
       "      <td>$2.39</td>\n",
       "    </tr>\n",
       "    <tr>\n",
       "      <th>4</th>\n",
       "      <td>2</td>\n",
       "      <td>2</td>\n",
       "      <td>Chicken Bowl</td>\n",
       "      <td>[Tomatillo-Red Chili Salsa (Hot), [Black Beans...</td>\n",
       "      <td>$16.98</td>\n",
       "    </tr>\n",
       "  </tbody>\n",
       "</table>\n",
       "</div>"
      ],
      "text/plain": [
       "  order_id  quantity                              item_name  \\\n",
       "0        1         1           Chips and Fresh Tomato Salsa   \n",
       "1        1         1                                   Izze   \n",
       "2        1         1                       Nantucket Nectar   \n",
       "3        1         1  Chips and Tomatillo-Green Chili Salsa   \n",
       "4        2         2                           Chicken Bowl   \n",
       "\n",
       "                                  choice_description item_price  \n",
       "0                                                NaN     $2.39   \n",
       "1                                       [Clementine]     $3.39   \n",
       "2                                            [Apple]     $3.39   \n",
       "3                                                NaN     $2.39   \n",
       "4  [Tomatillo-Red Chili Salsa (Hot), [Black Beans...    $16.98   "
      ]
     },
     "execution_count": 61,
     "metadata": {},
     "output_type": "execute_result"
    }
   ],
   "source": [
    "chipo.head()"
   ]
  },
  {
   "cell_type": "code",
   "execution_count": 83,
   "id": "e77327f6",
   "metadata": {},
   "outputs": [],
   "source": [
    "item_count = chipo[\"item_name\"].value_counts()[:10]"
   ]
  },
  {
   "cell_type": "code",
   "execution_count": 103,
   "id": "c09c6c1c",
   "metadata": {},
   "outputs": [
    {
     "name": "stdout",
     "output_type": "stream",
     "text": [
      "Top 1 : Chicken Bowl 726\n",
      "Top 2 : Chicken Burrito 553\n",
      "Top 3 : Chips and Guacamole 479\n",
      "Top 4 : Steak Burrito 368\n",
      "Top 5 : Canned Soft Drink 301\n",
      "Top 6 : Steak Bowl 211\n",
      "Top 7 : Chips 211\n",
      "Top 8 : Bottled Water 162\n",
      "Top 9 : Chicken Soft Tacos 115\n",
      "Top 10 : Chips and Fresh Tomato Salsa 110\n"
     ]
    }
   ],
   "source": [
    "for idx, (val, cnt) in enumerate(item_count.iteritems(), 1) :\n",
    "    print(\"Top\", idx, \":\", val, cnt)"
   ]
  },
  {
   "cell_type": "markdown",
   "id": "df3973e9",
   "metadata": {},
   "source": [
    "### 아이템별 주문 횟수"
   ]
  },
  {
   "cell_type": "code",
   "execution_count": 109,
   "id": "59e4d528",
   "metadata": {},
   "outputs": [],
   "source": [
    "order_count = chipo.groupby(\"item_name\")[\"order_id\"].count()"
   ]
  },
  {
   "cell_type": "code",
   "execution_count": 110,
   "id": "fbc5ec26",
   "metadata": {},
   "outputs": [
    {
     "data": {
      "text/plain": [
       "item_name\n",
       "6 Pack Soft Drink         54\n",
       "Barbacoa Bowl             66\n",
       "Barbacoa Burrito          91\n",
       "Barbacoa Crispy Tacos     11\n",
       "Barbacoa Salad Bowl       10\n",
       "Barbacoa Soft Tacos       25\n",
       "Bottled Water            162\n",
       "Bowl                       2\n",
       "Burrito                    6\n",
       "Canned Soda              104\n",
       "Name: order_id, dtype: int64"
      ]
     },
     "execution_count": 110,
     "metadata": {},
     "output_type": "execute_result"
    }
   ],
   "source": [
    "order_count[:10]"
   ]
  },
  {
   "cell_type": "code",
   "execution_count": 111,
   "id": "d9eaad0b",
   "metadata": {},
   "outputs": [
    {
     "data": {
      "text/html": [
       "<div>\n",
       "<style scoped>\n",
       "    .dataframe tbody tr th:only-of-type {\n",
       "        vertical-align: middle;\n",
       "    }\n",
       "\n",
       "    .dataframe tbody tr th {\n",
       "        vertical-align: top;\n",
       "    }\n",
       "\n",
       "    .dataframe thead th {\n",
       "        text-align: right;\n",
       "    }\n",
       "</style>\n",
       "<table border=\"1\" class=\"dataframe\">\n",
       "  <thead>\n",
       "    <tr style=\"text-align: right;\">\n",
       "      <th></th>\n",
       "      <th>order_id</th>\n",
       "      <th>quantity</th>\n",
       "      <th>item_name</th>\n",
       "      <th>choice_description</th>\n",
       "      <th>item_price</th>\n",
       "    </tr>\n",
       "  </thead>\n",
       "  <tbody>\n",
       "    <tr>\n",
       "      <th>0</th>\n",
       "      <td>1</td>\n",
       "      <td>1</td>\n",
       "      <td>Chips and Fresh Tomato Salsa</td>\n",
       "      <td>NaN</td>\n",
       "      <td>$2.39</td>\n",
       "    </tr>\n",
       "    <tr>\n",
       "      <th>1</th>\n",
       "      <td>1</td>\n",
       "      <td>1</td>\n",
       "      <td>Izze</td>\n",
       "      <td>[Clementine]</td>\n",
       "      <td>$3.39</td>\n",
       "    </tr>\n",
       "    <tr>\n",
       "      <th>2</th>\n",
       "      <td>1</td>\n",
       "      <td>1</td>\n",
       "      <td>Nantucket Nectar</td>\n",
       "      <td>[Apple]</td>\n",
       "      <td>$3.39</td>\n",
       "    </tr>\n",
       "    <tr>\n",
       "      <th>3</th>\n",
       "      <td>1</td>\n",
       "      <td>1</td>\n",
       "      <td>Chips and Tomatillo-Green Chili Salsa</td>\n",
       "      <td>NaN</td>\n",
       "      <td>$2.39</td>\n",
       "    </tr>\n",
       "    <tr>\n",
       "      <th>4</th>\n",
       "      <td>2</td>\n",
       "      <td>2</td>\n",
       "      <td>Chicken Bowl</td>\n",
       "      <td>[Tomatillo-Red Chili Salsa (Hot), [Black Beans...</td>\n",
       "      <td>$16.98</td>\n",
       "    </tr>\n",
       "    <tr>\n",
       "      <th>...</th>\n",
       "      <td>...</td>\n",
       "      <td>...</td>\n",
       "      <td>...</td>\n",
       "      <td>...</td>\n",
       "      <td>...</td>\n",
       "    </tr>\n",
       "    <tr>\n",
       "      <th>4617</th>\n",
       "      <td>1833</td>\n",
       "      <td>1</td>\n",
       "      <td>Steak Burrito</td>\n",
       "      <td>[Fresh Tomato Salsa, [Rice, Black Beans, Sour ...</td>\n",
       "      <td>$11.75</td>\n",
       "    </tr>\n",
       "    <tr>\n",
       "      <th>4618</th>\n",
       "      <td>1833</td>\n",
       "      <td>1</td>\n",
       "      <td>Steak Burrito</td>\n",
       "      <td>[Fresh Tomato Salsa, [Rice, Sour Cream, Cheese...</td>\n",
       "      <td>$11.75</td>\n",
       "    </tr>\n",
       "    <tr>\n",
       "      <th>4619</th>\n",
       "      <td>1834</td>\n",
       "      <td>1</td>\n",
       "      <td>Chicken Salad Bowl</td>\n",
       "      <td>[Fresh Tomato Salsa, [Fajita Vegetables, Pinto...</td>\n",
       "      <td>$11.25</td>\n",
       "    </tr>\n",
       "    <tr>\n",
       "      <th>4620</th>\n",
       "      <td>1834</td>\n",
       "      <td>1</td>\n",
       "      <td>Chicken Salad Bowl</td>\n",
       "      <td>[Fresh Tomato Salsa, [Fajita Vegetables, Lettu...</td>\n",
       "      <td>$8.75</td>\n",
       "    </tr>\n",
       "    <tr>\n",
       "      <th>4621</th>\n",
       "      <td>1834</td>\n",
       "      <td>1</td>\n",
       "      <td>Chicken Salad Bowl</td>\n",
       "      <td>[Fresh Tomato Salsa, [Fajita Vegetables, Pinto...</td>\n",
       "      <td>$8.75</td>\n",
       "    </tr>\n",
       "  </tbody>\n",
       "</table>\n",
       "<p>4622 rows × 5 columns</p>\n",
       "</div>"
      ],
      "text/plain": [
       "     order_id  quantity                              item_name  \\\n",
       "0           1         1           Chips and Fresh Tomato Salsa   \n",
       "1           1         1                                   Izze   \n",
       "2           1         1                       Nantucket Nectar   \n",
       "3           1         1  Chips and Tomatillo-Green Chili Salsa   \n",
       "4           2         2                           Chicken Bowl   \n",
       "...       ...       ...                                    ...   \n",
       "4617     1833         1                          Steak Burrito   \n",
       "4618     1833         1                          Steak Burrito   \n",
       "4619     1834         1                     Chicken Salad Bowl   \n",
       "4620     1834         1                     Chicken Salad Bowl   \n",
       "4621     1834         1                     Chicken Salad Bowl   \n",
       "\n",
       "                                     choice_description item_price  \n",
       "0                                                   NaN     $2.39   \n",
       "1                                          [Clementine]     $3.39   \n",
       "2                                               [Apple]     $3.39   \n",
       "3                                                   NaN     $2.39   \n",
       "4     [Tomatillo-Red Chili Salsa (Hot), [Black Beans...    $16.98   \n",
       "...                                                 ...        ...  \n",
       "4617  [Fresh Tomato Salsa, [Rice, Black Beans, Sour ...    $11.75   \n",
       "4618  [Fresh Tomato Salsa, [Rice, Sour Cream, Cheese...    $11.75   \n",
       "4619  [Fresh Tomato Salsa, [Fajita Vegetables, Pinto...    $11.25   \n",
       "4620  [Fresh Tomato Salsa, [Fajita Vegetables, Lettu...     $8.75   \n",
       "4621  [Fresh Tomato Salsa, [Fajita Vegetables, Pinto...     $8.75   \n",
       "\n",
       "[4622 rows x 5 columns]"
      ]
     },
     "execution_count": 111,
     "metadata": {},
     "output_type": "execute_result"
    }
   ],
   "source": [
    "chipo"
   ]
  },
  {
   "cell_type": "markdown",
   "id": "eddc5329",
   "metadata": {},
   "source": [
    "### 아이템별 총량"
   ]
  },
  {
   "cell_type": "code",
   "execution_count": 112,
   "id": "041b42c3",
   "metadata": {},
   "outputs": [],
   "source": [
    "item_quantity = chipo.groupby(\"item_name\")[\"quantity\"].sum()"
   ]
  },
  {
   "cell_type": "code",
   "execution_count": 113,
   "id": "2dd56e93",
   "metadata": {},
   "outputs": [
    {
     "data": {
      "text/plain": [
       "item_name\n",
       "6 Pack Soft Drink         55\n",
       "Barbacoa Bowl             66\n",
       "Barbacoa Burrito          91\n",
       "Barbacoa Crispy Tacos     12\n",
       "Barbacoa Salad Bowl       10\n",
       "Barbacoa Soft Tacos       25\n",
       "Bottled Water            211\n",
       "Bowl                       4\n",
       "Burrito                    6\n",
       "Canned Soda              126\n",
       "Name: quantity, dtype: int64"
      ]
     },
     "execution_count": 113,
     "metadata": {},
     "output_type": "execute_result"
    }
   ],
   "source": [
    "item_quantity[:10]"
   ]
  },
  {
   "cell_type": "markdown",
   "id": "ffdbdc22",
   "metadata": {},
   "source": [
    "### 시각화\n",
    "- 아이템별 총량"
   ]
  },
  {
   "cell_type": "code",
   "execution_count": 114,
   "id": "1e787648",
   "metadata": {},
   "outputs": [],
   "source": [
    "import matplotlib.pyplot as plt\n",
    "import numpy as np"
   ]
  },
  {
   "cell_type": "code",
   "execution_count": 131,
   "id": "f380997a",
   "metadata": {},
   "outputs": [],
   "source": [
    "item_quantity_sort = item_quantity.sort_values(ascending=False)"
   ]
  },
  {
   "cell_type": "code",
   "execution_count": 138,
   "id": "6de03263",
   "metadata": {},
   "outputs": [],
   "source": [
    "# item 수가 너무 많고 영어이기 때문에 다 표현할 수 없으므로 숫자로 변환하자\n",
    "x_pos = np.arange(len(item_quantity_sort.index.tolist()))"
   ]
  },
  {
   "cell_type": "code",
   "execution_count": 140,
   "id": "3f2332d5",
   "metadata": {},
   "outputs": [],
   "source": [
    "order_cnt = item_quantity_sort.values.tolist()"
   ]
  },
  {
   "cell_type": "code",
   "execution_count": 145,
   "id": "c70f77f1",
   "metadata": {},
   "outputs": [
    {
     "data": {
      "text/plain": [
       "Index(['Chicken Bowl', 'Chicken Burrito', 'Chips and Guacamole',\n",
       "       'Steak Burrito', 'Canned Soft Drink', 'Chips', 'Steak Bowl',\n",
       "       'Bottled Water', 'Chips and Fresh Tomato Salsa', 'Canned Soda'],\n",
       "      dtype='object', name='item_name')"
      ]
     },
     "execution_count": 145,
     "metadata": {},
     "output_type": "execute_result"
    }
   ],
   "source": [
    "item_quantity_sort.index[:10]"
   ]
  },
  {
   "cell_type": "code",
   "execution_count": 143,
   "id": "3e8258ea",
   "metadata": {},
   "outputs": [
    {
     "data": {
      "image/png": "[encoded data removed]",
      "text/plain": [
       "<Figure size 640x480 with 1 Axes>"
      ]
     },
     "metadata": {},
     "output_type": "display_data"
    }
   ],
   "source": [
    "plt.bar(x_pos, order_cnt)\n",
    "plt.ylabel(\"ordered_item_count\")\n",
    "plt.title(\"Distribution of all orderd item\")\n",
    "\n",
    "plt.show()"
   ]
  },
  {
   "cell_type": "markdown",
   "id": "66c024b0",
   "metadata": {},
   "source": [
    "# 데이터 전처리"
   ]
  },
  {
   "cell_type": "markdown",
   "id": "6dc0d765",
   "metadata": {},
   "source": [
    "- item_price를 문자열 타입에서 전처리하자"
   ]
  },
  {
   "cell_type": "code",
   "execution_count": 146,
   "id": "61699285",
   "metadata": {},
   "outputs": [
    {
     "data": {
      "text/html": [
       "<div>\n",
       "<style scoped>\n",
       "    .dataframe tbody tr th:only-of-type {\n",
       "        vertical-align: middle;\n",
       "    }\n",
       "\n",
       "    .dataframe tbody tr th {\n",
       "        vertical-align: top;\n",
       "    }\n",
       "\n",
       "    .dataframe thead th {\n",
       "        text-align: right;\n",
       "    }\n",
       "</style>\n",
       "<table border=\"1\" class=\"dataframe\">\n",
       "  <thead>\n",
       "    <tr style=\"text-align: right;\">\n",
       "      <th></th>\n",
       "      <th>order_id</th>\n",
       "      <th>quantity</th>\n",
       "      <th>item_name</th>\n",
       "      <th>choice_description</th>\n",
       "      <th>item_price</th>\n",
       "    </tr>\n",
       "  </thead>\n",
       "  <tbody>\n",
       "    <tr>\n",
       "      <th>0</th>\n",
       "      <td>1</td>\n",
       "      <td>1</td>\n",
       "      <td>Chips and Fresh Tomato Salsa</td>\n",
       "      <td>NaN</td>\n",
       "      <td>$2.39</td>\n",
       "    </tr>\n",
       "    <tr>\n",
       "      <th>1</th>\n",
       "      <td>1</td>\n",
       "      <td>1</td>\n",
       "      <td>Izze</td>\n",
       "      <td>[Clementine]</td>\n",
       "      <td>$3.39</td>\n",
       "    </tr>\n",
       "    <tr>\n",
       "      <th>2</th>\n",
       "      <td>1</td>\n",
       "      <td>1</td>\n",
       "      <td>Nantucket Nectar</td>\n",
       "      <td>[Apple]</td>\n",
       "      <td>$3.39</td>\n",
       "    </tr>\n",
       "    <tr>\n",
       "      <th>3</th>\n",
       "      <td>1</td>\n",
       "      <td>1</td>\n",
       "      <td>Chips and Tomatillo-Green Chili Salsa</td>\n",
       "      <td>NaN</td>\n",
       "      <td>$2.39</td>\n",
       "    </tr>\n",
       "    <tr>\n",
       "      <th>4</th>\n",
       "      <td>2</td>\n",
       "      <td>2</td>\n",
       "      <td>Chicken Bowl</td>\n",
       "      <td>[Tomatillo-Red Chili Salsa (Hot), [Black Beans...</td>\n",
       "      <td>$16.98</td>\n",
       "    </tr>\n",
       "  </tbody>\n",
       "</table>\n",
       "</div>"
      ],
      "text/plain": [
       "  order_id  quantity                              item_name  \\\n",
       "0        1         1           Chips and Fresh Tomato Salsa   \n",
       "1        1         1                                   Izze   \n",
       "2        1         1                       Nantucket Nectar   \n",
       "3        1         1  Chips and Tomatillo-Green Chili Salsa   \n",
       "4        2         2                           Chicken Bowl   \n",
       "\n",
       "                                  choice_description item_price  \n",
       "0                                                NaN     $2.39   \n",
       "1                                       [Clementine]     $3.39   \n",
       "2                                            [Apple]     $3.39   \n",
       "3                                                NaN     $2.39   \n",
       "4  [Tomatillo-Red Chili Salsa (Hot), [Black Beans...    $16.98   "
      ]
     },
     "execution_count": 146,
     "metadata": {},
     "output_type": "execute_result"
    }
   ],
   "source": [
    "chipo.head()"
   ]
  },
  {
   "cell_type": "markdown",
   "id": "10f48632",
   "metadata": {},
   "source": [
    "- item_price의 값마다 $가 붙어있음\n",
    "    - 이를 제거하자"
   ]
  },
  {
   "cell_type": "code",
   "execution_count": 149,
   "id": "f02e8fbf",
   "metadata": {},
   "outputs": [],
   "source": [
    "chipo[\"item_price\"] = chipo[\"item_price\"].apply(lambda x: float(x[1:]))"
   ]
  },
  {
   "cell_type": "code",
   "execution_count": 150,
   "id": "40891ca9",
   "metadata": {},
   "outputs": [
    {
     "name": "stdout",
     "output_type": "stream",
     "text": [
      "<class 'pandas.core.frame.DataFrame'>\n",
      "RangeIndex: 4622 entries, 0 to 4621\n",
      "Data columns (total 5 columns):\n",
      " #   Column              Non-Null Count  Dtype  \n",
      "---  ------              --------------  -----  \n",
      " 0   order_id            4622 non-null   object \n",
      " 1   quantity            4622 non-null   int64  \n",
      " 2   item_name           4622 non-null   object \n",
      " 3   choice_description  3376 non-null   object \n",
      " 4   item_price          4622 non-null   float64\n",
      "dtypes: float64(1), int64(1), object(3)\n",
      "memory usage: 180.7+ KB\n"
     ]
    }
   ],
   "source": [
    "chipo.info()"
   ]
  },
  {
   "cell_type": "code",
   "execution_count": 151,
   "id": "2044e432",
   "metadata": {},
   "outputs": [
    {
     "data": {
      "text/html": [
       "<div>\n",
       "<style scoped>\n",
       "    .dataframe tbody tr th:only-of-type {\n",
       "        vertical-align: middle;\n",
       "    }\n",
       "\n",
       "    .dataframe tbody tr th {\n",
       "        vertical-align: top;\n",
       "    }\n",
       "\n",
       "    .dataframe thead th {\n",
       "        text-align: right;\n",
       "    }\n",
       "</style>\n",
       "<table border=\"1\" class=\"dataframe\">\n",
       "  <thead>\n",
       "    <tr style=\"text-align: right;\">\n",
       "      <th></th>\n",
       "      <th>quantity</th>\n",
       "      <th>item_price</th>\n",
       "    </tr>\n",
       "  </thead>\n",
       "  <tbody>\n",
       "    <tr>\n",
       "      <th>count</th>\n",
       "      <td>4622.000000</td>\n",
       "      <td>4622.000000</td>\n",
       "    </tr>\n",
       "    <tr>\n",
       "      <th>mean</th>\n",
       "      <td>1.075725</td>\n",
       "      <td>7.464336</td>\n",
       "    </tr>\n",
       "    <tr>\n",
       "      <th>std</th>\n",
       "      <td>0.410186</td>\n",
       "      <td>4.245557</td>\n",
       "    </tr>\n",
       "    <tr>\n",
       "      <th>min</th>\n",
       "      <td>1.000000</td>\n",
       "      <td>1.090000</td>\n",
       "    </tr>\n",
       "    <tr>\n",
       "      <th>25%</th>\n",
       "      <td>1.000000</td>\n",
       "      <td>3.390000</td>\n",
       "    </tr>\n",
       "    <tr>\n",
       "      <th>50%</th>\n",
       "      <td>1.000000</td>\n",
       "      <td>8.750000</td>\n",
       "    </tr>\n",
       "    <tr>\n",
       "      <th>75%</th>\n",
       "      <td>1.000000</td>\n",
       "      <td>9.250000</td>\n",
       "    </tr>\n",
       "    <tr>\n",
       "      <th>max</th>\n",
       "      <td>15.000000</td>\n",
       "      <td>44.250000</td>\n",
       "    </tr>\n",
       "  </tbody>\n",
       "</table>\n",
       "</div>"
      ],
      "text/plain": [
       "          quantity   item_price\n",
       "count  4622.000000  4622.000000\n",
       "mean      1.075725     7.464336\n",
       "std       0.410186     4.245557\n",
       "min       1.000000     1.090000\n",
       "25%       1.000000     3.390000\n",
       "50%       1.000000     8.750000\n",
       "75%       1.000000     9.250000\n",
       "max      15.000000    44.250000"
      ]
     },
     "execution_count": 151,
     "metadata": {},
     "output_type": "execute_result"
    }
   ],
   "source": [
    "chipo.describe()"
   ]
  },
  {
   "cell_type": "markdown",
   "id": "4fae225e",
   "metadata": {},
   "source": [
    "### 주문당 평균 계산금액"
   ]
  },
  {
   "cell_type": "code",
   "execution_count": 157,
   "id": "e86d4933",
   "metadata": {},
   "outputs": [
    {
     "data": {
      "text/plain": [
       "18.811428571428717"
      ]
     },
     "execution_count": 157,
     "metadata": {},
     "output_type": "execute_result"
    }
   ],
   "source": [
    "chipo.groupby(\"order_id\")[\"item_price\"].sum().mean()"
   ]
  },
  {
   "cell_type": "code",
   "execution_count": 275,
   "id": "a83e5e28",
   "metadata": {},
   "outputs": [
    {
     "data": {
      "text/plain": [
       "10.08"
      ]
     },
     "execution_count": 275,
     "metadata": {},
     "output_type": "execute_result"
    }
   ],
   "source": [
    "chipo.groupby(\"order_id\")[\"item_price\"].sum()"
   ]
  },
  {
   "cell_type": "markdown",
   "id": "d6e1668b",
   "metadata": {},
   "source": [
    "- 한 사람이 약 19달러를 주문함"
   ]
  },
  {
   "cell_type": "markdown",
   "id": "ff430ab1",
   "metadata": {},
   "source": [
    "### 한 주문에 10달러 이상 지불한 주문 번호"
   ]
  },
  {
   "cell_type": "code",
   "execution_count": 196,
   "id": "89e55246",
   "metadata": {},
   "outputs": [],
   "source": [
    "chipo_orderid_group = chipo.groupby(\"order_id\")[\"item_price\"].sum()"
   ]
  },
  {
   "cell_type": "code",
   "execution_count": 199,
   "id": "7cf213bc",
   "metadata": {},
   "outputs": [
    {
     "data": {
      "text/plain": [
       "order_id\n",
       "1       11.56\n",
       "10      13.20\n",
       "100     10.08\n",
       "1000    20.50\n",
       "1001    10.08\n",
       "1002    10.68\n",
       "1003    13.00\n",
       "1004    21.96\n",
       "1005    12.15\n",
       "1006    71.40\n",
       "Name: item_price, dtype: float64"
      ]
     },
     "execution_count": 199,
     "metadata": {},
     "output_type": "execute_result"
    }
   ],
   "source": [
    "chipo_orderid_group[chipo_orderid_group.values >= 10][:10]"
   ]
  },
  {
   "cell_type": "markdown",
   "id": "35ec7edf",
   "metadata": {},
   "source": [
    "### 각 아이템의 가격 유추"
   ]
  },
  {
   "cell_type": "code",
   "execution_count": 204,
   "id": "24991fc5",
   "metadata": {},
   "outputs": [
    {
     "data": {
      "text/html": [
       "<div>\n",
       "<style scoped>\n",
       "    .dataframe tbody tr th:only-of-type {\n",
       "        vertical-align: middle;\n",
       "    }\n",
       "\n",
       "    .dataframe tbody tr th {\n",
       "        vertical-align: top;\n",
       "    }\n",
       "\n",
       "    .dataframe thead th {\n",
       "        text-align: right;\n",
       "    }\n",
       "</style>\n",
       "<table border=\"1\" class=\"dataframe\">\n",
       "  <thead>\n",
       "    <tr style=\"text-align: right;\">\n",
       "      <th></th>\n",
       "      <th>order_id</th>\n",
       "      <th>quantity</th>\n",
       "      <th>item_name</th>\n",
       "      <th>choice_description</th>\n",
       "      <th>item_price</th>\n",
       "    </tr>\n",
       "  </thead>\n",
       "  <tbody>\n",
       "    <tr>\n",
       "      <th>0</th>\n",
       "      <td>1</td>\n",
       "      <td>1</td>\n",
       "      <td>Chips and Fresh Tomato Salsa</td>\n",
       "      <td>NaN</td>\n",
       "      <td>2.39</td>\n",
       "    </tr>\n",
       "    <tr>\n",
       "      <th>1</th>\n",
       "      <td>1</td>\n",
       "      <td>1</td>\n",
       "      <td>Izze</td>\n",
       "      <td>[Clementine]</td>\n",
       "      <td>3.39</td>\n",
       "    </tr>\n",
       "    <tr>\n",
       "      <th>2</th>\n",
       "      <td>1</td>\n",
       "      <td>1</td>\n",
       "      <td>Nantucket Nectar</td>\n",
       "      <td>[Apple]</td>\n",
       "      <td>3.39</td>\n",
       "    </tr>\n",
       "    <tr>\n",
       "      <th>3</th>\n",
       "      <td>1</td>\n",
       "      <td>1</td>\n",
       "      <td>Chips and Tomatillo-Green Chili Salsa</td>\n",
       "      <td>NaN</td>\n",
       "      <td>2.39</td>\n",
       "    </tr>\n",
       "    <tr>\n",
       "      <th>4</th>\n",
       "      <td>2</td>\n",
       "      <td>2</td>\n",
       "      <td>Chicken Bowl</td>\n",
       "      <td>[Tomatillo-Red Chili Salsa (Hot), [Black Beans...</td>\n",
       "      <td>16.98</td>\n",
       "    </tr>\n",
       "  </tbody>\n",
       "</table>\n",
       "</div>"
      ],
      "text/plain": [
       "  order_id  quantity                              item_name  \\\n",
       "0        1         1           Chips and Fresh Tomato Salsa   \n",
       "1        1         1                                   Izze   \n",
       "2        1         1                       Nantucket Nectar   \n",
       "3        1         1  Chips and Tomatillo-Green Chili Salsa   \n",
       "4        2         2                           Chicken Bowl   \n",
       "\n",
       "                                  choice_description  item_price  \n",
       "0                                                NaN        2.39  \n",
       "1                                       [Clementine]        3.39  \n",
       "2                                            [Apple]        3.39  \n",
       "3                                                NaN        2.39  \n",
       "4  [Tomatillo-Red Chili Salsa (Hot), [Black Beans...       16.98  "
      ]
     },
     "execution_count": 204,
     "metadata": {},
     "output_type": "execute_result"
    }
   ],
   "source": [
    "chipo.head()"
   ]
  },
  {
   "cell_type": "code",
   "execution_count": 207,
   "id": "8a1d974d",
   "metadata": {},
   "outputs": [],
   "source": [
    "chipo_one_item = chipo[chipo.quantity == 1]"
   ]
  },
  {
   "cell_type": "code",
   "execution_count": 213,
   "id": "52f09ee1",
   "metadata": {},
   "outputs": [],
   "source": [
    "price_item = chipo_one_item.groupby(\"item_name\").min()"
   ]
  },
  {
   "cell_type": "code",
   "execution_count": 214,
   "id": "a8480ed3",
   "metadata": {},
   "outputs": [
    {
     "data": {
      "text/html": [
       "<div>\n",
       "<style scoped>\n",
       "    .dataframe tbody tr th:only-of-type {\n",
       "        vertical-align: middle;\n",
       "    }\n",
       "\n",
       "    .dataframe tbody tr th {\n",
       "        vertical-align: top;\n",
       "    }\n",
       "\n",
       "    .dataframe thead th {\n",
       "        text-align: right;\n",
       "    }\n",
       "</style>\n",
       "<table border=\"1\" class=\"dataframe\">\n",
       "  <thead>\n",
       "    <tr style=\"text-align: right;\">\n",
       "      <th></th>\n",
       "      <th>order_id</th>\n",
       "      <th>quantity</th>\n",
       "      <th>choice_description</th>\n",
       "      <th>item_price</th>\n",
       "    </tr>\n",
       "    <tr>\n",
       "      <th>item_name</th>\n",
       "      <th></th>\n",
       "      <th></th>\n",
       "      <th></th>\n",
       "      <th></th>\n",
       "    </tr>\n",
       "  </thead>\n",
       "  <tbody>\n",
       "    <tr>\n",
       "      <th>6 Pack Soft Drink</th>\n",
       "      <td>1076</td>\n",
       "      <td>1</td>\n",
       "      <td>[Coke]</td>\n",
       "      <td>6.49</td>\n",
       "    </tr>\n",
       "    <tr>\n",
       "      <th>Barbacoa Bowl</th>\n",
       "      <td>1000</td>\n",
       "      <td>1</td>\n",
       "      <td>[Fresh Tomato (Mild), [Lettuce, Black Beans, R...</td>\n",
       "      <td>8.69</td>\n",
       "    </tr>\n",
       "    <tr>\n",
       "      <th>Barbacoa Burrito</th>\n",
       "      <td>1002</td>\n",
       "      <td>1</td>\n",
       "      <td>[Fresh Tomato (Mild), [Black Beans, Rice, Sour...</td>\n",
       "      <td>8.69</td>\n",
       "    </tr>\n",
       "    <tr>\n",
       "      <th>Barbacoa Crispy Tacos</th>\n",
       "      <td>110</td>\n",
       "      <td>1</td>\n",
       "      <td>[Fresh Tomato Salsa, Guacamole]</td>\n",
       "      <td>8.99</td>\n",
       "    </tr>\n",
       "    <tr>\n",
       "      <th>Barbacoa Salad Bowl</th>\n",
       "      <td>1283</td>\n",
       "      <td>1</td>\n",
       "      <td>[Fresh Tomato Salsa, Guacamole]</td>\n",
       "      <td>9.39</td>\n",
       "    </tr>\n",
       "  </tbody>\n",
       "</table>\n",
       "</div>"
      ],
      "text/plain": [
       "                      order_id  quantity  \\\n",
       "item_name                                  \n",
       "6 Pack Soft Drink         1076         1   \n",
       "Barbacoa Bowl             1000         1   \n",
       "Barbacoa Burrito          1002         1   \n",
       "Barbacoa Crispy Tacos      110         1   \n",
       "Barbacoa Salad Bowl       1283         1   \n",
       "\n",
       "                                                      choice_description  \\\n",
       "item_name                                                                  \n",
       "6 Pack Soft Drink                                                 [Coke]   \n",
       "Barbacoa Bowl          [Fresh Tomato (Mild), [Lettuce, Black Beans, R...   \n",
       "Barbacoa Burrito       [Fresh Tomato (Mild), [Black Beans, Rice, Sour...   \n",
       "Barbacoa Crispy Tacos                    [Fresh Tomato Salsa, Guacamole]   \n",
       "Barbacoa Salad Bowl                      [Fresh Tomato Salsa, Guacamole]   \n",
       "\n",
       "                       item_price  \n",
       "item_name                          \n",
       "6 Pack Soft Drink            6.49  \n",
       "Barbacoa Bowl                8.69  \n",
       "Barbacoa Burrito             8.69  \n",
       "Barbacoa Crispy Tacos        8.99  \n",
       "Barbacoa Salad Bowl          9.39  "
      ]
     },
     "execution_count": 214,
     "metadata": {},
     "output_type": "execute_result"
    }
   ],
   "source": [
    "price_item.head()"
   ]
  },
  {
   "cell_type": "code",
   "execution_count": 217,
   "id": "0f6fabf7",
   "metadata": {},
   "outputs": [
    {
     "data": {
      "text/html": [
       "<div>\n",
       "<style scoped>\n",
       "    .dataframe tbody tr th:only-of-type {\n",
       "        vertical-align: middle;\n",
       "    }\n",
       "\n",
       "    .dataframe tbody tr th {\n",
       "        vertical-align: top;\n",
       "    }\n",
       "\n",
       "    .dataframe thead th {\n",
       "        text-align: right;\n",
       "    }\n",
       "</style>\n",
       "<table border=\"1\" class=\"dataframe\">\n",
       "  <thead>\n",
       "    <tr style=\"text-align: right;\">\n",
       "      <th></th>\n",
       "      <th>order_id</th>\n",
       "      <th>quantity</th>\n",
       "      <th>choice_description</th>\n",
       "      <th>item_price</th>\n",
       "    </tr>\n",
       "    <tr>\n",
       "      <th>item_name</th>\n",
       "      <th></th>\n",
       "      <th></th>\n",
       "      <th></th>\n",
       "      <th></th>\n",
       "    </tr>\n",
       "  </thead>\n",
       "  <tbody>\n",
       "    <tr>\n",
       "      <th>Steak Salad Bowl</th>\n",
       "      <td>1032</td>\n",
       "      <td>1</td>\n",
       "      <td>[Fresh Tomato Salsa, Lettuce]</td>\n",
       "      <td>9.39</td>\n",
       "    </tr>\n",
       "    <tr>\n",
       "      <th>Barbacoa Salad Bowl</th>\n",
       "      <td>1283</td>\n",
       "      <td>1</td>\n",
       "      <td>[Fresh Tomato Salsa, Guacamole]</td>\n",
       "      <td>9.39</td>\n",
       "    </tr>\n",
       "    <tr>\n",
       "      <th>Carnitas Salad Bowl</th>\n",
       "      <td>1035</td>\n",
       "      <td>1</td>\n",
       "      <td>[Fresh Tomato Salsa, [Rice, Black Beans, Chees...</td>\n",
       "      <td>9.39</td>\n",
       "    </tr>\n",
       "    <tr>\n",
       "      <th>Carnitas Soft Tacos</th>\n",
       "      <td>1011</td>\n",
       "      <td>1</td>\n",
       "      <td>[Fresh Tomato Salsa (Mild), [Black Beans, Rice...</td>\n",
       "      <td>8.99</td>\n",
       "    </tr>\n",
       "    <tr>\n",
       "      <th>Carnitas Crispy Tacos</th>\n",
       "      <td>1774</td>\n",
       "      <td>1</td>\n",
       "      <td>[Fresh Tomato Salsa, [Fajita Vegetables, Rice,...</td>\n",
       "      <td>8.99</td>\n",
       "    </tr>\n",
       "    <tr>\n",
       "      <th>Steak Soft Tacos</th>\n",
       "      <td>1054</td>\n",
       "      <td>1</td>\n",
       "      <td>[Fresh Tomato Salsa (Mild), [Cheese, Sour Cream]]</td>\n",
       "      <td>8.99</td>\n",
       "    </tr>\n",
       "    <tr>\n",
       "      <th>Carnitas Salad</th>\n",
       "      <td>1500</td>\n",
       "      <td>1</td>\n",
       "      <td>[[Fresh Tomato Salsa (Mild), Roasted Chili Cor...</td>\n",
       "      <td>8.99</td>\n",
       "    </tr>\n",
       "    <tr>\n",
       "      <th>Carnitas Bowl</th>\n",
       "      <td>1007</td>\n",
       "      <td>1</td>\n",
       "      <td>[Fresh Tomato (Mild), [Guacamole, Lettuce, Ric...</td>\n",
       "      <td>8.99</td>\n",
       "    </tr>\n",
       "    <tr>\n",
       "      <th>Barbacoa Soft Tacos</th>\n",
       "      <td>1103</td>\n",
       "      <td>1</td>\n",
       "      <td>[Fresh Tomato Salsa, [Black Beans, Cheese, Let...</td>\n",
       "      <td>8.99</td>\n",
       "    </tr>\n",
       "    <tr>\n",
       "      <th>Barbacoa Crispy Tacos</th>\n",
       "      <td>110</td>\n",
       "      <td>1</td>\n",
       "      <td>[Fresh Tomato Salsa, Guacamole]</td>\n",
       "      <td>8.99</td>\n",
       "    </tr>\n",
       "  </tbody>\n",
       "</table>\n",
       "</div>"
      ],
      "text/plain": [
       "                      order_id  quantity  \\\n",
       "item_name                                  \n",
       "Steak Salad Bowl          1032         1   \n",
       "Barbacoa Salad Bowl       1283         1   \n",
       "Carnitas Salad Bowl       1035         1   \n",
       "Carnitas Soft Tacos       1011         1   \n",
       "Carnitas Crispy Tacos     1774         1   \n",
       "Steak Soft Tacos          1054         1   \n",
       "Carnitas Salad            1500         1   \n",
       "Carnitas Bowl             1007         1   \n",
       "Barbacoa Soft Tacos       1103         1   \n",
       "Barbacoa Crispy Tacos      110         1   \n",
       "\n",
       "                                                      choice_description  \\\n",
       "item_name                                                                  \n",
       "Steak Salad Bowl                           [Fresh Tomato Salsa, Lettuce]   \n",
       "Barbacoa Salad Bowl                      [Fresh Tomato Salsa, Guacamole]   \n",
       "Carnitas Salad Bowl    [Fresh Tomato Salsa, [Rice, Black Beans, Chees...   \n",
       "Carnitas Soft Tacos    [Fresh Tomato Salsa (Mild), [Black Beans, Rice...   \n",
       "Carnitas Crispy Tacos  [Fresh Tomato Salsa, [Fajita Vegetables, Rice,...   \n",
       "Steak Soft Tacos       [Fresh Tomato Salsa (Mild), [Cheese, Sour Cream]]   \n",
       "Carnitas Salad         [[Fresh Tomato Salsa (Mild), Roasted Chili Cor...   \n",
       "Carnitas Bowl          [Fresh Tomato (Mild), [Guacamole, Lettuce, Ric...   \n",
       "Barbacoa Soft Tacos    [Fresh Tomato Salsa, [Black Beans, Cheese, Let...   \n",
       "Barbacoa Crispy Tacos                    [Fresh Tomato Salsa, Guacamole]   \n",
       "\n",
       "                       item_price  \n",
       "item_name                          \n",
       "Steak Salad Bowl             9.39  \n",
       "Barbacoa Salad Bowl          9.39  \n",
       "Carnitas Salad Bowl          9.39  \n",
       "Carnitas Soft Tacos          8.99  \n",
       "Carnitas Crispy Tacos        8.99  \n",
       "Steak Soft Tacos             8.99  \n",
       "Carnitas Salad               8.99  \n",
       "Carnitas Bowl                8.99  \n",
       "Barbacoa Soft Tacos          8.99  \n",
       "Barbacoa Crispy Tacos        8.99  "
      ]
     },
     "execution_count": 217,
     "metadata": {},
     "output_type": "execute_result"
    }
   ],
   "source": [
    "price_item.sort_values(by = \"item_price\", ascending = False)[:10]"
   ]
  },
  {
   "cell_type": "code",
   "execution_count": 277,
   "id": "2f1b9efc",
   "metadata": {},
   "outputs": [
    {
     "data": {
      "text/html": [
       "<div>\n",
       "<style scoped>\n",
       "    .dataframe tbody tr th:only-of-type {\n",
       "        vertical-align: middle;\n",
       "    }\n",
       "\n",
       "    .dataframe tbody tr th {\n",
       "        vertical-align: top;\n",
       "    }\n",
       "\n",
       "    .dataframe thead th {\n",
       "        text-align: right;\n",
       "    }\n",
       "</style>\n",
       "<table border=\"1\" class=\"dataframe\">\n",
       "  <thead>\n",
       "    <tr style=\"text-align: right;\">\n",
       "      <th></th>\n",
       "      <th>order_id</th>\n",
       "      <th>quantity</th>\n",
       "      <th>choice_description</th>\n",
       "      <th>item_price</th>\n",
       "    </tr>\n",
       "    <tr>\n",
       "      <th>item_name</th>\n",
       "      <th></th>\n",
       "      <th></th>\n",
       "      <th></th>\n",
       "      <th></th>\n",
       "    </tr>\n",
       "  </thead>\n",
       "  <tbody>\n",
       "    <tr>\n",
       "      <th>Bottled Water</th>\n",
       "      <td>1009</td>\n",
       "      <td>1</td>\n",
       "      <td>NaN</td>\n",
       "      <td>1.09</td>\n",
       "    </tr>\n",
       "    <tr>\n",
       "      <th>Canned Soda</th>\n",
       "      <td>100</td>\n",
       "      <td>1</td>\n",
       "      <td>[Coca Cola]</td>\n",
       "      <td>1.09</td>\n",
       "    </tr>\n",
       "    <tr>\n",
       "      <th>Canned Soft Drink</th>\n",
       "      <td>1003</td>\n",
       "      <td>1</td>\n",
       "      <td>[Coke]</td>\n",
       "      <td>1.25</td>\n",
       "    </tr>\n",
       "    <tr>\n",
       "      <th>Side of Chips</th>\n",
       "      <td>1002</td>\n",
       "      <td>1</td>\n",
       "      <td>NaN</td>\n",
       "      <td>1.69</td>\n",
       "    </tr>\n",
       "    <tr>\n",
       "      <th>Chips</th>\n",
       "      <td>1005</td>\n",
       "      <td>1</td>\n",
       "      <td>NaN</td>\n",
       "      <td>1.99</td>\n",
       "    </tr>\n",
       "    <tr>\n",
       "      <th>Chips and Fresh Tomato Salsa</th>\n",
       "      <td>1</td>\n",
       "      <td>1</td>\n",
       "      <td>NaN</td>\n",
       "      <td>2.29</td>\n",
       "    </tr>\n",
       "    <tr>\n",
       "      <th>Chips and Tomatillo-Red Chili Salsa</th>\n",
       "      <td>1215</td>\n",
       "      <td>1</td>\n",
       "      <td>NaN</td>\n",
       "      <td>2.39</td>\n",
       "    </tr>\n",
       "    <tr>\n",
       "      <th>Chips and Tomatillo-Green Chili Salsa</th>\n",
       "      <td>1</td>\n",
       "      <td>1</td>\n",
       "      <td>NaN</td>\n",
       "      <td>2.39</td>\n",
       "    </tr>\n",
       "    <tr>\n",
       "      <th>Chips and Roasted Chili-Corn Salsa</th>\n",
       "      <td>1156</td>\n",
       "      <td>1</td>\n",
       "      <td>NaN</td>\n",
       "      <td>2.39</td>\n",
       "    </tr>\n",
       "    <tr>\n",
       "      <th>Chips and Tomatillo Red Chili Salsa</th>\n",
       "      <td>1020</td>\n",
       "      <td>1</td>\n",
       "      <td>NaN</td>\n",
       "      <td>2.95</td>\n",
       "    </tr>\n",
       "  </tbody>\n",
       "</table>\n",
       "</div>"
      ],
      "text/plain": [
       "                                      order_id  quantity choice_description  \\\n",
       "item_name                                                                     \n",
       "Bottled Water                             1009         1                NaN   \n",
       "Canned Soda                                100         1        [Coca Cola]   \n",
       "Canned Soft Drink                         1003         1             [Coke]   \n",
       "Side of Chips                             1002         1                NaN   \n",
       "Chips                                     1005         1                NaN   \n",
       "Chips and Fresh Tomato Salsa                 1         1                NaN   \n",
       "Chips and Tomatillo-Red Chili Salsa       1215         1                NaN   \n",
       "Chips and Tomatillo-Green Chili Salsa        1         1                NaN   \n",
       "Chips and Roasted Chili-Corn Salsa        1156         1                NaN   \n",
       "Chips and Tomatillo Red Chili Salsa       1020         1                NaN   \n",
       "\n",
       "                                       item_price  \n",
       "item_name                                          \n",
       "Bottled Water                                1.09  \n",
       "Canned Soda                                  1.09  \n",
       "Canned Soft Drink                            1.25  \n",
       "Side of Chips                                1.69  \n",
       "Chips                                        1.99  \n",
       "Chips and Fresh Tomato Salsa                 2.29  \n",
       "Chips and Tomatillo-Red Chili Salsa          2.39  \n",
       "Chips and Tomatillo-Green Chili Salsa        2.39  \n",
       "Chips and Roasted Chili-Corn Salsa           2.39  \n",
       "Chips and Tomatillo Red Chili Salsa          2.95  "
      ]
     },
     "execution_count": 277,
     "metadata": {},
     "output_type": "execute_result"
    }
   ],
   "source": [
    "price_item.sort_values(by = \"item_price\", ascending = True)[:10]"
   ]
  },
  {
   "cell_type": "markdown",
   "id": "99db4dd9",
   "metadata": {},
   "source": [
    "### 시각화"
   ]
  },
  {
   "cell_type": "markdown",
   "id": "471b7ca6",
   "metadata": {},
   "source": [
    "- 아이템의 가격 분포"
   ]
  },
  {
   "cell_type": "code",
   "execution_count": 222,
   "id": "9c3c2c89",
   "metadata": {},
   "outputs": [],
   "source": [
    "x_pos = np.arange(len(price_item))"
   ]
  },
  {
   "cell_type": "code",
   "execution_count": 235,
   "id": "204bfdf4",
   "metadata": {},
   "outputs": [],
   "source": [
    "item_price = price_item[\"item_price\"].tolist()"
   ]
  },
  {
   "cell_type": "code",
   "execution_count": 236,
   "id": "3b2d4462",
   "metadata": {},
   "outputs": [
    {
     "data": {
      "image/png": "[encoded data removed]",
      "text/plain": [
       "<Figure size 640x480 with 1 Axes>"
      ]
     },
     "metadata": {},
     "output_type": "display_data"
    }
   ],
   "source": [
    "plt.bar(x_pos, item_price)\n",
    "plt.ylabel(\"item_price($)\")\n",
    "plt.title(\"Distribution of item price\")\n",
    "plt.show()"
   ]
  },
  {
   "cell_type": "code",
   "execution_count": 232,
   "id": "c37bf8fa",
   "metadata": {},
   "outputs": [
    {
     "data": {
      "image/png": "[encoded data removed]",
      "text/plain": [
       "<Figure size 640x480 with 1 Axes>"
      ]
     },
     "metadata": {},
     "output_type": "display_data"
    }
   ],
   "source": [
    "plt.hist(item_price)\n",
    "plt.ylabel(\"count\")\n",
    "plt.title(\"Histogram of item price\")\n",
    "plt.show()"
   ]
  },
  {
   "cell_type": "markdown",
   "id": "5335dcbe",
   "metadata": {},
   "source": [
    "### 가장 비싼 주문에서 아이템이 총 몇 개 팔렸나"
   ]
  },
  {
   "cell_type": "code",
   "execution_count": 242,
   "id": "6db06de8",
   "metadata": {},
   "outputs": [
    {
     "data": {
      "text/html": [
       "<div>\n",
       "<style scoped>\n",
       "    .dataframe tbody tr th:only-of-type {\n",
       "        vertical-align: middle;\n",
       "    }\n",
       "\n",
       "    .dataframe tbody tr th {\n",
       "        vertical-align: top;\n",
       "    }\n",
       "\n",
       "    .dataframe thead th {\n",
       "        text-align: right;\n",
       "    }\n",
       "</style>\n",
       "<table border=\"1\" class=\"dataframe\">\n",
       "  <thead>\n",
       "    <tr style=\"text-align: right;\">\n",
       "      <th></th>\n",
       "      <th>quantity</th>\n",
       "      <th>item_price</th>\n",
       "    </tr>\n",
       "    <tr>\n",
       "      <th>order_id</th>\n",
       "      <th></th>\n",
       "      <th></th>\n",
       "    </tr>\n",
       "  </thead>\n",
       "  <tbody>\n",
       "    <tr>\n",
       "      <th>926</th>\n",
       "      <td>23</td>\n",
       "      <td>205.25</td>\n",
       "    </tr>\n",
       "    <tr>\n",
       "      <th>1443</th>\n",
       "      <td>35</td>\n",
       "      <td>160.74</td>\n",
       "    </tr>\n",
       "    <tr>\n",
       "      <th>1483</th>\n",
       "      <td>14</td>\n",
       "      <td>139.00</td>\n",
       "    </tr>\n",
       "    <tr>\n",
       "      <th>691</th>\n",
       "      <td>11</td>\n",
       "      <td>118.25</td>\n",
       "    </tr>\n",
       "    <tr>\n",
       "      <th>1786</th>\n",
       "      <td>20</td>\n",
       "      <td>114.30</td>\n",
       "    </tr>\n",
       "    <tr>\n",
       "      <th>...</th>\n",
       "      <td>...</td>\n",
       "      <td>...</td>\n",
       "    </tr>\n",
       "    <tr>\n",
       "      <th>1014</th>\n",
       "      <td>2</td>\n",
       "      <td>10.08</td>\n",
       "    </tr>\n",
       "    <tr>\n",
       "      <th>730</th>\n",
       "      <td>2</td>\n",
       "      <td>10.08</td>\n",
       "    </tr>\n",
       "    <tr>\n",
       "      <th>14</th>\n",
       "      <td>2</td>\n",
       "      <td>10.08</td>\n",
       "    </tr>\n",
       "    <tr>\n",
       "      <th>332</th>\n",
       "      <td>2</td>\n",
       "      <td>10.08</td>\n",
       "    </tr>\n",
       "    <tr>\n",
       "      <th>393</th>\n",
       "      <td>2</td>\n",
       "      <td>10.08</td>\n",
       "    </tr>\n",
       "  </tbody>\n",
       "</table>\n",
       "<p>1834 rows × 2 columns</p>\n",
       "</div>"
      ],
      "text/plain": [
       "          quantity  item_price\n",
       "order_id                      \n",
       "926             23      205.25\n",
       "1443            35      160.74\n",
       "1483            14      139.00\n",
       "691             11      118.25\n",
       "1786            20      114.30\n",
       "...            ...         ...\n",
       "1014             2       10.08\n",
       "730              2       10.08\n",
       "14               2       10.08\n",
       "332              2       10.08\n",
       "393              2       10.08\n",
       "\n",
       "[1834 rows x 2 columns]"
      ]
     },
     "execution_count": 242,
     "metadata": {},
     "output_type": "execute_result"
    }
   ],
   "source": [
    "chipo.groupby(\"order_id\").sum().sort_values(by = \"item_price\", ascending = False)"
   ]
  },
  {
   "cell_type": "markdown",
   "id": "4a04b51d",
   "metadata": {},
   "source": [
    "- 23개 주문으로 총 금액은 205.25$로 확인"
   ]
  },
  {
   "cell_type": "markdown",
   "id": "8aec194e",
   "metadata": {},
   "source": [
    "### Veggie Salad Bowl이 몇 번 주문되었는가"
   ]
  },
  {
   "cell_type": "code",
   "execution_count": 243,
   "id": "c85e58a9",
   "metadata": {},
   "outputs": [
    {
     "data": {
      "text/html": [
       "<div>\n",
       "<style scoped>\n",
       "    .dataframe tbody tr th:only-of-type {\n",
       "        vertical-align: middle;\n",
       "    }\n",
       "\n",
       "    .dataframe tbody tr th {\n",
       "        vertical-align: top;\n",
       "    }\n",
       "\n",
       "    .dataframe thead th {\n",
       "        text-align: right;\n",
       "    }\n",
       "</style>\n",
       "<table border=\"1\" class=\"dataframe\">\n",
       "  <thead>\n",
       "    <tr style=\"text-align: right;\">\n",
       "      <th></th>\n",
       "      <th>order_id</th>\n",
       "      <th>quantity</th>\n",
       "      <th>item_name</th>\n",
       "      <th>choice_description</th>\n",
       "      <th>item_price</th>\n",
       "    </tr>\n",
       "  </thead>\n",
       "  <tbody>\n",
       "    <tr>\n",
       "      <th>0</th>\n",
       "      <td>1</td>\n",
       "      <td>1</td>\n",
       "      <td>Chips and Fresh Tomato Salsa</td>\n",
       "      <td>NaN</td>\n",
       "      <td>2.39</td>\n",
       "    </tr>\n",
       "    <tr>\n",
       "      <th>1</th>\n",
       "      <td>1</td>\n",
       "      <td>1</td>\n",
       "      <td>Izze</td>\n",
       "      <td>[Clementine]</td>\n",
       "      <td>3.39</td>\n",
       "    </tr>\n",
       "    <tr>\n",
       "      <th>2</th>\n",
       "      <td>1</td>\n",
       "      <td>1</td>\n",
       "      <td>Nantucket Nectar</td>\n",
       "      <td>[Apple]</td>\n",
       "      <td>3.39</td>\n",
       "    </tr>\n",
       "    <tr>\n",
       "      <th>3</th>\n",
       "      <td>1</td>\n",
       "      <td>1</td>\n",
       "      <td>Chips and Tomatillo-Green Chili Salsa</td>\n",
       "      <td>NaN</td>\n",
       "      <td>2.39</td>\n",
       "    </tr>\n",
       "    <tr>\n",
       "      <th>4</th>\n",
       "      <td>2</td>\n",
       "      <td>2</td>\n",
       "      <td>Chicken Bowl</td>\n",
       "      <td>[Tomatillo-Red Chili Salsa (Hot), [Black Beans...</td>\n",
       "      <td>16.98</td>\n",
       "    </tr>\n",
       "  </tbody>\n",
       "</table>\n",
       "</div>"
      ],
      "text/plain": [
       "  order_id  quantity                              item_name  \\\n",
       "0        1         1           Chips and Fresh Tomato Salsa   \n",
       "1        1         1                                   Izze   \n",
       "2        1         1                       Nantucket Nectar   \n",
       "3        1         1  Chips and Tomatillo-Green Chili Salsa   \n",
       "4        2         2                           Chicken Bowl   \n",
       "\n",
       "                                  choice_description  item_price  \n",
       "0                                                NaN        2.39  \n",
       "1                                       [Clementine]        3.39  \n",
       "2                                            [Apple]        3.39  \n",
       "3                                                NaN        2.39  \n",
       "4  [Tomatillo-Red Chili Salsa (Hot), [Black Beans...       16.98  "
      ]
     },
     "execution_count": 243,
     "metadata": {},
     "output_type": "execute_result"
    }
   ],
   "source": [
    "chipo.head()"
   ]
  },
  {
   "cell_type": "code",
   "execution_count": 249,
   "id": "8547cbfb",
   "metadata": {},
   "outputs": [],
   "source": [
    "chipo_veggie = chipo[chipo[\"item_name\"] == \"Veggie Salad Bowl\"]"
   ]
  },
  {
   "cell_type": "code",
   "execution_count": 268,
   "id": "a7d8c820",
   "metadata": {},
   "outputs": [
    {
     "data": {
      "text/html": [
       "<div>\n",
       "<style scoped>\n",
       "    .dataframe tbody tr th:only-of-type {\n",
       "        vertical-align: middle;\n",
       "    }\n",
       "\n",
       "    .dataframe tbody tr th {\n",
       "        vertical-align: top;\n",
       "    }\n",
       "\n",
       "    .dataframe thead th {\n",
       "        text-align: right;\n",
       "    }\n",
       "</style>\n",
       "<table border=\"1\" class=\"dataframe\">\n",
       "  <thead>\n",
       "    <tr style=\"text-align: right;\">\n",
       "      <th></th>\n",
       "      <th>order_id</th>\n",
       "      <th>quantity</th>\n",
       "      <th>item_name</th>\n",
       "      <th>choice_description</th>\n",
       "      <th>item_price</th>\n",
       "    </tr>\n",
       "  </thead>\n",
       "  <tbody>\n",
       "    <tr>\n",
       "      <th>186</th>\n",
       "      <td>83</td>\n",
       "      <td>1</td>\n",
       "      <td>Veggie Salad Bowl</td>\n",
       "      <td>[Fresh Tomato Salsa, [Fajita Vegetables, Rice,...</td>\n",
       "      <td>11.25</td>\n",
       "    </tr>\n",
       "    <tr>\n",
       "      <th>295</th>\n",
       "      <td>128</td>\n",
       "      <td>1</td>\n",
       "      <td>Veggie Salad Bowl</td>\n",
       "      <td>[Fresh Tomato Salsa, [Fajita Vegetables, Lettu...</td>\n",
       "      <td>11.25</td>\n",
       "    </tr>\n",
       "    <tr>\n",
       "      <th>455</th>\n",
       "      <td>195</td>\n",
       "      <td>1</td>\n",
       "      <td>Veggie Salad Bowl</td>\n",
       "      <td>[Fresh Tomato Salsa, [Fajita Vegetables, Rice,...</td>\n",
       "      <td>11.25</td>\n",
       "    </tr>\n",
       "    <tr>\n",
       "      <th>496</th>\n",
       "      <td>207</td>\n",
       "      <td>1</td>\n",
       "      <td>Veggie Salad Bowl</td>\n",
       "      <td>[Fresh Tomato Salsa, [Rice, Lettuce, Guacamole...</td>\n",
       "      <td>11.25</td>\n",
       "    </tr>\n",
       "    <tr>\n",
       "      <th>960</th>\n",
       "      <td>394</td>\n",
       "      <td>1</td>\n",
       "      <td>Veggie Salad Bowl</td>\n",
       "      <td>[Fresh Tomato Salsa, [Fajita Vegetables, Lettu...</td>\n",
       "      <td>8.75</td>\n",
       "    </tr>\n",
       "  </tbody>\n",
       "</table>\n",
       "</div>"
      ],
      "text/plain": [
       "    order_id  quantity          item_name  \\\n",
       "186       83         1  Veggie Salad Bowl   \n",
       "295      128         1  Veggie Salad Bowl   \n",
       "455      195         1  Veggie Salad Bowl   \n",
       "496      207         1  Veggie Salad Bowl   \n",
       "960      394         1  Veggie Salad Bowl   \n",
       "\n",
       "                                    choice_description  item_price  \n",
       "186  [Fresh Tomato Salsa, [Fajita Vegetables, Rice,...       11.25  \n",
       "295  [Fresh Tomato Salsa, [Fajita Vegetables, Lettu...       11.25  \n",
       "455  [Fresh Tomato Salsa, [Fajita Vegetables, Rice,...       11.25  \n",
       "496  [Fresh Tomato Salsa, [Rice, Lettuce, Guacamole...       11.25  \n",
       "960  [Fresh Tomato Salsa, [Fajita Vegetables, Lettu...        8.75  "
      ]
     },
     "execution_count": 268,
     "metadata": {},
     "output_type": "execute_result"
    }
   ],
   "source": [
    "chipo_veggie.head()"
   ]
  },
  {
   "cell_type": "code",
   "execution_count": 270,
   "id": "246fbe86",
   "metadata": {},
   "outputs": [],
   "source": [
    "# order_id 중복행 제거\n",
    "chipo_veggie = chipo_veggie.drop_duplicates([\"item_price\", \"order_id\"])"
   ]
  },
  {
   "cell_type": "code",
   "execution_count": 272,
   "id": "f1b37ed0",
   "metadata": {},
   "outputs": [
    {
     "data": {
      "text/plain": [
       "18"
      ]
     },
     "execution_count": 272,
     "metadata": {},
     "output_type": "execute_result"
    }
   ],
   "source": [
    "len(chipo_veggie)"
   ]
  },
  {
   "cell_type": "markdown",
   "id": "9644fd50",
   "metadata": {},
   "source": [
    "# 정리\n",
    "\n",
    "| 탐색 | 해당 피처 | 인사이트 |\n",
    "|---|---|---|\n",
    "| 가장 많이 주문된 아이템 | item_name | Chicken Bowl이 가장 인기 있는 아이템으로 확인 |\n",
    "| 주문된 전체 아이템 종류 | item_name | 총 50개의 주문된 아이템 확인 |\n",
    "| 아이템의 가격 | item_price | 아이템의 판매 가격은 1-9달러까지 있으며 대부분 2-4, 혹은 6-8달러 정도로 확인|\n"
   ]
  },
  {
   "cell_type": "code",
   "execution_count": null,
   "id": "d302f280",
   "metadata": {},
   "outputs": [],
   "source": []
  }
 ],
 "metadata": {
  "kernelspec": {
   "display_name": "Python 3 (ipykernel)",
   "language": "python",
   "name": "python3"
  },
  "language_info": {
   "codemirror_mode": {
    "name": "ipython",
    "version": 3
   },
   "file_extension": ".py",
   "mimetype": "text/x-python",
   "name": "python",
   "nbconvert_exporter": "python",
   "pygments_lexer": "ipython3",
   "version": "3.9.13"
  }
 },
 "nbformat": 4,
 "nbformat_minor": 5
}
